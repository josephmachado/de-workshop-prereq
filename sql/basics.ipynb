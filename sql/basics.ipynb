{
 "cells": [
  {
   "cell_type": "markdown",
   "id": "7a44a5a6-9745-4a65-912a-c747da44e193",
   "metadata": {},
   "source": [
    "# Setup"
   ]
  },
  {
   "cell_type": "code",
   "execution_count": null,
   "id": "9632226c-7af6-4894-9682-5b2e014baccf",
   "metadata": {},
   "outputs": [],
   "source": [
    "! python ./setup.py"
   ]
  },
  {
   "cell_type": "markdown",
   "id": "b6a34d44-87d2-4dd1-b4bc-80d6e9f255e8",
   "metadata": {},
   "source": [
    "## Connect to duckdb\n"
   ]
  },
  {
   "cell_type": "code",
   "execution_count": null,
   "id": "ea4e3574-043f-4aa8-8bbb-2d3acb716b37",
   "metadata": {},
   "outputs": [],
   "source": [
    "import duckdb\n",
    "import pandas as pd\n",
    "\n",
    "%load_ext sql\n",
    "conn = duckdb.connect(\"tpch.db\")\n",
    "%sql conn --alias duckdb"
   ]
  },
  {
   "cell_type": "code",
   "execution_count": null,
   "id": "88bfbcd2-0553-4015-ab7a-f2552269b1a3",
   "metadata": {},
   "outputs": [],
   "source": [
    "import duckdb\n",
    "import pandas as pd\n",
    "# No need to import duckdb_engine\n",
    "#  jupysql will auto-detect the driver needed based on the connection string!\n",
    "\n",
    "# Import jupysql Jupyter extension to create SQL cells\n",
    "%load_ext sql"
   ]
  },
  {
   "cell_type": "code",
   "execution_count": null,
   "id": "7f49bd76-6d61-4be3-bac3-3d523ec30a36",
   "metadata": {},
   "outputs": [],
   "source": [
    "%%sql\n",
    "show tables;"
   ]
  },
  {
   "cell_type": "markdown",
   "id": "f530307d-399a-4b6d-876f-d00490ea4370",
   "metadata": {},
   "source": [
    "# [GET DATA] Use SELECT...FROM, LIMIT, WHERE, & ORDER BY to read the required data from tables\n",
    "\n",
    "The most common use for querying is to read data in our tables. We can do this using a `SELECT ... FROM` statement, as shown below.\n",
    "\n"
   ]
  },
  {
   "cell_type": "code",
   "execution_count": null,
   "id": "0e224f8b-e17c-4be6-852b-38c944939c39",
   "metadata": {},
   "outputs": [],
   "source": [
    "%%sql\n",
    "SELECT\n",
    "  *\n",
    "FROM\n",
    "  customer\n",
    "LIMIT\n",
    "  1;"
   ]
  },
  {
   "cell_type": "code",
   "execution_count": null,
   "id": "0540595e-6bee-4405-ae94-430971bb78a9",
   "metadata": {},
   "outputs": [],
   "source": [
    "%%sql\n",
    "-- use * to specify all columns\n",
    "SELECT\n",
    "  *\n",
    "FROM\n",
    "  orders\n",
    "LIMIT\n",
    "  5;"
   ]
  },
  {
   "cell_type": "markdown",
   "id": "07951d86-9c0e-496b-872c-f53d95412a81",
   "metadata": {},
   "source": [
    "However, running a `SELECT ... FROM` statement can cause issues when the data set is extensive.\n"
   ]
  },
  {
   "cell_type": "code",
   "execution_count": null,
   "id": "bbecd2f1-5925-46c9-adb2-5dd3bc2f5661",
   "metadata": {},
   "outputs": [],
   "source": [
    "%%sql\n",
    "-- use * to specify all columns\n",
    "SELECT\n",
    "  *\n",
    "FROM\n",
    "  orders\n",
    "LIMIT\n",
    "  5;"
   ]
  },
  {
   "cell_type": "code",
   "execution_count": null,
   "id": "b9887b11-7224-49de-874b-dc4887d39bc2",
   "metadata": {},
   "outputs": [],
   "source": [
    "%%sql\n",
    "-- use column c_names only to read data from those columns\n",
    "SELECT\n",
    "  o_orderkey,\n",
    "  o_totalprice\n",
    "FROM\n",
    "  orders\n",
    "LIMIT\n",
    "  5;"
   ]
  },
  {
   "cell_type": "markdown",
   "id": "11d49f40-13f3-4390-8cd0-654fcee032d8",
   "metadata": {},
   "source": [
    "\n",
    "We can use the `WHERE` clause if we want to get the rows that match specific criteria. We can specify one or more filters within the `WHERE` clause. \n",
    "\n",
    "The `WHERE` clause with more than one filter can use combinations of `AND` and `OR` criteria to combine the filter criteria, as shown below.\n",
    "\n"
   ]
  },
  {
   "cell_type": "code",
   "execution_count": null,
   "id": "15bea4d7-3044-4f04-9cac-bd205b86cdeb",
   "metadata": {},
   "outputs": [],
   "source": [
    "%%sql\n",
    "-- all customer rows that have c_nationkey = 20\n",
    "SELECT\n",
    "  *\n",
    "FROM\n",
    "  customer\n",
    "WHERE\n",
    "  c_nationkey = 20\n",
    "LIMIT\n",
    "  10;"
   ]
  },
  {
   "cell_type": "code",
   "execution_count": null,
   "id": "0f9c65d4-af0d-4c7f-b287-c2aa0db4fbfc",
   "metadata": {},
   "outputs": [],
   "source": [
    "%%sql\n",
    "-- all customer rows that have c_nationkey = 20 and c_acctbal > 1000\n",
    "SELECT\n",
    "  *\n",
    "FROM\n",
    "  customer\n",
    "WHERE\n",
    "  c_nationkey = 20\n",
    "  AND c_acctbal > 1000\n",
    "LIMIT\n",
    "  10;"
   ]
  },
  {
   "cell_type": "code",
   "execution_count": null,
   "id": "4903024f-e0fc-44fe-8395-95c16607c032",
   "metadata": {},
   "outputs": [],
   "source": [
    "%%sql\n",
    "-- all customer rows that have c_nationkey = 20 or c_acctbal > 1000\n",
    "SELECT\n",
    "  *\n",
    "FROM\n",
    "  customer\n",
    "WHERE\n",
    "  c_nationkey = 20\n",
    "  OR c_acctbal > 1000\n",
    "LIMIT\n",
    "  10;"
   ]
  },
  {
   "cell_type": "code",
   "execution_count": null,
   "id": "3ed14eb3-fbd2-4c9b-9296-fd9ed1be3f00",
   "metadata": {},
   "outputs": [],
   "source": [
    "%%sql\n",
    "-- all customer rows that have (c_nationkey = 20 and c_acctbal > 1000) or rows that have c_nationkey = 11\n",
    "SELECT\n",
    "  *\n",
    "FROM\n",
    "  customer\n",
    "WHERE\n",
    "  (\n",
    "    c_nationkey = 20\n",
    "    AND c_acctbal > 1000\n",
    "  )\n",
    "  OR c_nationkey = 11\n",
    "LIMIT\n",
    "  10;"
   ]
  },
  {
   "cell_type": "markdown",
   "id": "b736e2ae-d270-4a5c-9716-b857ac29ccec",
   "metadata": {},
   "source": [
    "\n",
    "We can combine multiple filter clauses, as seen above. We have seen examples of equals (`=`) and greater than (`>`) conditional operators. There are 6 **conditional operators**, they are\n",
    "\n",
    "1. **<** Less than\n",
    "2. **>** Greater than\n",
    "3. **<=** Less than or equal to\n",
    "4. **>=** Greater than or equal to\n",
    "5. **=** Equal\n",
    "6. **<>** and **!=** both represent Not equal (some DBs only support one of these)\n",
    "\n",
    "Additionally, for string types, we can make **pattern matching with `like` condition**. In a `like` condition, a `_` means any single character, and `%` means zero or more characters, for example.\n",
    "\n",
    "\n"
   ]
  },
  {
   "cell_type": "code",
   "execution_count": null,
   "id": "247b8483-1ac0-463c-af3f-eb2ba48feb37",
   "metadata": {},
   "outputs": [],
   "source": [
    "%%sql\n",
    "-- all customer rows where the c_name has a 381 in it\n",
    "SELECT\n",
    "  *\n",
    "FROM\n",
    "  customer\n",
    "WHERE\n",
    "  c_name LIKE '%381%';"
   ]
  },
  {
   "cell_type": "code",
   "execution_count": null,
   "id": "552ce625-34c6-4788-a778-575ff7b3e9e4",
   "metadata": {},
   "outputs": [],
   "source": [
    "%%sql\n",
    "-- all customer rows where the c_name ends with a 381\n",
    "SELECT\n",
    "  *\n",
    "FROM\n",
    "  customer\n",
    "WHERE\n",
    "  c_name LIKE '%381';"
   ]
  },
  {
   "cell_type": "code",
   "execution_count": null,
   "id": "b63571f5-d831-43bc-a915-499963f2fe22",
   "metadata": {},
   "outputs": [],
   "source": [
    "%%sql\n",
    "-- all customer rows where the c_name starts with a 381\n",
    "SELECT\n",
    "  *\n",
    "FROM\n",
    "  customer\n",
    "WHERE\n",
    "  c_name LIKE '381%';"
   ]
  },
  {
   "cell_type": "code",
   "execution_count": null,
   "id": "792ab6ec-740e-49c8-b31e-f6073822e41a",
   "metadata": {},
   "outputs": [],
   "source": [
    "%%sql\n",
    "-- all customer rows where the c_name has a combination of any character and 9 and 1\n",
    "SELECT\n",
    "  *\n",
    "FROM\n",
    "  customer\n",
    "WHERE\n",
    "  c_name LIKE '%_91%';"
   ]
  },
  {
   "cell_type": "markdown",
   "id": "bb5a094c-2859-4c74-94d4-bc28823fd262",
   "metadata": {},
   "source": [
    "We can also filter for more than one value using `IN` and `NOT IN`.\n"
   ]
  },
  {
   "cell_type": "code",
   "execution_count": null,
   "id": "b5fd5982-1f3b-4524-9329-8e138fd0a1bd",
   "metadata": {},
   "outputs": [],
   "source": [
    "%%sql\n",
    "-- all customer rows which have c_nationkey = 10 or c_nationkey = 20\n",
    "SELECT\n",
    "  *\n",
    "FROM\n",
    "  customer\n",
    "WHERE\n",
    "  c_nationkey IN (10, 20);"
   ]
  },
  {
   "cell_type": "code",
   "execution_count": null,
   "id": "05c9cce1-4c83-4d48-864e-2093eee48547",
   "metadata": {},
   "outputs": [],
   "source": [
    "%%sql\n",
    "-- all customer rows which have do not have c_nationkey as 10 or 20\n",
    "SELECT\n",
    "  *\n",
    "FROM\n",
    "  customer\n",
    "WHERE\n",
    "  c_nationkey NOT IN (10, 20);"
   ]
  },
  {
   "cell_type": "markdown",
   "id": "9b98fcb8-f341-482d-b2ca-3ba152652713",
   "metadata": {},
   "source": [
    "We can get the number of rows in a table using `count(*)` as shown below.\n"
   ]
  },
  {
   "cell_type": "code",
   "execution_count": null,
   "id": "c55c62f1-a470-4159-917f-168cac5baed2",
   "metadata": {},
   "outputs": [],
   "source": [
    "%%sql\n",
    "SELECT\n",
    "  COUNT(*)\n",
    "FROM\n",
    "  customer;"
   ]
  },
  {
   "cell_type": "code",
   "execution_count": null,
   "id": "c3771d00-5aad-4283-beaa-e8c39fe63fa2",
   "metadata": {},
   "outputs": [],
   "source": [
    "%%sql\n",
    "SELECT\n",
    "  COUNT(*)\n",
    "FROM\n",
    "  lineitem;"
   ]
  },
  {
   "cell_type": "markdown",
   "id": "7e4785b3-88f8-4326-b9c5-e89ef2e5df46",
   "metadata": {},
   "source": [
    "If we want to get the rows sorted by values in a specific column, we use `ORDER BY`, for example.\n"
   ]
  },
  {
   "cell_type": "code",
   "execution_count": null,
   "id": "22427aa1-c42c-4976-96db-942846f82608",
   "metadata": {},
   "outputs": [],
   "source": [
    "%%sql\n",
    "-- Will show the first ten customer records with the lowest custkey\n",
    "-- rows are ordered in ASC order by default\n",
    "SELECT\n",
    "  *\n",
    "FROM\n",
    "  orders\n",
    "ORDER BY\n",
    "  o_custkey\n",
    "LIMIT\n",
    "  10;"
   ]
  },
  {
   "cell_type": "code",
   "execution_count": null,
   "id": "f91197c2-0511-4432-a03c-4e478de00d99",
   "metadata": {},
   "outputs": [],
   "source": [
    "%%sql\n",
    "-- Will show the first ten customer's records with the highest custkey\n",
    "SELECT\n",
    "  *\n",
    "FROM\n",
    "  orders\n",
    "ORDER BY\n",
    "  o_custkey DESC\n",
    "LIMIT\n",
    "  10;"
   ]
  },
  {
   "cell_type": "markdown",
   "id": "a484789b-b9d7-451c-9ee4-1be0b72a2bd9",
   "metadata": {},
   "source": [
    "\n",
    "# [JOINS] Combine data from multiple tables using JOINs (there are different types of JOINs)\n",
    "\n",
    "We can combine data from multiple tables using joins. When we write a join query, we have a format as shown below.\n",
    "\n",
    "```sql\n",
    "-- not based on real tables\n",
    "SELECT\n",
    "    a.*\n",
    "FROM\n",
    "    table_a a -- LEFT table a\n",
    "    JOIN table_b b -- RIGHT table b\n",
    "    ON a.id = b.id\n",
    "```\n",
    "\n",
    "The table specified first (table_a) is the left table, whereas the table established second is the right table. When we have multiple tables joined, we consider the joined dataset from the first two tables as the left table and the third table as the right table (The DB optimizes the joins for performance).\n",
    "\n",
    "```sql\n",
    "-- not based on real tables\n",
    "SELECT\n",
    "    a.*\n",
    "FROM\n",
    "    table_a a -- LEFT table a\n",
    "    JOIN table_b b -- RIGHT table b\n",
    "    ON a.id = b.id\n",
    "    JOIN table_c c -- LEFT table is the joined data from \n",
    "-- table_a & table_b, right table is table_c\n",
    "    ON a.c_id = c.id\n",
    "```\n",
    "\n",
    "There are five main types of joins, they are:\n",
    "\n",
    "## 1. Inner join (default): Get only rows in both tables\n",
    "\n"
   ]
  },
  {
   "cell_type": "code",
   "execution_count": null,
   "id": "52c7727f-e538-4fe5-861f-8340910ab5c7",
   "metadata": {},
   "outputs": [],
   "source": [
    "%%sql\n",
    "SELECT\n",
    "  o.o_orderkey,\n",
    "  l.l_orderkey\n",
    "FROM\n",
    "  orders o\n",
    "  JOIN lineitem l ON o.o_orderkey = l.l_orderkey\n",
    "  AND o.o_orderdate BETWEEN l.l_shipdate - INTERVAL '5' DAY AND l.l_shipdate  + INTERVAL '5' DAY\n",
    "LIMIT\n",
    "  100;"
   ]
  },
  {
   "cell_type": "code",
   "execution_count": null,
   "id": "69ec7c3c-a26c-49d0-9906-f62697427ce6",
   "metadata": {},
   "outputs": [],
   "source": [
    "%%sql\n",
    "SELECT\n",
    "  COUNT(o.o_orderkey) AS order_rows_count,\n",
    "  COUNT(l.l_orderkey) AS lineitem_rows_count\n",
    "FROM\n",
    "  orders o\n",
    "  JOIN lineitem l ON o.o_orderkey = l.l_orderkey\n",
    "  AND o.o_orderdate BETWEEN l.l_shipdate - INTERVAL '5' DAY AND l.l_shipdate  + INTERVAL '5' DAY;"
   ]
  },
  {
   "cell_type": "markdown",
   "id": "020a2a41-1988-4b6b-93ce-1dbe3a236117",
   "metadata": {},
   "source": [
    "**Note:** JOIN defaults to INNER JOIN.\n",
    "\n",
    "The output will have rows from orders and lineitem that found at least one matching row from the other table with the specified join condition (same o_orderkey and orderdate within ship date +/- 5 days). \n",
    "\n",
    "We can also see that 247650 rows from orders and lineitem tables matched.\n",
    "\n",
    "## 2. Left outer join (aka left join): Get all rows from the left table and only matching rows from the right table.\n",
    "\n"
   ]
  },
  {
   "cell_type": "code",
   "execution_count": null,
   "id": "f10e9506-10a6-4ec1-8d49-3b833e017194",
   "metadata": {},
   "outputs": [],
   "source": [
    "%%sql\n",
    "SELECT\n",
    "  o.o_orderkey,\n",
    "  l.l_orderkey\n",
    "FROM\n",
    "  orders o\n",
    "  LEFT JOIN lineitem l ON o.o_orderkey = l.l_orderkey\n",
    "  AND o.o_orderdate BETWEEN l.l_shipdate - INTERVAL '5' DAY AND l.l_shipdate  + INTERVAL '5' DAY\n",
    "LIMIT\n",
    "  100;"
   ]
  },
  {
   "cell_type": "code",
   "execution_count": null,
   "id": "a0fdbb07-6cef-4b82-902a-d5395d309db8",
   "metadata": {},
   "outputs": [],
   "source": [
    "%%sql\n",
    "SELECT\n",
    "  COUNT(o.o_orderkey) AS order_rows_count,\n",
    "  COUNT(l.l_orderkey) AS lineitem_rows_count\n",
    "FROM\n",
    "  orders o\n",
    "  LEFT JOIN lineitem l ON o.o_orderkey = l.l_orderkey\n",
    "  AND o.o_orderdate BETWEEN l.l_shipdate - INTERVAL '5' DAY AND l.l_shipdate  + INTERVAL '5' DAY;"
   ]
  },
  {
   "cell_type": "markdown",
   "id": "07cf6a9f-9e43-412e-a88b-fba9c6db3dcf",
   "metadata": {},
   "source": [
    "The output will have all the rows from orders and the rows from lineitem that were able to find at least one matching row from the orders table with the specified join condition (same o_orderkey and orderdate within ship date +/- 5 days). \n",
    "\n",
    "We can also see that the number of rows from the orders table is 1,519,332 & from the lineitem table is 247,650. The number of rows in orders is 1,500,000, but the join condition produces 1,519,332 since some orders match with multiple lineitems.\n",
    "\n",
    "## 3. Right outer join (aka right join): Get matching rows from the left and all rows from the right table.\n",
    "\n"
   ]
  },
  {
   "cell_type": "code",
   "execution_count": null,
   "id": "26ecd171-9d1e-41e1-8c97-94bc2d3b34ee",
   "metadata": {},
   "outputs": [],
   "source": [
    "%%sql\n",
    "SELECT\n",
    "  o.o_orderkey,\n",
    "  l.l_orderkey\n",
    "FROM\n",
    "  orders o\n",
    "  RIGHT JOIN lineitem l ON o.o_orderkey = l.l_orderkey\n",
    "  AND o.o_orderdate BETWEEN l.l_shipdate - INTERVAL '5' DAY AND l.l_shipdate  + INTERVAL '5' DAY\n",
    "LIMIT\n",
    "  100;"
   ]
  },
  {
   "cell_type": "code",
   "execution_count": null,
   "id": "9fb629c5-48cd-4227-ab98-63cb79db27c2",
   "metadata": {},
   "outputs": [],
   "source": [
    "%%sql\n",
    "SELECT\n",
    "  COUNT(o.o_orderkey) AS order_rows_count,\n",
    "  COUNT(l.l_orderkey) AS lineitem_rows_count\n",
    "FROM\n",
    "  orders o\n",
    "  RIGHT JOIN lineitem l ON o.o_orderkey = l.l_orderkey\n",
    "  AND o.o_orderdate BETWEEN l.l_shipdate - INTERVAL '5' DAY AND l.l_shipdate  + INTERVAL '5' DAY;"
   ]
  },
  {
   "cell_type": "markdown",
   "id": "f7753f8e-f120-4815-a170-793b63cd1a93",
   "metadata": {},
   "source": [
    "The output will have the rows from orders that found at least one matching row from the lineitem table with the specified join condition (same o_orderkey and orderdate within ship date +/- 5 days) and all the rows from the lineitem table.\n",
    "\n",
    "We can also see that the number of rows from the orders table is 247,650 & from the lineitem table is 6,001,215 .\n",
    "\n",
    "## 4. Full outer join: Get all rows from both the left and right tables.\n",
    "\n"
   ]
  },
  {
   "cell_type": "code",
   "execution_count": null,
   "id": "09807ee3-179a-4d26-96f3-6f07ac0573c1",
   "metadata": {},
   "outputs": [],
   "source": [
    "%%sql\n",
    "SELECT\n",
    "  o.o_orderkey,\n",
    "  l.l_orderkey\n",
    "FROM\n",
    "  orders o\n",
    "  FULL OUTER JOIN lineitem l ON o.o_orderkey = l.l_orderkey\n",
    "  AND o.o_orderdate BETWEEN l.l_shipdate - INTERVAL '5' DAY AND l.l_shipdate  + INTERVAL '5' DAY\n",
    "LIMIT\n",
    "  100;"
   ]
  },
  {
   "cell_type": "code",
   "execution_count": null,
   "id": "fcf8be52-093f-43d0-a110-5d78233b6e6e",
   "metadata": {},
   "outputs": [],
   "source": [
    "%%sql\n",
    "SELECT\n",
    "  COUNT(o.o_orderkey) AS order_rows_count,\n",
    "  COUNT(l.l_orderkey) AS lineitem_rows_count\n",
    "FROM\n",
    "  orders o\n",
    "  FULL OUTER JOIN lineitem l ON o.o_orderkey = l.l_orderkey\n",
    "  AND o.o_orderdate BETWEEN l.l_shipdate - INTERVAL '5' DAY AND l.l_shipdate  + INTERVAL '5' DAY;"
   ]
  },
  {
   "cell_type": "markdown",
   "id": "ac6d365b-7ed8-49e8-8b81-cf6f3a5009fe",
   "metadata": {},
   "source": [
    "The output will have all the rows from orders that found at least one matching row from the lineitem table with the specified join condition (same o_orderkey and orderdate within ship date +/- 5 days) and all the rows from the lineitem table.\n",
    "\n",
    "We can also see that the number of rows from the orders table is 1,519,332 & from the lineitem table is 6,001,215.\n",
    "\n",
    "## 5. Cross join: Get the cartesian product of all rows\n",
    "\n"
   ]
  },
  {
   "cell_type": "code",
   "execution_count": null,
   "id": "8a3c8deb-81cd-42ca-b1c9-bbb13ee8d554",
   "metadata": {},
   "outputs": [],
   "source": [
    "%%sql\n",
    "SELECT\n",
    "  n.n_name AS nation_c_name,\n",
    "  r.r_name AS region_c_name\n",
    "FROM\n",
    "  nation n\n",
    "  CROSS JOIN region r;"
   ]
  },
  {
   "cell_type": "markdown",
   "id": "f0c8d2fd-ad41-4209-ba76-b01d8e51ff06",
   "metadata": {},
   "source": [
    "\n",
    "The output will have every row of the nation joined with every row of the region. There are 25 nations and five regions, leading to 125 rows in our result from the cross-join.\n",
    "\n",
    "![Joins](./assets/images/im_27_1.png)\n",
    "![Cross join](./assets/images/im_27_2.png)\n",
    "\n",
    "There are cases where we will need to join a table with itself, called a SELF-join.\n",
    "\n",
    "**Example**:\n",
    "\n",
    "1. For every customer order, get the order placed earlier in the same week (Sunday - Saturday, not the previous seven days). Only show customer orders that have at least one such order.\n",
    "\n"
   ]
  },
  {
   "cell_type": "code",
   "execution_count": null,
   "id": "4ee37e36-77c1-4acb-873f-7d6fb6fd3c2a",
   "metadata": {},
   "outputs": [],
   "source": [
    "%%sql\n",
    "SELECT\n",
    "  o1.o_custkey\n",
    "FROM\n",
    "  orders o1\n",
    "  JOIN orders o2 ON o1.o_custkey = o2.o_custkey\n",
    "  AND YEAR (o1.o_orderdate) = YEAR (o2.o_orderdate)\n",
    "  AND week (o1.o_orderdate) = week (o2.o_orderdate)\n",
    "WHERE\n",
    "  o1.o_orderkey != o2.o_orderkey;"
   ]
  },
  {
   "cell_type": "markdown",
   "id": "8979b105-878b-4e52-8314-981266b86056",
   "metadata": {},
   "source": [
    "## [GROUP BY} Generate metrics for your dimension(s)"
   ]
  },
  {
   "cell_type": "markdown",
   "id": "e3271d14-526c-448f-9083-c29fd41b8847",
   "metadata": {},
   "source": [
    "\n",
    "Most analytical queries require calculating metrics that involve combining data from multiple rows. `GROUP BY` allows us to perform aggregate calculations on data from a set of rows grouped together based on values of specified column(s).\n",
    "\n",
    "**Example**:\n",
    "\n",
    "1. Create a report that shows the number of orders per orderpriority segment."
   ]
  },
  {
   "cell_type": "code",
   "execution_count": null,
   "id": "b8ef3228-5a17-40bf-8877-c1d6a45f22e3",
   "metadata": {},
   "outputs": [],
   "source": [
    "%%sql\n",
    "SELECT\n",
    "  o_orderpriority,\n",
    "  COUNT(*) AS num_orders\n",
    "FROM\n",
    "  orders\n",
    "GROUP BY\n",
    "  o_orderpriority\n",
    "ORDER BY o_orderpriority;"
   ]
  },
  {
   "cell_type": "markdown",
   "id": "af308b08-219e-439d-ad38-03ca353f998e",
   "metadata": {},
   "source": [
    "\n",
    "In the above query, we group the data by `orderpriority`, and the calculation `count(*)` will be applied to the rows having a specific `orderpriority` value. The output will consist of one row per unique value of `orderpriority` and the `count(*)` calculation.\n",
    "\n",
    "![Group by](./assets/images/im_28.png)\n",
    "\n",
    "The calculations allowed are typically SUM/MIN/MAX/AVG/COUNT. However, some databases have more complex aggregate functions; check your DB documentation.\n"
   ]
  },
  {
   "cell_type": "markdown",
   "id": "e4338e68-d951-4814-abd1-7bfe996f86bd",
   "metadata": {},
   "source": [
    "\n",
    "# [SUB QUERY] Use the result of a query within a query using sub-queries\n",
    "\n",
    "When we want to use the result of a query as a table in another query, we use subqueries. **Example**:\n",
    "\n",
    "1. Create a report that shows the nation, how many items it supplied (by suppliers in that nation), and how many items it purchased (by customers in that nation). "
   ]
  },
  {
   "cell_type": "code",
   "execution_count": null,
   "id": "b74cabb8-4d29-4be4-bd10-454aa22a1d67",
   "metadata": {},
   "outputs": [],
   "source": [
    "%%sql\n",
    "SELECT\n",
    "  n.n_name AS nation_c_name,\n",
    "  s.quantity AS supplied_items_quantity,\n",
    "  c.quantity AS purchased_items_quantity\n",
    "FROM\n",
    "  nation n\n",
    "  LEFT JOIN (\n",
    "    SELECT\n",
    "      n.n_nationkey,\n",
    "      SUM(l.l_quantity) AS quantity\n",
    "    FROM\n",
    "      lineitem l\n",
    "      JOIN supplier s ON l.l_suppkey = s.s_suppkey\n",
    "      JOIN nation n ON s.s_nationkey = n.n_nationkey\n",
    "    GROUP BY\n",
    "      n.n_nationkey\n",
    "  ) s ON n.n_nationkey = s.n_nationkey\n",
    "  LEFT JOIN (\n",
    "    SELECT\n",
    "      n.n_nationkey,\n",
    "      SUM(l.l_quantity) AS quantity\n",
    "    FROM\n",
    "      lineitem l\n",
    "      JOIN orders o ON l.l_orderkey = o.o_orderkey\n",
    "      JOIN customer c ON o.o_custkey = c.c_custkey\n",
    "      JOIN nation n ON c.c_nationkey = n.n_nationkey\n",
    "    GROUP BY\n",
    "      n.n_nationkey\n",
    "  ) c ON n.n_nationkey = c.n_nationkey;"
   ]
  },
  {
   "cell_type": "markdown",
   "id": "5074460a-dd63-429f-a5c4-baa750cacb62",
   "metadata": {},
   "source": [
    "\n",
    "In the above query, we can see that there are two sub-queries, one to calculate the quantity supplied by a nation and the other to calculate the quantity purchased by the customers of a nation.\n",
    "\n",
    "# [CASE WHEN] Replicate IF.ELSE logic with CASE statements\n",
    "\n",
    "We can do conditional logic in the `SELECT ... FROM` part of our query, as shown below.\n",
    "\n"
   ]
  },
  {
   "cell_type": "code",
   "execution_count": null,
   "id": "9bb6f0f9-fad5-4ae9-a45f-bed2b56429da",
   "metadata": {},
   "outputs": [],
   "source": [
    "%%sql\n",
    "SELECT\n",
    "    o_orderkey,\n",
    "    o_totalprice,\n",
    "    CASE\n",
    "        WHEN o_totalprice > 100000 THEN 'high'\n",
    "        WHEN o_totalprice BETWEEN 25000\n",
    "        AND 100000 THEN 'medium'\n",
    "        ELSE 'low'\n",
    "    END AS order_price_bucket\n",
    "FROM\n",
    "    orders;"
   ]
  },
  {
   "cell_type": "markdown",
   "id": "af66bb45-07cc-4cd3-af3c-df846892f8c7",
   "metadata": {},
   "source": [
    "We can see how we display different values depending on the `totalprice` column. We can also use multiple criteria as our conditional criteria (e.g., totalprice > 100000 AND orderpriority = '2-HIGH').\n",
    "\n",
    "# [STANDARD FUNCTION] Use standard inbuilt DB functions for common String, Time, and Numeric data manipulation\n",
    "\n",
    "When processing data, more often than not, we will need to change values in columns; shown below are a few standard functions to be aware of:\n",
    "\n",
    "1. **String functions**\n",
    "   1. **LENGTH** is used to calculate the length of a string. E.g., `SELECT LENGTH('hi');` will output 2.\n",
    "   2. **CONCAT** combines multiple string columns into one. E.g., `SELECT CONCAT(o_orderstatus, '-', o_orderpriority) FROM ORDERS LIMIT 5;` will concatenate the o_orderstatus and o_orderpriority columns with a dash in between them.\n",
    "   3. **SPLIT** is used to split a value into an array based on a given delimiter. E.g., `SELECT STRING_SPLIT(o_orderpriority, '-') FROM ORDERS LIMIT 5;` will output a column with arrays formed by splitting o_orderpriority values on `-`.\n",
    "   4. **SUBSTRING** is used to get a sub-string from a value, given the start and end character indices. E.g., `SELECT o_orderpriority, SUBSTRING(o_orderpriority, 1, 5) FROM orders LIMIT 5;` will get the first five (1 - 5) characters of the o_orderpriority column.\n",
    "   5. **TRIM** is used to remove empty spaces to the left and right of the value. E.g., `SELECT TRIM(' hi ');` will output `hi` without any spaces around it. LTRIM and RTRIM are similar but only remove spaces before and after the string, respectively.\n",
    "2. **Date and Time functions**\n",
    "   1. **Adding and subtracting dates**: Is used to add and subtract periods; the format heavily depends on the DB. In DuckDB, `date_diff` accepts 3 parameters, the outputs unit (day, month, year), the datetime/date values a and b such that the output will be a - b. The `+ INTERVAL n UNIT(DAY/MONTH/YEAR)` adds the value (in specified units) to the timestamp value.\n",
    "      ```sql\n",
    "        -- Date and Time Functions\n",
    "        SELECT\n",
    "            date_diff('day', DATE '2022-10-01', DATE '2023-11-05') AS diff_in_days,\n",
    "            date_diff('month', DATE '2022-10-01', DATE '2023-11-05') AS diff_in_months,\n",
    "            date_diff('year', DATE '2022-10-01', DATE '2023-11-05') AS diff_in_years,\n",
    "            DATE '2022-10-01' + INTERVAL 400 DAY AS new_date;\n",
    "      ```\n",
    "    It will show the difference between the two dates in the specified period. We can also add/subtract an arbitrary period from a date/time column. E.g., `SELECT DATE '2022-11-05' + INTERVAL '10' DAY;` will show the output `2022-11-15` (try subtraction of dates).\n",
    "   2. **String <=> date/time conversions**: When we want to change the data type of a string to date/time, we can use the `DATE 'YYYY-MM-DD'` or `TIMESTAMP 'YYYY-MM-DD HH:mm:SS'` functions. But when the data is in a non-standard date/time format such as `MM/DD/YYYY`, we will need to specify the input structure; we do this using `strptime`, E.g., `SELECT strptime('11-05-2023', '%m-%d-%Y');`.  \n",
    "   \n",
    "   We can convert a timestamp/date into a string with the required format using `strftime`. E.g., `SELECT strftime(o_orderdate, '%Y-%m-01') AS first_month_date FROM orders LIMIT 5;` will map every o_orderdate to the first of their month.\n",
    "\n",
    "   See [this page](https://duckdb.org/docs/sql/functions/date) on how to set the proper date time format.\n",
    "   3. **Time frame functions (YEAR/MONTH/DAY)**:  When we want to extract specific periods from a date/time column, we can use these functions. E.g., `SELECT year(DATE '2023-11-05');` will return 2023. Similarly, we have month, day, hour, min, etc.\n",
    "3. **Numeric**\n",
    "   1. **ROUND** is used to specify the number of digits allowed after the decimal point. E.g. `SELECT ROUND(100.102345, 2);`\n",
    "   2. **ABS** is used to get the absolute value of a given number. E.g. `SELECT ABS(-100), ABS(100);` \n",
    "   3. **Mathematical operations** these are +,-,*,/.\n",
    "   4. **Ceil/Floor** is used to get the next higher and most recent lower integers, given a decimal digit. E.g. `SELECT CEIL(100.1), FLOOR(100.1);`"
   ]
  }
 ],
 "metadata": {
  "kernelspec": {
   "display_name": "Python 3 (ipykernel)",
   "language": "python",
   "name": "python3"
  },
  "language_info": {
   "codemirror_mode": {
    "name": "ipython",
    "version": 3
   },
   "file_extension": ".py",
   "mimetype": "text/x-python",
   "name": "python",
   "nbconvert_exporter": "python",
   "pygments_lexer": "ipython3",
   "version": "3.12.4"
  }
 },
 "nbformat": 4,
 "nbformat_minor": 5
}
