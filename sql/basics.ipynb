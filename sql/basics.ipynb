{
 "cells": [
  {
   "cell_type": "markdown",
   "id": "7a44a5a6-9745-4a65-912a-c747da44e193",
   "metadata": {},
   "source": [
    "# Setup"
   ]
  },
  {
   "cell_type": "code",
   "execution_count": 113,
   "id": "9632226c-7af6-4894-9682-5b2e014baccf",
   "metadata": {},
   "outputs": [
    {
     "name": "stdout",
     "output_type": "stream",
     "text": [
      "Cleaning up (if any existing) tpch db file\n",
      "Creating TPCH input data\n"
     ]
    }
   ],
   "source": [
    "! python ./setup.py"
   ]
  },
  {
   "cell_type": "markdown",
   "id": "b6a34d44-87d2-4dd1-b4bc-80d6e9f255e8",
   "metadata": {},
   "source": [
    "## Connect to duckdb\n"
   ]
  },
  {
   "cell_type": "code",
   "execution_count": 114,
   "id": "ea4e3574-043f-4aa8-8bbb-2d3acb716b37",
   "metadata": {},
   "outputs": [
    {
     "name": "stdout",
     "output_type": "stream",
     "text": [
      "The sql extension is already loaded. To reload it, use:\n",
      "  %reload_ext sql\n"
     ]
    }
   ],
   "source": [
    "import duckdb\n",
    "import pandas as pd\n",
    "\n",
    "%load_ext sql\n",
    "conn = duckdb.connect(\"tpch.db\")\n",
    "%sql conn --alias duckdb"
   ]
  },
  {
   "cell_type": "code",
   "execution_count": 115,
   "id": "88bfbcd2-0553-4015-ab7a-f2552269b1a3",
   "metadata": {},
   "outputs": [
    {
     "name": "stdout",
     "output_type": "stream",
     "text": [
      "The sql extension is already loaded. To reload it, use:\n",
      "  %reload_ext sql\n"
     ]
    }
   ],
   "source": [
    "import duckdb\n",
    "import pandas as pd\n",
    "# No need to import duckdb_engine\n",
    "#  jupysql will auto-detect the driver needed based on the connection string!\n",
    "\n",
    "# Import jupysql Jupyter extension to create SQL cells\n",
    "%load_ext sql"
   ]
  },
  {
   "cell_type": "code",
   "execution_count": 116,
   "id": "7f49bd76-6d61-4be3-bac3-3d523ec30a36",
   "metadata": {},
   "outputs": [
    {
     "data": {
      "text/html": [
       "<span style=\"None\">Running query in &#x27;duckdb&#x27;</span>"
      ],
      "text/plain": [
       "Running query in 'duckdb'"
      ]
     },
     "metadata": {},
     "output_type": "display_data"
    },
    {
     "data": {
      "text/html": [
       "<table>\n",
       "    <thead>\n",
       "        <tr>\n",
       "            <th>name</th>\n",
       "        </tr>\n",
       "    </thead>\n",
       "    <tbody>\n",
       "        <tr>\n",
       "            <td>customer</td>\n",
       "        </tr>\n",
       "        <tr>\n",
       "            <td>lineitem</td>\n",
       "        </tr>\n",
       "        <tr>\n",
       "            <td>nation</td>\n",
       "        </tr>\n",
       "        <tr>\n",
       "            <td>orders</td>\n",
       "        </tr>\n",
       "        <tr>\n",
       "            <td>part</td>\n",
       "        </tr>\n",
       "        <tr>\n",
       "            <td>partsupp</td>\n",
       "        </tr>\n",
       "        <tr>\n",
       "            <td>region</td>\n",
       "        </tr>\n",
       "        <tr>\n",
       "            <td>supplier</td>\n",
       "        </tr>\n",
       "    </tbody>\n",
       "</table>"
      ],
      "text/plain": [
       "+----------+\n",
       "|   name   |\n",
       "+----------+\n",
       "| customer |\n",
       "| lineitem |\n",
       "|  nation  |\n",
       "|  orders  |\n",
       "|   part   |\n",
       "| partsupp |\n",
       "|  region  |\n",
       "| supplier |\n",
       "+----------+"
      ]
     },
     "execution_count": 116,
     "metadata": {},
     "output_type": "execute_result"
    }
   ],
   "source": [
    "%%sql\n",
    "show tables;"
   ]
  },
  {
   "cell_type": "markdown",
   "id": "f530307d-399a-4b6d-876f-d00490ea4370",
   "metadata": {},
   "source": [
    "# [GET DATA] Use SELECT...FROM, LIMIT, WHERE, & ORDER BY to read the required data from tables\n",
    "\n",
    "The most common use for querying is to read data in our tables. We can do this using a `SELECT ... FROM` statement, as shown below.\n",
    "\n"
   ]
  },
  {
   "cell_type": "code",
   "execution_count": 117,
   "id": "0e224f8b-e17c-4be6-852b-38c944939c39",
   "metadata": {},
   "outputs": [
    {
     "data": {
      "text/html": [
       "<span style=\"None\">Running query in &#x27;duckdb&#x27;</span>"
      ],
      "text/plain": [
       "Running query in 'duckdb'"
      ]
     },
     "metadata": {},
     "output_type": "display_data"
    },
    {
     "data": {
      "text/html": [
       "<table>\n",
       "    <thead>\n",
       "        <tr>\n",
       "            <th>c_custkey</th>\n",
       "            <th>c_name</th>\n",
       "            <th>c_address</th>\n",
       "            <th>c_nationkey</th>\n",
       "            <th>c_phone</th>\n",
       "            <th>c_acctbal</th>\n",
       "            <th>c_mktsegment</th>\n",
       "            <th>c_comment</th>\n",
       "        </tr>\n",
       "    </thead>\n",
       "    <tbody>\n",
       "        <tr>\n",
       "            <td>1</td>\n",
       "            <td>Customer#000000001</td>\n",
       "            <td>j5JsirBM9PsCy0O1m</td>\n",
       "            <td>15</td>\n",
       "            <td>25-989-741-2988</td>\n",
       "            <td>711.56</td>\n",
       "            <td>BUILDING</td>\n",
       "            <td>y final requests wake slyly quickly special accounts. blithely</td>\n",
       "        </tr>\n",
       "    </tbody>\n",
       "</table>"
      ],
      "text/plain": [
       "+-----------+--------------------+-------------------+-------------+-----------------+-----------+--------------+----------------------------------------------------------------+\n",
       "| c_custkey |       c_name       |     c_address     | c_nationkey |     c_phone     | c_acctbal | c_mktsegment |                           c_comment                            |\n",
       "+-----------+--------------------+-------------------+-------------+-----------------+-----------+--------------+----------------------------------------------------------------+\n",
       "|     1     | Customer#000000001 | j5JsirBM9PsCy0O1m |      15     | 25-989-741-2988 |   711.56  |   BUILDING   | y final requests wake slyly quickly special accounts. blithely |\n",
       "+-----------+--------------------+-------------------+-------------+-----------------+-----------+--------------+----------------------------------------------------------------+"
      ]
     },
     "execution_count": 117,
     "metadata": {},
     "output_type": "execute_result"
    }
   ],
   "source": [
    "%%sql\n",
    "SELECT\n",
    "  *\n",
    "FROM\n",
    "  customer\n",
    "LIMIT\n",
    "  1;"
   ]
  },
  {
   "cell_type": "code",
   "execution_count": 118,
   "id": "0540595e-6bee-4405-ae94-430971bb78a9",
   "metadata": {},
   "outputs": [
    {
     "data": {
      "text/html": [
       "<span style=\"None\">Running query in &#x27;duckdb&#x27;</span>"
      ],
      "text/plain": [
       "Running query in 'duckdb'"
      ]
     },
     "metadata": {},
     "output_type": "display_data"
    },
    {
     "data": {
      "text/html": [
       "<table>\n",
       "    <thead>\n",
       "        <tr>\n",
       "            <th>o_orderkey</th>\n",
       "            <th>o_custkey</th>\n",
       "            <th>o_orderstatus</th>\n",
       "            <th>o_totalprice</th>\n",
       "            <th>o_orderdate</th>\n",
       "            <th>o_orderpriority</th>\n",
       "            <th>o_clerk</th>\n",
       "            <th>o_shippriority</th>\n",
       "            <th>o_comment</th>\n",
       "        </tr>\n",
       "    </thead>\n",
       "    <tbody>\n",
       "        <tr>\n",
       "            <td>1</td>\n",
       "            <td>370</td>\n",
       "            <td>O</td>\n",
       "            <td>172799.49</td>\n",
       "            <td>1996-01-02</td>\n",
       "            <td>5-LOW</td>\n",
       "            <td>Clerk#000000951</td>\n",
       "            <td>0</td>\n",
       "            <td>ly express platelets. deposits acc</td>\n",
       "        </tr>\n",
       "        <tr>\n",
       "            <td>2</td>\n",
       "            <td>781</td>\n",
       "            <td>O</td>\n",
       "            <td>38426.09</td>\n",
       "            <td>1996-12-01</td>\n",
       "            <td>1-URGENT</td>\n",
       "            <td>Clerk#000000880</td>\n",
       "            <td>0</td>\n",
       "            <td>ve the furiously fluffy dependencies. carefully regular </td>\n",
       "        </tr>\n",
       "        <tr>\n",
       "            <td>3</td>\n",
       "            <td>1234</td>\n",
       "            <td>F</td>\n",
       "            <td>205654.30</td>\n",
       "            <td>1993-10-14</td>\n",
       "            <td>5-LOW</td>\n",
       "            <td>Clerk#000000955</td>\n",
       "            <td>0</td>\n",
       "            <td> after the asymptotes. instructions cajole after the foxes. carefully unu</td>\n",
       "        </tr>\n",
       "        <tr>\n",
       "            <td>4</td>\n",
       "            <td>1369</td>\n",
       "            <td>O</td>\n",
       "            <td>56000.91</td>\n",
       "            <td>1995-10-11</td>\n",
       "            <td>5-LOW</td>\n",
       "            <td>Clerk#000000124</td>\n",
       "            <td>0</td>\n",
       "            <td>st the furiously bold pinto beans. furiously pending theodolites cajol</td>\n",
       "        </tr>\n",
       "        <tr>\n",
       "            <td>5</td>\n",
       "            <td>445</td>\n",
       "            <td>F</td>\n",
       "            <td>105367.67</td>\n",
       "            <td>1994-07-30</td>\n",
       "            <td>5-LOW</td>\n",
       "            <td>Clerk#000000925</td>\n",
       "            <td>0</td>\n",
       "            <td>onic requests. carefully daring foxes among the carefu</td>\n",
       "        </tr>\n",
       "    </tbody>\n",
       "</table>"
      ],
      "text/plain": [
       "+------------+-----------+---------------+--------------+-------------+-----------------+-----------------+----------------+---------------------------------------------------------------------------+\n",
       "| o_orderkey | o_custkey | o_orderstatus | o_totalprice | o_orderdate | o_orderpriority |     o_clerk     | o_shippriority |                                 o_comment                                 |\n",
       "+------------+-----------+---------------+--------------+-------------+-----------------+-----------------+----------------+---------------------------------------------------------------------------+\n",
       "|     1      |    370    |       O       |  172799.49   |  1996-01-02 |      5-LOW      | Clerk#000000951 |       0        |                     ly express platelets. deposits acc                    |\n",
       "|     2      |    781    |       O       |   38426.09   |  1996-12-01 |     1-URGENT    | Clerk#000000880 |       0        |          ve the furiously fluffy dependencies. carefully regular          |\n",
       "|     3      |    1234   |       F       |  205654.30   |  1993-10-14 |      5-LOW      | Clerk#000000955 |       0        |  after the asymptotes. instructions cajole after the foxes. carefully unu |\n",
       "|     4      |    1369   |       O       |   56000.91   |  1995-10-11 |      5-LOW      | Clerk#000000124 |       0        |   st the furiously bold pinto beans. furiously pending theodolites cajol  |\n",
       "|     5      |    445    |       F       |  105367.67   |  1994-07-30 |      5-LOW      | Clerk#000000925 |       0        |           onic requests. carefully daring foxes among the carefu          |\n",
       "+------------+-----------+---------------+--------------+-------------+-----------------+-----------------+----------------+---------------------------------------------------------------------------+"
      ]
     },
     "execution_count": 118,
     "metadata": {},
     "output_type": "execute_result"
    }
   ],
   "source": [
    "%%sql\n",
    "-- use * to specify all columns\n",
    "SELECT\n",
    "  *\n",
    "FROM\n",
    "  orders\n",
    "LIMIT\n",
    "  5;"
   ]
  },
  {
   "cell_type": "markdown",
   "id": "07951d86-9c0e-496b-872c-f53d95412a81",
   "metadata": {},
   "source": [
    "However, running a `SELECT ... FROM` statement can cause issues when the data set is extensive.\n"
   ]
  },
  {
   "cell_type": "code",
   "execution_count": 119,
   "id": "bbecd2f1-5925-46c9-adb2-5dd3bc2f5661",
   "metadata": {},
   "outputs": [
    {
     "data": {
      "text/html": [
       "<span style=\"None\">Running query in &#x27;duckdb&#x27;</span>"
      ],
      "text/plain": [
       "Running query in 'duckdb'"
      ]
     },
     "metadata": {},
     "output_type": "display_data"
    },
    {
     "data": {
      "text/html": [
       "<table>\n",
       "    <thead>\n",
       "        <tr>\n",
       "            <th>o_orderkey</th>\n",
       "            <th>o_custkey</th>\n",
       "            <th>o_orderstatus</th>\n",
       "            <th>o_totalprice</th>\n",
       "            <th>o_orderdate</th>\n",
       "            <th>o_orderpriority</th>\n",
       "            <th>o_clerk</th>\n",
       "            <th>o_shippriority</th>\n",
       "            <th>o_comment</th>\n",
       "        </tr>\n",
       "    </thead>\n",
       "    <tbody>\n",
       "        <tr>\n",
       "            <td>1</td>\n",
       "            <td>370</td>\n",
       "            <td>O</td>\n",
       "            <td>172799.49</td>\n",
       "            <td>1996-01-02</td>\n",
       "            <td>5-LOW</td>\n",
       "            <td>Clerk#000000951</td>\n",
       "            <td>0</td>\n",
       "            <td>ly express platelets. deposits acc</td>\n",
       "        </tr>\n",
       "        <tr>\n",
       "            <td>2</td>\n",
       "            <td>781</td>\n",
       "            <td>O</td>\n",
       "            <td>38426.09</td>\n",
       "            <td>1996-12-01</td>\n",
       "            <td>1-URGENT</td>\n",
       "            <td>Clerk#000000880</td>\n",
       "            <td>0</td>\n",
       "            <td>ve the furiously fluffy dependencies. carefully regular </td>\n",
       "        </tr>\n",
       "        <tr>\n",
       "            <td>3</td>\n",
       "            <td>1234</td>\n",
       "            <td>F</td>\n",
       "            <td>205654.30</td>\n",
       "            <td>1993-10-14</td>\n",
       "            <td>5-LOW</td>\n",
       "            <td>Clerk#000000955</td>\n",
       "            <td>0</td>\n",
       "            <td> after the asymptotes. instructions cajole after the foxes. carefully unu</td>\n",
       "        </tr>\n",
       "        <tr>\n",
       "            <td>4</td>\n",
       "            <td>1369</td>\n",
       "            <td>O</td>\n",
       "            <td>56000.91</td>\n",
       "            <td>1995-10-11</td>\n",
       "            <td>5-LOW</td>\n",
       "            <td>Clerk#000000124</td>\n",
       "            <td>0</td>\n",
       "            <td>st the furiously bold pinto beans. furiously pending theodolites cajol</td>\n",
       "        </tr>\n",
       "        <tr>\n",
       "            <td>5</td>\n",
       "            <td>445</td>\n",
       "            <td>F</td>\n",
       "            <td>105367.67</td>\n",
       "            <td>1994-07-30</td>\n",
       "            <td>5-LOW</td>\n",
       "            <td>Clerk#000000925</td>\n",
       "            <td>0</td>\n",
       "            <td>onic requests. carefully daring foxes among the carefu</td>\n",
       "        </tr>\n",
       "    </tbody>\n",
       "</table>"
      ],
      "text/plain": [
       "+------------+-----------+---------------+--------------+-------------+-----------------+-----------------+----------------+---------------------------------------------------------------------------+\n",
       "| o_orderkey | o_custkey | o_orderstatus | o_totalprice | o_orderdate | o_orderpriority |     o_clerk     | o_shippriority |                                 o_comment                                 |\n",
       "+------------+-----------+---------------+--------------+-------------+-----------------+-----------------+----------------+---------------------------------------------------------------------------+\n",
       "|     1      |    370    |       O       |  172799.49   |  1996-01-02 |      5-LOW      | Clerk#000000951 |       0        |                     ly express platelets. deposits acc                    |\n",
       "|     2      |    781    |       O       |   38426.09   |  1996-12-01 |     1-URGENT    | Clerk#000000880 |       0        |          ve the furiously fluffy dependencies. carefully regular          |\n",
       "|     3      |    1234   |       F       |  205654.30   |  1993-10-14 |      5-LOW      | Clerk#000000955 |       0        |  after the asymptotes. instructions cajole after the foxes. carefully unu |\n",
       "|     4      |    1369   |       O       |   56000.91   |  1995-10-11 |      5-LOW      | Clerk#000000124 |       0        |   st the furiously bold pinto beans. furiously pending theodolites cajol  |\n",
       "|     5      |    445    |       F       |  105367.67   |  1994-07-30 |      5-LOW      | Clerk#000000925 |       0        |           onic requests. carefully daring foxes among the carefu          |\n",
       "+------------+-----------+---------------+--------------+-------------+-----------------+-----------------+----------------+---------------------------------------------------------------------------+"
      ]
     },
     "execution_count": 119,
     "metadata": {},
     "output_type": "execute_result"
    }
   ],
   "source": [
    "%%sql\n",
    "-- use * to specify all columns\n",
    "SELECT\n",
    "  *\n",
    "FROM\n",
    "  orders\n",
    "LIMIT\n",
    "  5;"
   ]
  },
  {
   "cell_type": "code",
   "execution_count": 120,
   "id": "b9887b11-7224-49de-874b-dc4887d39bc2",
   "metadata": {},
   "outputs": [
    {
     "data": {
      "text/html": [
       "<span style=\"None\">Running query in &#x27;duckdb&#x27;</span>"
      ],
      "text/plain": [
       "Running query in 'duckdb'"
      ]
     },
     "metadata": {},
     "output_type": "display_data"
    },
    {
     "data": {
      "text/html": [
       "<table>\n",
       "    <thead>\n",
       "        <tr>\n",
       "            <th>o_orderkey</th>\n",
       "            <th>o_totalprice</th>\n",
       "        </tr>\n",
       "    </thead>\n",
       "    <tbody>\n",
       "        <tr>\n",
       "            <td>1</td>\n",
       "            <td>172799.49</td>\n",
       "        </tr>\n",
       "        <tr>\n",
       "            <td>2</td>\n",
       "            <td>38426.09</td>\n",
       "        </tr>\n",
       "        <tr>\n",
       "            <td>3</td>\n",
       "            <td>205654.30</td>\n",
       "        </tr>\n",
       "        <tr>\n",
       "            <td>4</td>\n",
       "            <td>56000.91</td>\n",
       "        </tr>\n",
       "        <tr>\n",
       "            <td>5</td>\n",
       "            <td>105367.67</td>\n",
       "        </tr>\n",
       "    </tbody>\n",
       "</table>"
      ],
      "text/plain": [
       "+------------+--------------+\n",
       "| o_orderkey | o_totalprice |\n",
       "+------------+--------------+\n",
       "|     1      |  172799.49   |\n",
       "|     2      |   38426.09   |\n",
       "|     3      |  205654.30   |\n",
       "|     4      |   56000.91   |\n",
       "|     5      |  105367.67   |\n",
       "+------------+--------------+"
      ]
     },
     "execution_count": 120,
     "metadata": {},
     "output_type": "execute_result"
    }
   ],
   "source": [
    "%%sql\n",
    "-- use column c_names only to read data from those columns\n",
    "SELECT\n",
    "  o_orderkey,\n",
    "  o_totalprice\n",
    "FROM\n",
    "  orders\n",
    "LIMIT\n",
    "  5;"
   ]
  },
  {
   "cell_type": "markdown",
   "id": "11d49f40-13f3-4390-8cd0-654fcee032d8",
   "metadata": {},
   "source": [
    "\n",
    "We can use the `WHERE` clause if we want to get the rows that match specific criteria. We can specify one or more filters within the `WHERE` clause. \n",
    "\n",
    "The `WHERE` clause with more than one filter can use combinations of `AND` and `OR` criteria to combine the filter criteria, as shown below.\n",
    "\n"
   ]
  },
  {
   "cell_type": "code",
   "execution_count": 121,
   "id": "15bea4d7-3044-4f04-9cac-bd205b86cdeb",
   "metadata": {},
   "outputs": [
    {
     "data": {
      "text/html": [
       "<span style=\"None\">Running query in &#x27;duckdb&#x27;</span>"
      ],
      "text/plain": [
       "Running query in 'duckdb'"
      ]
     },
     "metadata": {},
     "output_type": "display_data"
    },
    {
     "data": {
      "text/html": [
       "<table>\n",
       "    <thead>\n",
       "        <tr>\n",
       "            <th>c_custkey</th>\n",
       "            <th>c_name</th>\n",
       "            <th>c_address</th>\n",
       "            <th>c_nationkey</th>\n",
       "            <th>c_phone</th>\n",
       "            <th>c_acctbal</th>\n",
       "            <th>c_mktsegment</th>\n",
       "            <th>c_comment</th>\n",
       "        </tr>\n",
       "    </thead>\n",
       "    <tbody>\n",
       "        <tr>\n",
       "            <td>6</td>\n",
       "            <td>Customer#000000006</td>\n",
       "            <td> g1s,pzDenUEBW3O,2 pxu0f9n2g64rJrt5E</td>\n",
       "            <td>20</td>\n",
       "            <td>30-114-968-4951</td>\n",
       "            <td>7638.57</td>\n",
       "            <td>AUTOMOBILE</td>\n",
       "            <td> quickly silent asymptotes are slyly regular excuses. instructions wake furiously? quickly bold courts p</td>\n",
       "        </tr>\n",
       "        <tr>\n",
       "            <td>81</td>\n",
       "            <td>Customer#000000081</td>\n",
       "            <td>9jUFbrThIIeoUNd8 9</td>\n",
       "            <td>20</td>\n",
       "            <td>30-165-277-3269</td>\n",
       "            <td>2023.71</td>\n",
       "            <td>BUILDING</td>\n",
       "            <td>s against the ironic packages haggle carefully above the slyly express pinto beans</td>\n",
       "        </tr>\n",
       "        <tr>\n",
       "            <td>100</td>\n",
       "            <td>Customer#000000100</td>\n",
       "            <td>MBy6qq3OEGpV4u</td>\n",
       "            <td>20</td>\n",
       "            <td>30-749-445-4907</td>\n",
       "            <td>9889.89</td>\n",
       "            <td>FURNITURE</td>\n",
       "            <td>dazzle carefully furiously final foxes. express, ironic packages among the qui</td>\n",
       "        </tr>\n",
       "        <tr>\n",
       "            <td>210</td>\n",
       "            <td>Customer#000000210</td>\n",
       "            <td>,XOlfSzkZDAkm96adR41j,</td>\n",
       "            <td>20</td>\n",
       "            <td>30-876-248-9750</td>\n",
       "            <td>7250.14</td>\n",
       "            <td>HOUSEHOLD</td>\n",
       "            <td>es cajole bravely across the blithely</td>\n",
       "        </tr>\n",
       "        <tr>\n",
       "            <td>223</td>\n",
       "            <td>Customer#000000223</td>\n",
       "            <td>MyQxUcG0P QCetmG00GlF</td>\n",
       "            <td>20</td>\n",
       "            <td>30-193-643-1517</td>\n",
       "            <td>7476.20</td>\n",
       "            <td>BUILDING</td>\n",
       "            <td>xcuses. silent theodolites across the carefully bold excuses sleep ironic, final courts. regular excuses</td>\n",
       "        </tr>\n",
       "        <tr>\n",
       "            <td>228</td>\n",
       "            <td>Customer#000000228</td>\n",
       "            <td>rZ1wxvHNByT71bUJWZjXMDROzlAch6FVu,dj8Zfq</td>\n",
       "            <td>20</td>\n",
       "            <td>30-435-915-1603</td>\n",
       "            <td>6868.12</td>\n",
       "            <td>FURNITURE</td>\n",
       "            <td>es. blithely permanent sentim</td>\n",
       "        </tr>\n",
       "        <tr>\n",
       "            <td>247</td>\n",
       "            <td>Customer#000000247</td>\n",
       "            <td>eSAW4XaakYFj2WToKU</td>\n",
       "            <td>20</td>\n",
       "            <td>30-151-905-3513</td>\n",
       "            <td>8495.92</td>\n",
       "            <td>HOUSEHOLD</td>\n",
       "            <td>tes nag according to the blithe, even packages. sometimes unusual packages integrate</td>\n",
       "        </tr>\n",
       "        <tr>\n",
       "            <td>278</td>\n",
       "            <td>Customer#000000278</td>\n",
       "            <td>XHAfHlrYQM3elmhJ</td>\n",
       "            <td>20</td>\n",
       "            <td>30-445-570-5841</td>\n",
       "            <td>7621.56</td>\n",
       "            <td>BUILDING</td>\n",
       "            <td>ely unusual accounts. stealthily special instructions affix blithely. regular, ironic packages sleep even platelet</td>\n",
       "        </tr>\n",
       "        <tr>\n",
       "            <td>285</td>\n",
       "            <td>Customer#000000285</td>\n",
       "            <td>rB6fTQKle64k3MvCCatad8DfMgR5OZA G4r</td>\n",
       "            <td>20</td>\n",
       "            <td>30-235-130-1313</td>\n",
       "            <td>7276.72</td>\n",
       "            <td>FURNITURE</td>\n",
       "            <td> slyly according to the blithely special instructions. ironic ideas against the blithely furious pac</td>\n",
       "        </tr>\n",
       "        <tr>\n",
       "            <td>321</td>\n",
       "            <td>Customer#000000321</td>\n",
       "            <td>LX0SKs3jqo9wH1yixIdGWp2ItclDiuL</td>\n",
       "            <td>20</td>\n",
       "            <td>30-114-675-9153</td>\n",
       "            <td>7718.77</td>\n",
       "            <td>FURNITURE</td>\n",
       "            <td>ng the final, bold requests. furiously regular accounts inside the furiously pending</td>\n",
       "        </tr>\n",
       "    </tbody>\n",
       "</table>\n",
       "<span style=\"font-style:italic;text-align:center;\">Truncated to <a href=\"https://jupysql.ploomber.io/en/latest/api/configuration.html#displaylimit\">displaylimit</a> of 10.</span>"
      ],
      "text/plain": [
       "+-----------+--------------------+------------------------------------------+-------------+-----------------+-----------+--------------+--------------------------------------------------------------------------------------------------------------------+\n",
       "| c_custkey |       c_name       |                c_address                 | c_nationkey |     c_phone     | c_acctbal | c_mktsegment |                                                     c_comment                                                      |\n",
       "+-----------+--------------------+------------------------------------------+-------------+-----------------+-----------+--------------+--------------------------------------------------------------------------------------------------------------------+\n",
       "|     6     | Customer#000000006 |    g1s,pzDenUEBW3O,2 pxu0f9n2g64rJrt5E   |      20     | 30-114-968-4951 |  7638.57  |  AUTOMOBILE  |       quickly silent asymptotes are slyly regular excuses. instructions wake furiously? quickly bold courts p      |\n",
       "|     81    | Customer#000000081 |            9jUFbrThIIeoUNd8 9            |      20     | 30-165-277-3269 |  2023.71  |   BUILDING   |                 s against the ironic packages haggle carefully above the slyly express pinto beans                 |\n",
       "|    100    | Customer#000000100 |              MBy6qq3OEGpV4u              |      20     | 30-749-445-4907 |  9889.89  |  FURNITURE   |                   dazzle carefully furiously final foxes. express, ironic packages among the qui                   |\n",
       "|    210    | Customer#000000210 |          ,XOlfSzkZDAkm96adR41j,          |      20     | 30-876-248-9750 |  7250.14  |  HOUSEHOLD   |                                       es cajole bravely across the blithely                                        |\n",
       "|    223    | Customer#000000223 |          MyQxUcG0P QCetmG00GlF           |      20     | 30-193-643-1517 |  7476.20  |   BUILDING   |      xcuses. silent theodolites across the carefully bold excuses sleep ironic, final courts. regular excuses      |\n",
       "|    228    | Customer#000000228 | rZ1wxvHNByT71bUJWZjXMDROzlAch6FVu,dj8Zfq |      20     | 30-435-915-1603 |  6868.12  |  FURNITURE   |                                           es. blithely permanent sentim                                            |\n",
       "|    247    | Customer#000000247 |            eSAW4XaakYFj2WToKU            |      20     | 30-151-905-3513 |  8495.92  |  HOUSEHOLD   |                tes nag according to the blithe, even packages. sometimes unusual packages integrate                |\n",
       "|    278    | Customer#000000278 |             XHAfHlrYQM3elmhJ             |      20     | 30-445-570-5841 |  7621.56  |   BUILDING   | ely unusual accounts. stealthily special instructions affix blithely. regular, ironic packages sleep even platelet |\n",
       "|    285    | Customer#000000285 |   rB6fTQKle64k3MvCCatad8DfMgR5OZA G4r    |      20     | 30-235-130-1313 |  7276.72  |  FURNITURE   |         slyly according to the blithely special instructions. ironic ideas against the blithely furious pac        |\n",
       "|    321    | Customer#000000321 |     LX0SKs3jqo9wH1yixIdGWp2ItclDiuL      |      20     | 30-114-675-9153 |  7718.77  |  FURNITURE   |                ng the final, bold requests. furiously regular accounts inside the furiously pending                |\n",
       "+-----------+--------------------+------------------------------------------+-------------+-----------------+-----------+--------------+--------------------------------------------------------------------------------------------------------------------+\n",
       "Truncated to displaylimit of 10."
      ]
     },
     "execution_count": 121,
     "metadata": {},
     "output_type": "execute_result"
    }
   ],
   "source": [
    "%%sql\n",
    "-- all customer rows that have c_nationkey = 20\n",
    "SELECT\n",
    "  *\n",
    "FROM\n",
    "  customer\n",
    "WHERE\n",
    "  c_nationkey = 20\n",
    "LIMIT\n",
    "  10;"
   ]
  },
  {
   "cell_type": "code",
   "execution_count": 122,
   "id": "0f9c65d4-af0d-4c7f-b287-c2aa0db4fbfc",
   "metadata": {},
   "outputs": [
    {
     "data": {
      "text/html": [
       "<span style=\"None\">Running query in &#x27;duckdb&#x27;</span>"
      ],
      "text/plain": [
       "Running query in 'duckdb'"
      ]
     },
     "metadata": {},
     "output_type": "display_data"
    },
    {
     "data": {
      "text/html": [
       "<table>\n",
       "    <thead>\n",
       "        <tr>\n",
       "            <th>c_custkey</th>\n",
       "            <th>c_name</th>\n",
       "            <th>c_address</th>\n",
       "            <th>c_nationkey</th>\n",
       "            <th>c_phone</th>\n",
       "            <th>c_acctbal</th>\n",
       "            <th>c_mktsegment</th>\n",
       "            <th>c_comment</th>\n",
       "        </tr>\n",
       "    </thead>\n",
       "    <tbody>\n",
       "        <tr>\n",
       "            <td>6</td>\n",
       "            <td>Customer#000000006</td>\n",
       "            <td> g1s,pzDenUEBW3O,2 pxu0f9n2g64rJrt5E</td>\n",
       "            <td>20</td>\n",
       "            <td>30-114-968-4951</td>\n",
       "            <td>7638.57</td>\n",
       "            <td>AUTOMOBILE</td>\n",
       "            <td> quickly silent asymptotes are slyly regular excuses. instructions wake furiously? quickly bold courts p</td>\n",
       "        </tr>\n",
       "        <tr>\n",
       "            <td>81</td>\n",
       "            <td>Customer#000000081</td>\n",
       "            <td>9jUFbrThIIeoUNd8 9</td>\n",
       "            <td>20</td>\n",
       "            <td>30-165-277-3269</td>\n",
       "            <td>2023.71</td>\n",
       "            <td>BUILDING</td>\n",
       "            <td>s against the ironic packages haggle carefully above the slyly express pinto beans</td>\n",
       "        </tr>\n",
       "        <tr>\n",
       "            <td>100</td>\n",
       "            <td>Customer#000000100</td>\n",
       "            <td>MBy6qq3OEGpV4u</td>\n",
       "            <td>20</td>\n",
       "            <td>30-749-445-4907</td>\n",
       "            <td>9889.89</td>\n",
       "            <td>FURNITURE</td>\n",
       "            <td>dazzle carefully furiously final foxes. express, ironic packages among the qui</td>\n",
       "        </tr>\n",
       "        <tr>\n",
       "            <td>210</td>\n",
       "            <td>Customer#000000210</td>\n",
       "            <td>,XOlfSzkZDAkm96adR41j,</td>\n",
       "            <td>20</td>\n",
       "            <td>30-876-248-9750</td>\n",
       "            <td>7250.14</td>\n",
       "            <td>HOUSEHOLD</td>\n",
       "            <td>es cajole bravely across the blithely</td>\n",
       "        </tr>\n",
       "        <tr>\n",
       "            <td>223</td>\n",
       "            <td>Customer#000000223</td>\n",
       "            <td>MyQxUcG0P QCetmG00GlF</td>\n",
       "            <td>20</td>\n",
       "            <td>30-193-643-1517</td>\n",
       "            <td>7476.20</td>\n",
       "            <td>BUILDING</td>\n",
       "            <td>xcuses. silent theodolites across the carefully bold excuses sleep ironic, final courts. regular excuses</td>\n",
       "        </tr>\n",
       "        <tr>\n",
       "            <td>228</td>\n",
       "            <td>Customer#000000228</td>\n",
       "            <td>rZ1wxvHNByT71bUJWZjXMDROzlAch6FVu,dj8Zfq</td>\n",
       "            <td>20</td>\n",
       "            <td>30-435-915-1603</td>\n",
       "            <td>6868.12</td>\n",
       "            <td>FURNITURE</td>\n",
       "            <td>es. blithely permanent sentim</td>\n",
       "        </tr>\n",
       "        <tr>\n",
       "            <td>247</td>\n",
       "            <td>Customer#000000247</td>\n",
       "            <td>eSAW4XaakYFj2WToKU</td>\n",
       "            <td>20</td>\n",
       "            <td>30-151-905-3513</td>\n",
       "            <td>8495.92</td>\n",
       "            <td>HOUSEHOLD</td>\n",
       "            <td>tes nag according to the blithe, even packages. sometimes unusual packages integrate</td>\n",
       "        </tr>\n",
       "        <tr>\n",
       "            <td>278</td>\n",
       "            <td>Customer#000000278</td>\n",
       "            <td>XHAfHlrYQM3elmhJ</td>\n",
       "            <td>20</td>\n",
       "            <td>30-445-570-5841</td>\n",
       "            <td>7621.56</td>\n",
       "            <td>BUILDING</td>\n",
       "            <td>ely unusual accounts. stealthily special instructions affix blithely. regular, ironic packages sleep even platelet</td>\n",
       "        </tr>\n",
       "        <tr>\n",
       "            <td>285</td>\n",
       "            <td>Customer#000000285</td>\n",
       "            <td>rB6fTQKle64k3MvCCatad8DfMgR5OZA G4r</td>\n",
       "            <td>20</td>\n",
       "            <td>30-235-130-1313</td>\n",
       "            <td>7276.72</td>\n",
       "            <td>FURNITURE</td>\n",
       "            <td> slyly according to the blithely special instructions. ironic ideas against the blithely furious pac</td>\n",
       "        </tr>\n",
       "        <tr>\n",
       "            <td>321</td>\n",
       "            <td>Customer#000000321</td>\n",
       "            <td>LX0SKs3jqo9wH1yixIdGWp2ItclDiuL</td>\n",
       "            <td>20</td>\n",
       "            <td>30-114-675-9153</td>\n",
       "            <td>7718.77</td>\n",
       "            <td>FURNITURE</td>\n",
       "            <td>ng the final, bold requests. furiously regular accounts inside the furiously pending</td>\n",
       "        </tr>\n",
       "    </tbody>\n",
       "</table>\n",
       "<span style=\"font-style:italic;text-align:center;\">Truncated to <a href=\"https://jupysql.ploomber.io/en/latest/api/configuration.html#displaylimit\">displaylimit</a> of 10.</span>"
      ],
      "text/plain": [
       "+-----------+--------------------+------------------------------------------+-------------+-----------------+-----------+--------------+--------------------------------------------------------------------------------------------------------------------+\n",
       "| c_custkey |       c_name       |                c_address                 | c_nationkey |     c_phone     | c_acctbal | c_mktsegment |                                                     c_comment                                                      |\n",
       "+-----------+--------------------+------------------------------------------+-------------+-----------------+-----------+--------------+--------------------------------------------------------------------------------------------------------------------+\n",
       "|     6     | Customer#000000006 |    g1s,pzDenUEBW3O,2 pxu0f9n2g64rJrt5E   |      20     | 30-114-968-4951 |  7638.57  |  AUTOMOBILE  |       quickly silent asymptotes are slyly regular excuses. instructions wake furiously? quickly bold courts p      |\n",
       "|     81    | Customer#000000081 |            9jUFbrThIIeoUNd8 9            |      20     | 30-165-277-3269 |  2023.71  |   BUILDING   |                 s against the ironic packages haggle carefully above the slyly express pinto beans                 |\n",
       "|    100    | Customer#000000100 |              MBy6qq3OEGpV4u              |      20     | 30-749-445-4907 |  9889.89  |  FURNITURE   |                   dazzle carefully furiously final foxes. express, ironic packages among the qui                   |\n",
       "|    210    | Customer#000000210 |          ,XOlfSzkZDAkm96adR41j,          |      20     | 30-876-248-9750 |  7250.14  |  HOUSEHOLD   |                                       es cajole bravely across the blithely                                        |\n",
       "|    223    | Customer#000000223 |          MyQxUcG0P QCetmG00GlF           |      20     | 30-193-643-1517 |  7476.20  |   BUILDING   |      xcuses. silent theodolites across the carefully bold excuses sleep ironic, final courts. regular excuses      |\n",
       "|    228    | Customer#000000228 | rZ1wxvHNByT71bUJWZjXMDROzlAch6FVu,dj8Zfq |      20     | 30-435-915-1603 |  6868.12  |  FURNITURE   |                                           es. blithely permanent sentim                                            |\n",
       "|    247    | Customer#000000247 |            eSAW4XaakYFj2WToKU            |      20     | 30-151-905-3513 |  8495.92  |  HOUSEHOLD   |                tes nag according to the blithe, even packages. sometimes unusual packages integrate                |\n",
       "|    278    | Customer#000000278 |             XHAfHlrYQM3elmhJ             |      20     | 30-445-570-5841 |  7621.56  |   BUILDING   | ely unusual accounts. stealthily special instructions affix blithely. regular, ironic packages sleep even platelet |\n",
       "|    285    | Customer#000000285 |   rB6fTQKle64k3MvCCatad8DfMgR5OZA G4r    |      20     | 30-235-130-1313 |  7276.72  |  FURNITURE   |         slyly according to the blithely special instructions. ironic ideas against the blithely furious pac        |\n",
       "|    321    | Customer#000000321 |     LX0SKs3jqo9wH1yixIdGWp2ItclDiuL      |      20     | 30-114-675-9153 |  7718.77  |  FURNITURE   |                ng the final, bold requests. furiously regular accounts inside the furiously pending                |\n",
       "+-----------+--------------------+------------------------------------------+-------------+-----------------+-----------+--------------+--------------------------------------------------------------------------------------------------------------------+\n",
       "Truncated to displaylimit of 10."
      ]
     },
     "execution_count": 122,
     "metadata": {},
     "output_type": "execute_result"
    }
   ],
   "source": [
    "%%sql\n",
    "-- all customer rows that have c_nationkey = 20 and c_acctbal > 1000\n",
    "SELECT\n",
    "  *\n",
    "FROM\n",
    "  customer\n",
    "WHERE\n",
    "  c_nationkey = 20\n",
    "  AND c_acctbal > 1000\n",
    "LIMIT\n",
    "  10;"
   ]
  },
  {
   "cell_type": "code",
   "execution_count": 123,
   "id": "4903024f-e0fc-44fe-8395-95c16607c032",
   "metadata": {},
   "outputs": [
    {
     "data": {
      "text/html": [
       "<span style=\"None\">Running query in &#x27;duckdb&#x27;</span>"
      ],
      "text/plain": [
       "Running query in 'duckdb'"
      ]
     },
     "metadata": {},
     "output_type": "display_data"
    },
    {
     "data": {
      "text/html": [
       "<table>\n",
       "    <thead>\n",
       "        <tr>\n",
       "            <th>c_custkey</th>\n",
       "            <th>c_name</th>\n",
       "            <th>c_address</th>\n",
       "            <th>c_nationkey</th>\n",
       "            <th>c_phone</th>\n",
       "            <th>c_acctbal</th>\n",
       "            <th>c_mktsegment</th>\n",
       "            <th>c_comment</th>\n",
       "        </tr>\n",
       "    </thead>\n",
       "    <tbody>\n",
       "        <tr>\n",
       "            <td>6</td>\n",
       "            <td>Customer#000000006</td>\n",
       "            <td> g1s,pzDenUEBW3O,2 pxu0f9n2g64rJrt5E</td>\n",
       "            <td>20</td>\n",
       "            <td>30-114-968-4951</td>\n",
       "            <td>7638.57</td>\n",
       "            <td>AUTOMOBILE</td>\n",
       "            <td> quickly silent asymptotes are slyly regular excuses. instructions wake furiously? quickly bold courts p</td>\n",
       "        </tr>\n",
       "        <tr>\n",
       "            <td>81</td>\n",
       "            <td>Customer#000000081</td>\n",
       "            <td>9jUFbrThIIeoUNd8 9</td>\n",
       "            <td>20</td>\n",
       "            <td>30-165-277-3269</td>\n",
       "            <td>2023.71</td>\n",
       "            <td>BUILDING</td>\n",
       "            <td>s against the ironic packages haggle carefully above the slyly express pinto beans</td>\n",
       "        </tr>\n",
       "        <tr>\n",
       "            <td>100</td>\n",
       "            <td>Customer#000000100</td>\n",
       "            <td>MBy6qq3OEGpV4u</td>\n",
       "            <td>20</td>\n",
       "            <td>30-749-445-4907</td>\n",
       "            <td>9889.89</td>\n",
       "            <td>FURNITURE</td>\n",
       "            <td>dazzle carefully furiously final foxes. express, ironic packages among the qui</td>\n",
       "        </tr>\n",
       "        <tr>\n",
       "            <td>210</td>\n",
       "            <td>Customer#000000210</td>\n",
       "            <td>,XOlfSzkZDAkm96adR41j,</td>\n",
       "            <td>20</td>\n",
       "            <td>30-876-248-9750</td>\n",
       "            <td>7250.14</td>\n",
       "            <td>HOUSEHOLD</td>\n",
       "            <td>es cajole bravely across the blithely</td>\n",
       "        </tr>\n",
       "        <tr>\n",
       "            <td>223</td>\n",
       "            <td>Customer#000000223</td>\n",
       "            <td>MyQxUcG0P QCetmG00GlF</td>\n",
       "            <td>20</td>\n",
       "            <td>30-193-643-1517</td>\n",
       "            <td>7476.20</td>\n",
       "            <td>BUILDING</td>\n",
       "            <td>xcuses. silent theodolites across the carefully bold excuses sleep ironic, final courts. regular excuses</td>\n",
       "        </tr>\n",
       "        <tr>\n",
       "            <td>228</td>\n",
       "            <td>Customer#000000228</td>\n",
       "            <td>rZ1wxvHNByT71bUJWZjXMDROzlAch6FVu,dj8Zfq</td>\n",
       "            <td>20</td>\n",
       "            <td>30-435-915-1603</td>\n",
       "            <td>6868.12</td>\n",
       "            <td>FURNITURE</td>\n",
       "            <td>es. blithely permanent sentim</td>\n",
       "        </tr>\n",
       "        <tr>\n",
       "            <td>247</td>\n",
       "            <td>Customer#000000247</td>\n",
       "            <td>eSAW4XaakYFj2WToKU</td>\n",
       "            <td>20</td>\n",
       "            <td>30-151-905-3513</td>\n",
       "            <td>8495.92</td>\n",
       "            <td>HOUSEHOLD</td>\n",
       "            <td>tes nag according to the blithe, even packages. sometimes unusual packages integrate</td>\n",
       "        </tr>\n",
       "        <tr>\n",
       "            <td>278</td>\n",
       "            <td>Customer#000000278</td>\n",
       "            <td>XHAfHlrYQM3elmhJ</td>\n",
       "            <td>20</td>\n",
       "            <td>30-445-570-5841</td>\n",
       "            <td>7621.56</td>\n",
       "            <td>BUILDING</td>\n",
       "            <td>ely unusual accounts. stealthily special instructions affix blithely. regular, ironic packages sleep even platelet</td>\n",
       "        </tr>\n",
       "        <tr>\n",
       "            <td>285</td>\n",
       "            <td>Customer#000000285</td>\n",
       "            <td>rB6fTQKle64k3MvCCatad8DfMgR5OZA G4r</td>\n",
       "            <td>20</td>\n",
       "            <td>30-235-130-1313</td>\n",
       "            <td>7276.72</td>\n",
       "            <td>FURNITURE</td>\n",
       "            <td> slyly according to the blithely special instructions. ironic ideas against the blithely furious pac</td>\n",
       "        </tr>\n",
       "        <tr>\n",
       "            <td>321</td>\n",
       "            <td>Customer#000000321</td>\n",
       "            <td>LX0SKs3jqo9wH1yixIdGWp2ItclDiuL</td>\n",
       "            <td>20</td>\n",
       "            <td>30-114-675-9153</td>\n",
       "            <td>7718.77</td>\n",
       "            <td>FURNITURE</td>\n",
       "            <td>ng the final, bold requests. furiously regular accounts inside the furiously pending</td>\n",
       "        </tr>\n",
       "    </tbody>\n",
       "</table>\n",
       "<span style=\"font-style:italic;text-align:center;\">Truncated to <a href=\"https://jupysql.ploomber.io/en/latest/api/configuration.html#displaylimit\">displaylimit</a> of 10.</span>"
      ],
      "text/plain": [
       "+-----------+--------------------+------------------------------------------+-------------+-----------------+-----------+--------------+--------------------------------------------------------------------------------------------------------------------+\n",
       "| c_custkey |       c_name       |                c_address                 | c_nationkey |     c_phone     | c_acctbal | c_mktsegment |                                                     c_comment                                                      |\n",
       "+-----------+--------------------+------------------------------------------+-------------+-----------------+-----------+--------------+--------------------------------------------------------------------------------------------------------------------+\n",
       "|     6     | Customer#000000006 |    g1s,pzDenUEBW3O,2 pxu0f9n2g64rJrt5E   |      20     | 30-114-968-4951 |  7638.57  |  AUTOMOBILE  |       quickly silent asymptotes are slyly regular excuses. instructions wake furiously? quickly bold courts p      |\n",
       "|     81    | Customer#000000081 |            9jUFbrThIIeoUNd8 9            |      20     | 30-165-277-3269 |  2023.71  |   BUILDING   |                 s against the ironic packages haggle carefully above the slyly express pinto beans                 |\n",
       "|    100    | Customer#000000100 |              MBy6qq3OEGpV4u              |      20     | 30-749-445-4907 |  9889.89  |  FURNITURE   |                   dazzle carefully furiously final foxes. express, ironic packages among the qui                   |\n",
       "|    210    | Customer#000000210 |          ,XOlfSzkZDAkm96adR41j,          |      20     | 30-876-248-9750 |  7250.14  |  HOUSEHOLD   |                                       es cajole bravely across the blithely                                        |\n",
       "|    223    | Customer#000000223 |          MyQxUcG0P QCetmG00GlF           |      20     | 30-193-643-1517 |  7476.20  |   BUILDING   |      xcuses. silent theodolites across the carefully bold excuses sleep ironic, final courts. regular excuses      |\n",
       "|    228    | Customer#000000228 | rZ1wxvHNByT71bUJWZjXMDROzlAch6FVu,dj8Zfq |      20     | 30-435-915-1603 |  6868.12  |  FURNITURE   |                                           es. blithely permanent sentim                                            |\n",
       "|    247    | Customer#000000247 |            eSAW4XaakYFj2WToKU            |      20     | 30-151-905-3513 |  8495.92  |  HOUSEHOLD   |                tes nag according to the blithe, even packages. sometimes unusual packages integrate                |\n",
       "|    278    | Customer#000000278 |             XHAfHlrYQM3elmhJ             |      20     | 30-445-570-5841 |  7621.56  |   BUILDING   | ely unusual accounts. stealthily special instructions affix blithely. regular, ironic packages sleep even platelet |\n",
       "|    285    | Customer#000000285 |   rB6fTQKle64k3MvCCatad8DfMgR5OZA G4r    |      20     | 30-235-130-1313 |  7276.72  |  FURNITURE   |         slyly according to the blithely special instructions. ironic ideas against the blithely furious pac        |\n",
       "|    321    | Customer#000000321 |     LX0SKs3jqo9wH1yixIdGWp2ItclDiuL      |      20     | 30-114-675-9153 |  7718.77  |  FURNITURE   |                ng the final, bold requests. furiously regular accounts inside the furiously pending                |\n",
       "+-----------+--------------------+------------------------------------------+-------------+-----------------+-----------+--------------+--------------------------------------------------------------------------------------------------------------------+\n",
       "Truncated to displaylimit of 10."
      ]
     },
     "execution_count": 123,
     "metadata": {},
     "output_type": "execute_result"
    }
   ],
   "source": [
    "%%sql\n",
    "-- all customer rows that have c_nationkey = 20 or c_acctbal > 1000\n",
    "SELECT\n",
    "  *\n",
    "FROM\n",
    "  customer\n",
    "WHERE\n",
    "  c_nationkey = 20\n",
    "  OR c_acctbal > 1000\n",
    "LIMIT\n",
    "  10;"
   ]
  },
  {
   "cell_type": "code",
   "execution_count": 124,
   "id": "3ed14eb3-fbd2-4c9b-9296-fd9ed1be3f00",
   "metadata": {},
   "outputs": [
    {
     "data": {
      "text/html": [
       "<span style=\"None\">Running query in &#x27;duckdb&#x27;</span>"
      ],
      "text/plain": [
       "Running query in 'duckdb'"
      ]
     },
     "metadata": {},
     "output_type": "display_data"
    },
    {
     "data": {
      "text/html": [
       "<table>\n",
       "    <thead>\n",
       "        <tr>\n",
       "            <th>c_custkey</th>\n",
       "            <th>c_name</th>\n",
       "            <th>c_address</th>\n",
       "            <th>c_nationkey</th>\n",
       "            <th>c_phone</th>\n",
       "            <th>c_acctbal</th>\n",
       "            <th>c_mktsegment</th>\n",
       "            <th>c_comment</th>\n",
       "        </tr>\n",
       "    </thead>\n",
       "    <tbody>\n",
       "        <tr>\n",
       "            <td>52</td>\n",
       "            <td>Customer#000000052</td>\n",
       "            <td>UracAlAA8tSHL5V,poTZIOjh8o,</td>\n",
       "            <td>11</td>\n",
       "            <td>21-186-284-5998</td>\n",
       "            <td>5630.28</td>\n",
       "            <td>HOUSEHOLD</td>\n",
       "            <td>ts boost. carefully express waters across the blithely regular foxes inte</td>\n",
       "        </tr>\n",
       "        <tr>\n",
       "            <td>84</td>\n",
       "            <td>Customer#000000084</td>\n",
       "            <td>GB3sUmv RRXV DPzeOSbGxMIF9Z4Eq9 rop</td>\n",
       "            <td>11</td>\n",
       "            <td>21-546-818-3802</td>\n",
       "            <td>5174.71</td>\n",
       "            <td>FURNITURE</td>\n",
       "            <td>ounts. blithely express theodolites nag carefully ironic pinto beans. carefully final </td>\n",
       "        </tr>\n",
       "        <tr>\n",
       "            <td>131</td>\n",
       "            <td>Customer#000000131</td>\n",
       "            <td>ItdUFrHPZlzjZ, fo03sG4topAKTV</td>\n",
       "            <td>11</td>\n",
       "            <td>21-840-210-3572</td>\n",
       "            <td>8595.53</td>\n",
       "            <td>HOUSEHOLD</td>\n",
       "            <td>ly final Tiresias. slyly permanent theodolites cajole quickly. carefully unus</td>\n",
       "        </tr>\n",
       "        <tr>\n",
       "            <td>134</td>\n",
       "            <td>Customer#000000134</td>\n",
       "            <td> 6I1TTaoG7bbiogCqRcptG6BYme</td>\n",
       "            <td>11</td>\n",
       "            <td>21-200-159-5932</td>\n",
       "            <td>4608.90</td>\n",
       "            <td>BUILDING</td>\n",
       "            <td>ly regular dolphins haggle blithely. </td>\n",
       "        </tr>\n",
       "        <tr>\n",
       "            <td>148</td>\n",
       "            <td>Customer#000000148</td>\n",
       "            <td>qJ8bFn4kwiit7RzwGrwo5m</td>\n",
       "            <td>11</td>\n",
       "            <td>21-562-498-6636</td>\n",
       "            <td>2135.60</td>\n",
       "            <td>HOUSEHOLD</td>\n",
       "            <td>e carefully pending ideas detect slyly along the furiously special excuses. instructions use carefully </td>\n",
       "        </tr>\n",
       "        <tr>\n",
       "            <td>190</td>\n",
       "            <td>Customer#000000190</td>\n",
       "            <td>mY30kK8AfsTGrx,L4zI   QlQnnmCUxikyc8QcZ7</td>\n",
       "            <td>11</td>\n",
       "            <td>21-730-373-8193</td>\n",
       "            <td>1657.46</td>\n",
       "            <td>AUTOMOBILE</td>\n",
       "            <td>y even packages engage furiously pending p</td>\n",
       "        </tr>\n",
       "        <tr>\n",
       "            <td>219</td>\n",
       "            <td>Customer#000000219</td>\n",
       "            <td>N7HIf0,MtChIqMY5aCsXnBbKYGw8fMdxY3Ywtug</td>\n",
       "            <td>11</td>\n",
       "            <td>21-159-138-6090</td>\n",
       "            <td>9858.57</td>\n",
       "            <td>AUTOMOBILE</td>\n",
       "            <td> carefully pending instructions</td>\n",
       "        </tr>\n",
       "        <tr>\n",
       "            <td>264</td>\n",
       "            <td>Customer#000000264</td>\n",
       "            <td>ZWqGIvPWJAC9n</td>\n",
       "            <td>11</td>\n",
       "            <td>21-881-683-3829</td>\n",
       "            <td>3195.83</td>\n",
       "            <td>MACHINERY</td>\n",
       "            <td>egular dependencies wake reques</td>\n",
       "        </tr>\n",
       "        <tr>\n",
       "            <td>280</td>\n",
       "            <td>Customer#000000280</td>\n",
       "            <td>YLnIkFdUWmE,MI</td>\n",
       "            <td>11</td>\n",
       "            <td>21-537-461-3965</td>\n",
       "            <td>3952.84</td>\n",
       "            <td>BUILDING</td>\n",
       "            <td>yly quickly ruthless accounts. unusual deposits solve furiously across the requests. carefull</td>\n",
       "        </tr>\n",
       "        <tr>\n",
       "            <td>292</td>\n",
       "            <td>Customer#000000292</td>\n",
       "            <td>Ko3JXxuoWxIMR</td>\n",
       "            <td>11</td>\n",
       "            <td>21-457-910-2923</td>\n",
       "            <td>2975.43</td>\n",
       "            <td>HOUSEHOLD</td>\n",
       "            <td>ecial foxes play carefully silent deposits. quickly regular packages need to nag according to the th</td>\n",
       "        </tr>\n",
       "    </tbody>\n",
       "</table>\n",
       "<span style=\"font-style:italic;text-align:center;\">Truncated to <a href=\"https://jupysql.ploomber.io/en/latest/api/configuration.html#displaylimit\">displaylimit</a> of 10.</span>"
      ],
      "text/plain": [
       "+-----------+--------------------+------------------------------------------+-------------+-----------------+-----------+--------------+---------------------------------------------------------------------------------------------------------+\n",
       "| c_custkey |       c_name       |                c_address                 | c_nationkey |     c_phone     | c_acctbal | c_mktsegment |                                                c_comment                                                |\n",
       "+-----------+--------------------+------------------------------------------+-------------+-----------------+-----------+--------------+---------------------------------------------------------------------------------------------------------+\n",
       "|     52    | Customer#000000052 |       UracAlAA8tSHL5V,poTZIOjh8o,        |      11     | 21-186-284-5998 |  5630.28  |  HOUSEHOLD   |                ts boost. carefully express waters across the blithely regular foxes inte                |\n",
       "|     84    | Customer#000000084 |   GB3sUmv RRXV DPzeOSbGxMIF9Z4Eq9 rop    |      11     | 21-546-818-3802 |  5174.71  |  FURNITURE   |          ounts. blithely express theodolites nag carefully ironic pinto beans. carefully final          |\n",
       "|    131    | Customer#000000131 |      ItdUFrHPZlzjZ, fo03sG4topAKTV       |      11     | 21-840-210-3572 |  8595.53  |  HOUSEHOLD   |              ly final Tiresias. slyly permanent theodolites cajole quickly. carefully unus              |\n",
       "|    134    | Customer#000000134 |        6I1TTaoG7bbiogCqRcptG6BYme        |      11     | 21-200-159-5932 |  4608.90  |   BUILDING   |                                  ly regular dolphins haggle blithely.                                   |\n",
       "|    148    | Customer#000000148 |          qJ8bFn4kwiit7RzwGrwo5m          |      11     | 21-562-498-6636 |  2135.60  |  HOUSEHOLD   | e carefully pending ideas detect slyly along the furiously special excuses. instructions use carefully  |\n",
       "|    190    | Customer#000000190 | mY30kK8AfsTGrx,L4zI   QlQnnmCUxikyc8QcZ7 |      11     | 21-730-373-8193 |  1657.46  |  AUTOMOBILE  |                                y even packages engage furiously pending p                               |\n",
       "|    219    | Customer#000000219 | N7HIf0,MtChIqMY5aCsXnBbKYGw8fMdxY3Ywtug  |      11     | 21-159-138-6090 |  9858.57  |  AUTOMOBILE  |                                      carefully pending instructions                                     |\n",
       "|    264    | Customer#000000264 |              ZWqGIvPWJAC9n               |      11     | 21-881-683-3829 |  3195.83  |  MACHINERY   |                                     egular dependencies wake reques                                     |\n",
       "|    280    | Customer#000000280 |              YLnIkFdUWmE,MI              |      11     | 21-537-461-3965 |  3952.84  |   BUILDING   |      yly quickly ruthless accounts. unusual deposits solve furiously across the requests. carefull      |\n",
       "|    292    | Customer#000000292 |              Ko3JXxuoWxIMR               |      11     | 21-457-910-2923 |  2975.43  |  HOUSEHOLD   |   ecial foxes play carefully silent deposits. quickly regular packages need to nag according to the th  |\n",
       "+-----------+--------------------+------------------------------------------+-------------+-----------------+-----------+--------------+---------------------------------------------------------------------------------------------------------+\n",
       "Truncated to displaylimit of 10."
      ]
     },
     "execution_count": 124,
     "metadata": {},
     "output_type": "execute_result"
    }
   ],
   "source": [
    "%%sql\n",
    "-- all customer rows that have (c_nationkey = 20 and c_acctbal > 1000) or rows that have c_nationkey = 11\n",
    "SELECT\n",
    "  *\n",
    "FROM\n",
    "  customer\n",
    "WHERE\n",
    "  (\n",
    "    c_nationkey = 20\n",
    "    AND c_acctbal > 1000\n",
    "  )\n",
    "  OR c_nationkey = 11\n",
    "LIMIT\n",
    "  10;"
   ]
  },
  {
   "cell_type": "markdown",
   "id": "b736e2ae-d270-4a5c-9716-b857ac29ccec",
   "metadata": {},
   "source": [
    "\n",
    "We can combine multiple filter clauses, as seen above. We have seen examples of equals (`=`) and greater than (`>`) conditional operators. There are 6 **conditional operators**, they are\n",
    "\n",
    "1. **<** Less than\n",
    "2. **>** Greater than\n",
    "3. **<=** Less than or equal to\n",
    "4. **>=** Greater than or equal to\n",
    "5. **=** Equal\n",
    "6. **<>** and **!=** both represent Not equal (some DBs only support one of these)\n",
    "\n",
    "Additionally, for string types, we can make **pattern matching with `like` condition**. In a `like` condition, a `_` means any single character, and `%` means zero or more characters, for example.\n",
    "\n",
    "\n"
   ]
  },
  {
   "cell_type": "code",
   "execution_count": 125,
   "id": "247b8483-1ac0-463c-af3f-eb2ba48feb37",
   "metadata": {},
   "outputs": [
    {
     "data": {
      "text/html": [
       "<span style=\"None\">Running query in &#x27;duckdb&#x27;</span>"
      ],
      "text/plain": [
       "Running query in 'duckdb'"
      ]
     },
     "metadata": {},
     "output_type": "display_data"
    },
    {
     "data": {
      "text/html": [
       "<table>\n",
       "    <thead>\n",
       "        <tr>\n",
       "            <th>c_custkey</th>\n",
       "            <th>c_name</th>\n",
       "            <th>c_address</th>\n",
       "            <th>c_nationkey</th>\n",
       "            <th>c_phone</th>\n",
       "            <th>c_acctbal</th>\n",
       "            <th>c_mktsegment</th>\n",
       "            <th>c_comment</th>\n",
       "        </tr>\n",
       "    </thead>\n",
       "    <tbody>\n",
       "        <tr>\n",
       "            <td>381</td>\n",
       "            <td>Customer#000000381</td>\n",
       "            <td>wXs5zN2nPHqPsfFO</td>\n",
       "            <td>5</td>\n",
       "            <td>15-860-208-7093</td>\n",
       "            <td>9931.71</td>\n",
       "            <td>BUILDING</td>\n",
       "            <td>ithely along the regular, regular theodolites. fluffily pending</td>\n",
       "        </tr>\n",
       "        <tr>\n",
       "            <td>1381</td>\n",
       "            <td>Customer#000001381</td>\n",
       "            <td>kAgLl7nUiPStCleWOiKevH3QAOhqtg9dVvrdN</td>\n",
       "            <td>22</td>\n",
       "            <td>32-418-900-6494</td>\n",
       "            <td>367.82</td>\n",
       "            <td>BUILDING</td>\n",
       "            <td>posits sleep carefully around the slyly e</td>\n",
       "        </tr>\n",
       "    </tbody>\n",
       "</table>"
      ],
      "text/plain": [
       "+-----------+--------------------+---------------------------------------+-------------+-----------------+-----------+--------------+-----------------------------------------------------------------+\n",
       "| c_custkey |       c_name       |               c_address               | c_nationkey |     c_phone     | c_acctbal | c_mktsegment |                            c_comment                            |\n",
       "+-----------+--------------------+---------------------------------------+-------------+-----------------+-----------+--------------+-----------------------------------------------------------------+\n",
       "|    381    | Customer#000000381 |            wXs5zN2nPHqPsfFO           |      5      | 15-860-208-7093 |  9931.71  |   BUILDING   | ithely along the regular, regular theodolites. fluffily pending |\n",
       "|    1381   | Customer#000001381 | kAgLl7nUiPStCleWOiKevH3QAOhqtg9dVvrdN |      22     | 32-418-900-6494 |   367.82  |   BUILDING   |            posits sleep carefully around the slyly e            |\n",
       "+-----------+--------------------+---------------------------------------+-------------+-----------------+-----------+--------------+-----------------------------------------------------------------+"
      ]
     },
     "execution_count": 125,
     "metadata": {},
     "output_type": "execute_result"
    }
   ],
   "source": [
    "%%sql\n",
    "-- all customer rows where the c_name has a 381 in it\n",
    "SELECT\n",
    "  *\n",
    "FROM\n",
    "  customer\n",
    "WHERE\n",
    "  c_name LIKE '%381%';"
   ]
  },
  {
   "cell_type": "code",
   "execution_count": 126,
   "id": "552ce625-34c6-4788-a778-575ff7b3e9e4",
   "metadata": {},
   "outputs": [
    {
     "data": {
      "text/html": [
       "<span style=\"None\">Running query in &#x27;duckdb&#x27;</span>"
      ],
      "text/plain": [
       "Running query in 'duckdb'"
      ]
     },
     "metadata": {},
     "output_type": "display_data"
    },
    {
     "data": {
      "text/html": [
       "<table>\n",
       "    <thead>\n",
       "        <tr>\n",
       "            <th>c_custkey</th>\n",
       "            <th>c_name</th>\n",
       "            <th>c_address</th>\n",
       "            <th>c_nationkey</th>\n",
       "            <th>c_phone</th>\n",
       "            <th>c_acctbal</th>\n",
       "            <th>c_mktsegment</th>\n",
       "            <th>c_comment</th>\n",
       "        </tr>\n",
       "    </thead>\n",
       "    <tbody>\n",
       "        <tr>\n",
       "            <td>381</td>\n",
       "            <td>Customer#000000381</td>\n",
       "            <td>wXs5zN2nPHqPsfFO</td>\n",
       "            <td>5</td>\n",
       "            <td>15-860-208-7093</td>\n",
       "            <td>9931.71</td>\n",
       "            <td>BUILDING</td>\n",
       "            <td>ithely along the regular, regular theodolites. fluffily pending</td>\n",
       "        </tr>\n",
       "        <tr>\n",
       "            <td>1381</td>\n",
       "            <td>Customer#000001381</td>\n",
       "            <td>kAgLl7nUiPStCleWOiKevH3QAOhqtg9dVvrdN</td>\n",
       "            <td>22</td>\n",
       "            <td>32-418-900-6494</td>\n",
       "            <td>367.82</td>\n",
       "            <td>BUILDING</td>\n",
       "            <td>posits sleep carefully around the slyly e</td>\n",
       "        </tr>\n",
       "    </tbody>\n",
       "</table>"
      ],
      "text/plain": [
       "+-----------+--------------------+---------------------------------------+-------------+-----------------+-----------+--------------+-----------------------------------------------------------------+\n",
       "| c_custkey |       c_name       |               c_address               | c_nationkey |     c_phone     | c_acctbal | c_mktsegment |                            c_comment                            |\n",
       "+-----------+--------------------+---------------------------------------+-------------+-----------------+-----------+--------------+-----------------------------------------------------------------+\n",
       "|    381    | Customer#000000381 |            wXs5zN2nPHqPsfFO           |      5      | 15-860-208-7093 |  9931.71  |   BUILDING   | ithely along the regular, regular theodolites. fluffily pending |\n",
       "|    1381   | Customer#000001381 | kAgLl7nUiPStCleWOiKevH3QAOhqtg9dVvrdN |      22     | 32-418-900-6494 |   367.82  |   BUILDING   |            posits sleep carefully around the slyly e            |\n",
       "+-----------+--------------------+---------------------------------------+-------------+-----------------+-----------+--------------+-----------------------------------------------------------------+"
      ]
     },
     "execution_count": 126,
     "metadata": {},
     "output_type": "execute_result"
    }
   ],
   "source": [
    "%%sql\n",
    "-- all customer rows where the c_name ends with a 381\n",
    "SELECT\n",
    "  *\n",
    "FROM\n",
    "  customer\n",
    "WHERE\n",
    "  c_name LIKE '%381';"
   ]
  },
  {
   "cell_type": "code",
   "execution_count": 127,
   "id": "b63571f5-d831-43bc-a915-499963f2fe22",
   "metadata": {},
   "outputs": [
    {
     "data": {
      "text/html": [
       "<span style=\"None\">Running query in &#x27;duckdb&#x27;</span>"
      ],
      "text/plain": [
       "Running query in 'duckdb'"
      ]
     },
     "metadata": {},
     "output_type": "display_data"
    },
    {
     "data": {
      "text/html": [
       "<table>\n",
       "    <thead>\n",
       "        <tr>\n",
       "            <th>c_custkey</th>\n",
       "            <th>c_name</th>\n",
       "            <th>c_address</th>\n",
       "            <th>c_nationkey</th>\n",
       "            <th>c_phone</th>\n",
       "            <th>c_acctbal</th>\n",
       "            <th>c_mktsegment</th>\n",
       "            <th>c_comment</th>\n",
       "        </tr>\n",
       "    </thead>\n",
       "    <tbody>\n",
       "    </tbody>\n",
       "</table>"
      ],
      "text/plain": [
       "+-----------+--------+-----------+-------------+---------+-----------+--------------+-----------+\n",
       "| c_custkey | c_name | c_address | c_nationkey | c_phone | c_acctbal | c_mktsegment | c_comment |\n",
       "+-----------+--------+-----------+-------------+---------+-----------+--------------+-----------+\n",
       "+-----------+--------+-----------+-------------+---------+-----------+--------------+-----------+"
      ]
     },
     "execution_count": 127,
     "metadata": {},
     "output_type": "execute_result"
    }
   ],
   "source": [
    "%%sql\n",
    "-- all customer rows where the c_name starts with a 381\n",
    "SELECT\n",
    "  *\n",
    "FROM\n",
    "  customer\n",
    "WHERE\n",
    "  c_name LIKE '381%';"
   ]
  },
  {
   "cell_type": "code",
   "execution_count": 128,
   "id": "792ab6ec-740e-49c8-b31e-f6073822e41a",
   "metadata": {},
   "outputs": [
    {
     "data": {
      "text/html": [
       "<span style=\"None\">Running query in &#x27;duckdb&#x27;</span>"
      ],
      "text/plain": [
       "Running query in 'duckdb'"
      ]
     },
     "metadata": {},
     "output_type": "display_data"
    },
    {
     "data": {
      "text/html": [
       "<table>\n",
       "    <thead>\n",
       "        <tr>\n",
       "            <th>c_custkey</th>\n",
       "            <th>c_name</th>\n",
       "            <th>c_address</th>\n",
       "            <th>c_nationkey</th>\n",
       "            <th>c_phone</th>\n",
       "            <th>c_acctbal</th>\n",
       "            <th>c_mktsegment</th>\n",
       "            <th>c_comment</th>\n",
       "        </tr>\n",
       "    </thead>\n",
       "    <tbody>\n",
       "        <tr>\n",
       "            <td>91</td>\n",
       "            <td>Customer#000000091</td>\n",
       "            <td>9Sce2m BjvDdjQkqMx8UnrUsJkk1IBAvZPTsA</td>\n",
       "            <td>8</td>\n",
       "            <td>18-239-400-3677</td>\n",
       "            <td>4643.14</td>\n",
       "            <td>AUTOMOBILE</td>\n",
       "            <td>yly ironic foxes lose slyly pending asymptotes. slyly final theodolites nag blithely ar</td>\n",
       "        </tr>\n",
       "        <tr>\n",
       "            <td>191</td>\n",
       "            <td>Customer#000000191</td>\n",
       "            <td>cZMo3 b4GwZtUmdbw</td>\n",
       "            <td>16</td>\n",
       "            <td>26-811-707-6869</td>\n",
       "            <td>2945.16</td>\n",
       "            <td>BUILDING</td>\n",
       "            <td>daringly quickly ironic foxes. care</td>\n",
       "        </tr>\n",
       "        <tr>\n",
       "            <td>291</td>\n",
       "            <td>Customer#000000291</td>\n",
       "            <td>2FfdPluDa2fxPaRh</td>\n",
       "            <td>8</td>\n",
       "            <td>18-657-656-2318</td>\n",
       "            <td>4261.68</td>\n",
       "            <td>HOUSEHOLD</td>\n",
       "            <td>ld deposits. regularly ironic pinto beans cajole permanently furiously express packages. regular, unusual sheaves </td>\n",
       "        </tr>\n",
       "        <tr>\n",
       "            <td>391</td>\n",
       "            <td>Customer#000000391</td>\n",
       "            <td>BZ,850WgpZ0YSFs79Sb</td>\n",
       "            <td>11</td>\n",
       "            <td>21-604-451-4462</td>\n",
       "            <td>4801.30</td>\n",
       "            <td>HOUSEHOLD</td>\n",
       "            <td>tions wake about the blithely final instructions. excuses sleep regular requests. slyly </td>\n",
       "        </tr>\n",
       "        <tr>\n",
       "            <td>491</td>\n",
       "            <td>Customer#000000491</td>\n",
       "            <td>AXsbcyMDujG,CAiEu4FmufbZ1k</td>\n",
       "            <td>0</td>\n",
       "            <td>10-856-259-7548</td>\n",
       "            <td>785.37</td>\n",
       "            <td>AUTOMOBILE</td>\n",
       "            <td>ly final, even hockey players. carefully final ideas w</td>\n",
       "        </tr>\n",
       "        <tr>\n",
       "            <td>591</td>\n",
       "            <td>Customer#000000591</td>\n",
       "            <td>wkmTqEmyI3UOEoG3q</td>\n",
       "            <td>20</td>\n",
       "            <td>30-584-309-7885</td>\n",
       "            <td>6344.66</td>\n",
       "            <td>MACHINERY</td>\n",
       "            <td>xpress deposits. slyly ironic ideas haggle: daringly even requests after the quickly final ideas boost q</td>\n",
       "        </tr>\n",
       "        <tr>\n",
       "            <td>691</td>\n",
       "            <td>Customer#000000691</td>\n",
       "            <td>0aGn3Vcf6ZKi82ogENfnso</td>\n",
       "            <td>16</td>\n",
       "            <td>26-741-688-4189</td>\n",
       "            <td>9566.15</td>\n",
       "            <td>MACHINERY</td>\n",
       "            <td>ven packages cajole fluffily fluffily unusual frays. ironic excuses sleep furiously. regular</td>\n",
       "        </tr>\n",
       "        <tr>\n",
       "            <td>791</td>\n",
       "            <td>Customer#000000791</td>\n",
       "            <td>Y14aVvMuDDgnmEuCEPK</td>\n",
       "            <td>13</td>\n",
       "            <td>23-575-775-4059</td>\n",
       "            <td>3694.81</td>\n",
       "            <td>HOUSEHOLD</td>\n",
       "            <td>beans use carefully furiously regular deposits. slyly </td>\n",
       "        </tr>\n",
       "        <tr>\n",
       "            <td>891</td>\n",
       "            <td>Customer#000000891</td>\n",
       "            <td>r4,EU38BM0qdbjwqH</td>\n",
       "            <td>11</td>\n",
       "            <td>21-439-958-7518</td>\n",
       "            <td>6032.18</td>\n",
       "            <td>FURNITURE</td>\n",
       "            <td>ong the quickly quick patterns. slyly</td>\n",
       "        </tr>\n",
       "        <tr>\n",
       "            <td>910</td>\n",
       "            <td>Customer#000000910</td>\n",
       "            <td>bKS7h8o7ZEiRj</td>\n",
       "            <td>9</td>\n",
       "            <td>19-899-463-4292</td>\n",
       "            <td>5794.69</td>\n",
       "            <td>BUILDING</td>\n",
       "            <td> silent deposits are. blithely final foxes cajole slyly according to the furiously re</td>\n",
       "        </tr>\n",
       "    </tbody>\n",
       "</table>\n",
       "<span style=\"font-style:italic;text-align:center;\">Truncated to <a href=\"https://jupysql.ploomber.io/en/latest/api/configuration.html#displaylimit\">displaylimit</a> of 10.</span>"
      ],
      "text/plain": [
       "+-----------+--------------------+---------------------------------------+-------------+-----------------+-----------+--------------+--------------------------------------------------------------------------------------------------------------------+\n",
       "| c_custkey |       c_name       |               c_address               | c_nationkey |     c_phone     | c_acctbal | c_mktsegment |                                                     c_comment                                                      |\n",
       "+-----------+--------------------+---------------------------------------+-------------+-----------------+-----------+--------------+--------------------------------------------------------------------------------------------------------------------+\n",
       "|     91    | Customer#000000091 | 9Sce2m BjvDdjQkqMx8UnrUsJkk1IBAvZPTsA |      8      | 18-239-400-3677 |  4643.14  |  AUTOMOBILE  |              yly ironic foxes lose slyly pending asymptotes. slyly final theodolites nag blithely ar               |\n",
       "|    191    | Customer#000000191 |           cZMo3 b4GwZtUmdbw           |      16     | 26-811-707-6869 |  2945.16  |   BUILDING   |                                        daringly quickly ironic foxes. care                                         |\n",
       "|    291    | Customer#000000291 |            2FfdPluDa2fxPaRh           |      8      | 18-657-656-2318 |  4261.68  |  HOUSEHOLD   | ld deposits. regularly ironic pinto beans cajole permanently furiously express packages. regular, unusual sheaves  |\n",
       "|    391    | Customer#000000391 |          BZ,850WgpZ0YSFs79Sb          |      11     | 21-604-451-4462 |  4801.30  |  HOUSEHOLD   |              tions wake about the blithely final instructions. excuses sleep regular requests. slyly               |\n",
       "|    491    | Customer#000000491 |       AXsbcyMDujG,CAiEu4FmufbZ1k      |      0      | 10-856-259-7548 |   785.37  |  AUTOMOBILE  |                               ly final, even hockey players. carefully final ideas w                               |\n",
       "|    591    | Customer#000000591 |           wkmTqEmyI3UOEoG3q           |      20     | 30-584-309-7885 |  6344.66  |  MACHINERY   |      xpress deposits. slyly ironic ideas haggle: daringly even requests after the quickly final ideas boost q      |\n",
       "|    691    | Customer#000000691 |         0aGn3Vcf6ZKi82ogENfnso        |      16     | 26-741-688-4189 |  9566.15  |  MACHINERY   |            ven packages cajole fluffily fluffily unusual frays. ironic excuses sleep furiously. regular            |\n",
       "|    791    | Customer#000000791 |          Y14aVvMuDDgnmEuCEPK          |      13     | 23-575-775-4059 |  3694.81  |  HOUSEHOLD   |                               beans use carefully furiously regular deposits. slyly                                |\n",
       "|    891    | Customer#000000891 |           r4,EU38BM0qdbjwqH           |      11     | 21-439-958-7518 |  6032.18  |  FURNITURE   |                                       ong the quickly quick patterns. slyly                                        |\n",
       "|    910    | Customer#000000910 |             bKS7h8o7ZEiRj             |      9      | 19-899-463-4292 |  5794.69  |   BUILDING   |                silent deposits are. blithely final foxes cajole slyly according to the furiously re                |\n",
       "+-----------+--------------------+---------------------------------------+-------------+-----------------+-----------+--------------+--------------------------------------------------------------------------------------------------------------------+\n",
       "Truncated to displaylimit of 10."
      ]
     },
     "execution_count": 128,
     "metadata": {},
     "output_type": "execute_result"
    }
   ],
   "source": [
    "%%sql\n",
    "-- all customer rows where the c_name has a combination of any character and 9 and 1\n",
    "SELECT\n",
    "  *\n",
    "FROM\n",
    "  customer\n",
    "WHERE\n",
    "  c_name LIKE '%_91%';"
   ]
  },
  {
   "cell_type": "markdown",
   "id": "bb5a094c-2859-4c74-94d4-bc28823fd262",
   "metadata": {},
   "source": [
    "We can also filter for more than one value using `IN` and `NOT IN`.\n"
   ]
  },
  {
   "cell_type": "code",
   "execution_count": 129,
   "id": "b5fd5982-1f3b-4524-9329-8e138fd0a1bd",
   "metadata": {},
   "outputs": [
    {
     "data": {
      "text/html": [
       "<span style=\"None\">Running query in &#x27;duckdb&#x27;</span>"
      ],
      "text/plain": [
       "Running query in 'duckdb'"
      ]
     },
     "metadata": {},
     "output_type": "display_data"
    },
    {
     "data": {
      "text/html": [
       "<table>\n",
       "    <thead>\n",
       "        <tr>\n",
       "            <th>c_custkey</th>\n",
       "            <th>c_name</th>\n",
       "            <th>c_address</th>\n",
       "            <th>c_nationkey</th>\n",
       "            <th>c_phone</th>\n",
       "            <th>c_acctbal</th>\n",
       "            <th>c_mktsegment</th>\n",
       "            <th>c_comment</th>\n",
       "        </tr>\n",
       "    </thead>\n",
       "    <tbody>\n",
       "        <tr>\n",
       "            <td>16</td>\n",
       "            <td>Customer#000000016</td>\n",
       "            <td>P2IQMff18ercaYrO,40</td>\n",
       "            <td>10</td>\n",
       "            <td>20-781-609-3107</td>\n",
       "            <td>4681.03</td>\n",
       "            <td>FURNITURE</td>\n",
       "            <td>ests cajole. pinto beans detect slyly. final packages cajole slyly </td>\n",
       "        </tr>\n",
       "        <tr>\n",
       "            <td>41</td>\n",
       "            <td>Customer#000000041</td>\n",
       "            <td>jeREsFtCuMqEwdvTFqTkY2NzGRYDG1m</td>\n",
       "            <td>10</td>\n",
       "            <td>20-917-711-4011</td>\n",
       "            <td>270.95</td>\n",
       "            <td>HOUSEHOLD</td>\n",
       "            <td>uctions wake carefully pending deposits: pinto beans along the carefully final deposits sleep blithely a</td>\n",
       "        </tr>\n",
       "        <tr>\n",
       "            <td>49</td>\n",
       "            <td>Customer#000000049</td>\n",
       "            <td>PdKqM4TlA OLTjaeRmvH7QWDu80USfslgqutF</td>\n",
       "            <td>10</td>\n",
       "            <td>20-908-631-4424</td>\n",
       "            <td>4573.94</td>\n",
       "            <td>FURNITURE</td>\n",
       "            <td>quests haggle! furiously unusual theodolites cajole carefully. t</td>\n",
       "        </tr>\n",
       "        <tr>\n",
       "            <td>55</td>\n",
       "            <td>Customer#000000055</td>\n",
       "            <td>ti9p9XgdmFsjsQI6XQrISDUMFAusnmKS SBoCE</td>\n",
       "            <td>10</td>\n",
       "            <td>20-180-440-8525</td>\n",
       "            <td>4572.11</td>\n",
       "            <td>MACHINERY</td>\n",
       "            <td>dolites. bold instructions wake fluffily regular ideas. regular theodolites are furiously carefully unusual ac</td>\n",
       "        </tr>\n",
       "        <tr>\n",
       "            <td>56</td>\n",
       "            <td>Customer#000000056</td>\n",
       "            <td>qh212iaGWtoVp</td>\n",
       "            <td>10</td>\n",
       "            <td>20-895-685-6920</td>\n",
       "            <td>6530.86</td>\n",
       "            <td>FURNITURE</td>\n",
       "            <td> quickly final dependencies. even dependencies are slyly regularly silent theodolites. slow a</td>\n",
       "        </tr>\n",
       "        <tr>\n",
       "            <td>104</td>\n",
       "            <td>Customer#000000104</td>\n",
       "            <td>SEOogsfT y09vI2z PcSTnI18U6rNTf</td>\n",
       "            <td>10</td>\n",
       "            <td>20-966-284-8065</td>\n",
       "            <td>-588.38</td>\n",
       "            <td>FURNITURE</td>\n",
       "            <td>efully bold deposits. carefully </td>\n",
       "        </tr>\n",
       "        <tr>\n",
       "            <td>105</td>\n",
       "            <td>Customer#000000105</td>\n",
       "            <td>XI8hMXfr8bIKTGhIRS2sYs,p</td>\n",
       "            <td>10</td>\n",
       "            <td>20-793-553-6417</td>\n",
       "            <td>9091.82</td>\n",
       "            <td>MACHINERY</td>\n",
       "            <td> solve pending, final requests. regular, bold platele</td>\n",
       "        </tr>\n",
       "        <tr>\n",
       "            <td>110</td>\n",
       "            <td>Customer#000000110</td>\n",
       "            <td>FtEbLLBJQ24d2yG</td>\n",
       "            <td>10</td>\n",
       "            <td>20-893-536-2069</td>\n",
       "            <td>7462.99</td>\n",
       "            <td>AUTOMOBILE</td>\n",
       "            <td>unts. fluffily express dolphins cajole furiously. fluffily special pinto beans about the furiously express asym</td>\n",
       "        </tr>\n",
       "        <tr>\n",
       "            <td>158</td>\n",
       "            <td>Customer#000000158</td>\n",
       "            <td>ZjQ2uJ,hZUZ,QCi,oNltA40 4dt</td>\n",
       "            <td>10</td>\n",
       "            <td>20-383-680-1329</td>\n",
       "            <td>6160.95</td>\n",
       "            <td>AUTOMOBILE</td>\n",
       "            <td>inal asymptotes. ironic accounts detec</td>\n",
       "        </tr>\n",
       "        <tr>\n",
       "            <td>159</td>\n",
       "            <td>Customer#000000159</td>\n",
       "            <td>hCyzNocUmjEtz5xSYYzUCH1Bk1wF7</td>\n",
       "            <td>10</td>\n",
       "            <td>20-888-668-2668</td>\n",
       "            <td>2060.06</td>\n",
       "            <td>HOUSEHOLD</td>\n",
       "            <td>refully blithely final orbits. pending, final packages after the carefully ironic platelets nag carefully </td>\n",
       "        </tr>\n",
       "    </tbody>\n",
       "</table>\n",
       "<span style=\"font-style:italic;text-align:center;\">Truncated to <a href=\"https://jupysql.ploomber.io/en/latest/api/configuration.html#displaylimit\">displaylimit</a> of 10.</span>"
      ],
      "text/plain": [
       "+-----------+--------------------+----------------------------------------+-------------+-----------------+-----------+--------------+-----------------------------------------------------------------------------------------------------------------+\n",
       "| c_custkey |       c_name       |               c_address                | c_nationkey |     c_phone     | c_acctbal | c_mktsegment |                                                    c_comment                                                    |\n",
       "+-----------+--------------------+----------------------------------------+-------------+-----------------+-----------+--------------+-----------------------------------------------------------------------------------------------------------------+\n",
       "|     16    | Customer#000000016 |          P2IQMff18ercaYrO,40           |      10     | 20-781-609-3107 |  4681.03  |  FURNITURE   |                       ests cajole. pinto beans detect slyly. final packages cajole slyly                        |\n",
       "|     41    | Customer#000000041 |    jeREsFtCuMqEwdvTFqTkY2NzGRYDG1m     |      10     | 20-917-711-4011 |   270.95  |  HOUSEHOLD   |     uctions wake carefully pending deposits: pinto beans along the carefully final deposits sleep blithely a    |\n",
       "|     49    | Customer#000000049 | PdKqM4TlA OLTjaeRmvH7QWDu80USfslgqutF  |      10     | 20-908-631-4424 |  4573.94  |  FURNITURE   |                         quests haggle! furiously unusual theodolites cajole carefully. t                        |\n",
       "|     55    | Customer#000000055 | ti9p9XgdmFsjsQI6XQrISDUMFAusnmKS SBoCE |      10     | 20-180-440-8525 |  4572.11  |  MACHINERY   |  dolites. bold instructions wake fluffily regular ideas. regular theodolites are furiously carefully unusual ac |\n",
       "|     56    | Customer#000000056 |             qh212iaGWtoVp              |      10     | 20-895-685-6920 |  6530.86  |  FURNITURE   |           quickly final dependencies. even dependencies are slyly regularly silent theodolites. slow a          |\n",
       "|    104    | Customer#000000104 |    SEOogsfT y09vI2z PcSTnI18U6rNTf     |      10     | 20-966-284-8065 |  -588.38  |  FURNITURE   |                                         efully bold deposits. carefully                                         |\n",
       "|    105    | Customer#000000105 |        XI8hMXfr8bIKTGhIRS2sYs,p        |      10     | 20-793-553-6417 |  9091.82  |  MACHINERY   |                               solve pending, final requests. regular, bold platele                              |\n",
       "|    110    | Customer#000000110 |            FtEbLLBJQ24d2yG             |      10     | 20-893-536-2069 |  7462.99  |  AUTOMOBILE  | unts. fluffily express dolphins cajole furiously. fluffily special pinto beans about the furiously express asym |\n",
       "|    158    | Customer#000000158 |      ZjQ2uJ,hZUZ,QCi,oNltA40 4dt       |      10     | 20-383-680-1329 |  6160.95  |  AUTOMOBILE  |                                      inal asymptotes. ironic accounts detec                                     |\n",
       "|    159    | Customer#000000159 |     hCyzNocUmjEtz5xSYYzUCH1Bk1wF7      |      10     | 20-888-668-2668 |  2060.06  |  HOUSEHOLD   |    refully blithely final orbits. pending, final packages after the carefully ironic platelets nag carefully    |\n",
       "+-----------+--------------------+----------------------------------------+-------------+-----------------+-----------+--------------+-----------------------------------------------------------------------------------------------------------------+\n",
       "Truncated to displaylimit of 10."
      ]
     },
     "execution_count": 129,
     "metadata": {},
     "output_type": "execute_result"
    }
   ],
   "source": [
    "%%sql\n",
    "-- all customer rows which have c_nationkey = 10 or c_nationkey = 20\n",
    "SELECT\n",
    "  *\n",
    "FROM\n",
    "  customer\n",
    "WHERE\n",
    "  c_nationkey IN (10, 20);"
   ]
  },
  {
   "cell_type": "code",
   "execution_count": 130,
   "id": "05c9cce1-4c83-4d48-864e-2093eee48547",
   "metadata": {},
   "outputs": [
    {
     "data": {
      "text/html": [
       "<span style=\"None\">Running query in &#x27;duckdb&#x27;</span>"
      ],
      "text/plain": [
       "Running query in 'duckdb'"
      ]
     },
     "metadata": {},
     "output_type": "display_data"
    },
    {
     "data": {
      "text/html": [
       "<table>\n",
       "    <thead>\n",
       "        <tr>\n",
       "            <th>c_custkey</th>\n",
       "            <th>c_name</th>\n",
       "            <th>c_address</th>\n",
       "            <th>c_nationkey</th>\n",
       "            <th>c_phone</th>\n",
       "            <th>c_acctbal</th>\n",
       "            <th>c_mktsegment</th>\n",
       "            <th>c_comment</th>\n",
       "        </tr>\n",
       "    </thead>\n",
       "    <tbody>\n",
       "        <tr>\n",
       "            <td>1</td>\n",
       "            <td>Customer#000000001</td>\n",
       "            <td>j5JsirBM9PsCy0O1m</td>\n",
       "            <td>15</td>\n",
       "            <td>25-989-741-2988</td>\n",
       "            <td>711.56</td>\n",
       "            <td>BUILDING</td>\n",
       "            <td>y final requests wake slyly quickly special accounts. blithely</td>\n",
       "        </tr>\n",
       "        <tr>\n",
       "            <td>2</td>\n",
       "            <td>Customer#000000002</td>\n",
       "            <td>487LW1dovn6Q4dMVymKwwLE9OKf3QG</td>\n",
       "            <td>13</td>\n",
       "            <td>23-768-687-3665</td>\n",
       "            <td>121.65</td>\n",
       "            <td>AUTOMOBILE</td>\n",
       "            <td>y carefully regular foxes. slyly regular requests about the bli</td>\n",
       "        </tr>\n",
       "        <tr>\n",
       "            <td>3</td>\n",
       "            <td>Customer#000000003</td>\n",
       "            <td>fkRGN8nY4pkE</td>\n",
       "            <td>1</td>\n",
       "            <td>11-719-748-3364</td>\n",
       "            <td>7498.12</td>\n",
       "            <td>AUTOMOBILE</td>\n",
       "            <td>fully. carefully silent instructions sleep alongside of the slyly regular asymptotes. quickly regular </td>\n",
       "        </tr>\n",
       "        <tr>\n",
       "            <td>4</td>\n",
       "            <td>Customer#000000004</td>\n",
       "            <td>4u58h fqkyE</td>\n",
       "            <td>4</td>\n",
       "            <td>14-128-190-5944</td>\n",
       "            <td>2866.83</td>\n",
       "            <td>MACHINERY</td>\n",
       "            <td> sublate. fluffily even instructions are about th</td>\n",
       "        </tr>\n",
       "        <tr>\n",
       "            <td>5</td>\n",
       "            <td>Customer#000000005</td>\n",
       "            <td>hwBtxkoBF qSW4KrIk5U 2B1AU7H</td>\n",
       "            <td>3</td>\n",
       "            <td>13-750-942-6364</td>\n",
       "            <td>794.47</td>\n",
       "            <td>HOUSEHOLD</td>\n",
       "            <td>equests haggle furiously against the pending packa</td>\n",
       "        </tr>\n",
       "        <tr>\n",
       "            <td>7</td>\n",
       "            <td>Customer#000000007</td>\n",
       "            <td>8OkMVLQ1dK6Mbu6WG9 w4pLGQ n7MQ</td>\n",
       "            <td>18</td>\n",
       "            <td>28-190-982-9759</td>\n",
       "            <td>9561.95</td>\n",
       "            <td>AUTOMOBILE</td>\n",
       "            <td>ounts. ironic, regular accounts sleep. final requests haggle quickly after the</td>\n",
       "        </tr>\n",
       "        <tr>\n",
       "            <td>8</td>\n",
       "            <td>Customer#000000008</td>\n",
       "            <td>j,pZ,Qp,qtFEo0r0c 92qobZtlhSuOqbE4JGV</td>\n",
       "            <td>17</td>\n",
       "            <td>27-147-574-9335</td>\n",
       "            <td>6819.74</td>\n",
       "            <td>BUILDING</td>\n",
       "            <td>riously final excuses sublate quickly among the fluffily even foxes. quickly final packages haggle furiously furi</td>\n",
       "        </tr>\n",
       "        <tr>\n",
       "            <td>9</td>\n",
       "            <td>Customer#000000009</td>\n",
       "            <td>vgIql8H6zoyuLMFNdAMLyE7 H9</td>\n",
       "            <td>8</td>\n",
       "            <td>18-338-906-3675</td>\n",
       "            <td>8324.07</td>\n",
       "            <td>FURNITURE</td>\n",
       "            <td>ss pinto beans believe slyly quiet deposits-- doggedly bold packages boost. quickly ironic de</td>\n",
       "        </tr>\n",
       "        <tr>\n",
       "            <td>10</td>\n",
       "            <td>Customer#000000010</td>\n",
       "            <td>Vf mQ6Ug9Ucf5OKGYq fsaX AtfsO7,rwY</td>\n",
       "            <td>5</td>\n",
       "            <td>15-741-346-9870</td>\n",
       "            <td>2753.54</td>\n",
       "            <td>HOUSEHOLD</td>\n",
       "            <td>g quickly after the evenly bold</td>\n",
       "        </tr>\n",
       "        <tr>\n",
       "            <td>11</td>\n",
       "            <td>Customer#000000011</td>\n",
       "            <td>cG48rYjF3Aw7xs hKUXXqmI</td>\n",
       "            <td>23</td>\n",
       "            <td>33-464-151-3439</td>\n",
       "            <td>-272.60</td>\n",
       "            <td>BUILDING</td>\n",
       "            <td>ng to the regular foxes. furiously final deposits across the final platelets cajole quickly above th</td>\n",
       "        </tr>\n",
       "    </tbody>\n",
       "</table>\n",
       "<span style=\"font-style:italic;text-align:center;\">Truncated to <a href=\"https://jupysql.ploomber.io/en/latest/api/configuration.html#displaylimit\">displaylimit</a> of 10.</span>"
      ],
      "text/plain": [
       "+-----------+--------------------+---------------------------------------+-------------+-----------------+-----------+--------------+-------------------------------------------------------------------------------------------------------------------+\n",
       "| c_custkey |       c_name       |               c_address               | c_nationkey |     c_phone     | c_acctbal | c_mktsegment |                                                     c_comment                                                     |\n",
       "+-----------+--------------------+---------------------------------------+-------------+-----------------+-----------+--------------+-------------------------------------------------------------------------------------------------------------------+\n",
       "|     1     | Customer#000000001 |           j5JsirBM9PsCy0O1m           |      15     | 25-989-741-2988 |   711.56  |   BUILDING   |                           y final requests wake slyly quickly special accounts. blithely                          |\n",
       "|     2     | Customer#000000002 |     487LW1dovn6Q4dMVymKwwLE9OKf3QG    |      13     | 23-768-687-3665 |   121.65  |  AUTOMOBILE  |                          y carefully regular foxes. slyly regular requests about the bli                          |\n",
       "|     3     | Customer#000000003 |              fkRGN8nY4pkE             |      1      | 11-719-748-3364 |  7498.12  |  AUTOMOBILE  |       fully. carefully silent instructions sleep alongside of the slyly regular asymptotes. quickly regular       |\n",
       "|     4     | Customer#000000004 |              4u58h fqkyE              |      4      | 14-128-190-5944 |  2866.83  |  MACHINERY   |                                  sublate. fluffily even instructions are about th                                 |\n",
       "|     5     | Customer#000000005 |      hwBtxkoBF qSW4KrIk5U 2B1AU7H     |      3      | 13-750-942-6364 |   794.47  |  HOUSEHOLD   |                                 equests haggle furiously against the pending packa                                |\n",
       "|     7     | Customer#000000007 |     8OkMVLQ1dK6Mbu6WG9 w4pLGQ n7MQ    |      18     | 28-190-982-9759 |  9561.95  |  AUTOMOBILE  |                   ounts. ironic, regular accounts sleep. final requests haggle quickly after the                  |\n",
       "|     8     | Customer#000000008 | j,pZ,Qp,qtFEo0r0c 92qobZtlhSuOqbE4JGV |      17     | 27-147-574-9335 |  6819.74  |   BUILDING   | riously final excuses sublate quickly among the fluffily even foxes. quickly final packages haggle furiously furi |\n",
       "|     9     | Customer#000000009 |       vgIql8H6zoyuLMFNdAMLyE7 H9      |      8      | 18-338-906-3675 |  8324.07  |  FURNITURE   |           ss pinto beans believe slyly quiet deposits-- doggedly bold packages boost. quickly ironic de           |\n",
       "|     10    | Customer#000000010 |   Vf mQ6Ug9Ucf5OKGYq fsaX AtfsO7,rwY  |      5      | 15-741-346-9870 |  2753.54  |  HOUSEHOLD   |                                          g quickly after the evenly bold                                          |\n",
       "|     11    | Customer#000000011 |        cG48rYjF3Aw7xs hKUXXqmI        |      23     | 33-464-151-3439 |  -272.60  |   BUILDING   |        ng to the regular foxes. furiously final deposits across the final platelets cajole quickly above th       |\n",
       "+-----------+--------------------+---------------------------------------+-------------+-----------------+-----------+--------------+-------------------------------------------------------------------------------------------------------------------+\n",
       "Truncated to displaylimit of 10."
      ]
     },
     "execution_count": 130,
     "metadata": {},
     "output_type": "execute_result"
    }
   ],
   "source": [
    "%%sql\n",
    "-- all customer rows which have do not have c_nationkey as 10 or 20\n",
    "SELECT\n",
    "  *\n",
    "FROM\n",
    "  customer\n",
    "WHERE\n",
    "  c_nationkey NOT IN (10, 20);"
   ]
  },
  {
   "cell_type": "markdown",
   "id": "9b98fcb8-f341-482d-b2ca-3ba152652713",
   "metadata": {},
   "source": [
    "We can get the number of rows in a table using `count(*)` as shown below.\n"
   ]
  },
  {
   "cell_type": "code",
   "execution_count": 131,
   "id": "c55c62f1-a470-4159-917f-168cac5baed2",
   "metadata": {},
   "outputs": [
    {
     "data": {
      "text/html": [
       "<span style=\"None\">Running query in &#x27;duckdb&#x27;</span>"
      ],
      "text/plain": [
       "Running query in 'duckdb'"
      ]
     },
     "metadata": {},
     "output_type": "display_data"
    },
    {
     "data": {
      "text/html": [
       "<table>\n",
       "    <thead>\n",
       "        <tr>\n",
       "            <th>count_star()</th>\n",
       "        </tr>\n",
       "    </thead>\n",
       "    <tbody>\n",
       "        <tr>\n",
       "            <td>1500</td>\n",
       "        </tr>\n",
       "    </tbody>\n",
       "</table>"
      ],
      "text/plain": [
       "+--------------+\n",
       "| count_star() |\n",
       "+--------------+\n",
       "|     1500     |\n",
       "+--------------+"
      ]
     },
     "execution_count": 131,
     "metadata": {},
     "output_type": "execute_result"
    }
   ],
   "source": [
    "%%sql\n",
    "SELECT\n",
    "  COUNT(*)\n",
    "FROM\n",
    "  customer;"
   ]
  },
  {
   "cell_type": "code",
   "execution_count": 132,
   "id": "c3771d00-5aad-4283-beaa-e8c39fe63fa2",
   "metadata": {},
   "outputs": [
    {
     "data": {
      "text/html": [
       "<span style=\"None\">Running query in &#x27;duckdb&#x27;</span>"
      ],
      "text/plain": [
       "Running query in 'duckdb'"
      ]
     },
     "metadata": {},
     "output_type": "display_data"
    },
    {
     "data": {
      "text/html": [
       "<table>\n",
       "    <thead>\n",
       "        <tr>\n",
       "            <th>count_star()</th>\n",
       "        </tr>\n",
       "    </thead>\n",
       "    <tbody>\n",
       "        <tr>\n",
       "            <td>60175</td>\n",
       "        </tr>\n",
       "    </tbody>\n",
       "</table>"
      ],
      "text/plain": [
       "+--------------+\n",
       "| count_star() |\n",
       "+--------------+\n",
       "|    60175     |\n",
       "+--------------+"
      ]
     },
     "execution_count": 132,
     "metadata": {},
     "output_type": "execute_result"
    }
   ],
   "source": [
    "%%sql\n",
    "SELECT\n",
    "  COUNT(*)\n",
    "FROM\n",
    "  lineitem;"
   ]
  },
  {
   "cell_type": "markdown",
   "id": "7e4785b3-88f8-4326-b9c5-e89ef2e5df46",
   "metadata": {},
   "source": [
    "If we want to get the rows sorted by values in a specific column, we use `ORDER BY`, for example.\n"
   ]
  },
  {
   "cell_type": "code",
   "execution_count": 133,
   "id": "22427aa1-c42c-4976-96db-942846f82608",
   "metadata": {},
   "outputs": [
    {
     "data": {
      "text/html": [
       "<span style=\"None\">Running query in &#x27;duckdb&#x27;</span>"
      ],
      "text/plain": [
       "Running query in 'duckdb'"
      ]
     },
     "metadata": {},
     "output_type": "display_data"
    },
    {
     "data": {
      "text/html": [
       "<table>\n",
       "    <thead>\n",
       "        <tr>\n",
       "            <th>o_orderkey</th>\n",
       "            <th>o_custkey</th>\n",
       "            <th>o_orderstatus</th>\n",
       "            <th>o_totalprice</th>\n",
       "            <th>o_orderdate</th>\n",
       "            <th>o_orderpriority</th>\n",
       "            <th>o_clerk</th>\n",
       "            <th>o_shippriority</th>\n",
       "            <th>o_comment</th>\n",
       "        </tr>\n",
       "    </thead>\n",
       "    <tbody>\n",
       "        <tr>\n",
       "            <td>9154</td>\n",
       "            <td>1</td>\n",
       "            <td>O</td>\n",
       "            <td>357345.46</td>\n",
       "            <td>1997-06-23</td>\n",
       "            <td>4-NOT SPECIFIED</td>\n",
       "            <td>Clerk#000000328</td>\n",
       "            <td>0</td>\n",
       "            <td>ld deposits. express, final accounts affix fluff</td>\n",
       "        </tr>\n",
       "        <tr>\n",
       "            <td>14656</td>\n",
       "            <td>1</td>\n",
       "            <td>O</td>\n",
       "            <td>28599.83</td>\n",
       "            <td>1997-11-18</td>\n",
       "            <td>2-HIGH</td>\n",
       "            <td>Clerk#000000270</td>\n",
       "            <td>0</td>\n",
       "            <td> fluffily against the furious</td>\n",
       "        </tr>\n",
       "        <tr>\n",
       "            <td>24322</td>\n",
       "            <td>1</td>\n",
       "            <td>O</td>\n",
       "            <td>231040.44</td>\n",
       "            <td>1997-01-29</td>\n",
       "            <td>1-URGENT</td>\n",
       "            <td>Clerk#000000100</td>\n",
       "            <td>0</td>\n",
       "            <td>eans cajole about the furiously pending</td>\n",
       "        </tr>\n",
       "        <tr>\n",
       "            <td>31653</td>\n",
       "            <td>1</td>\n",
       "            <td>F</td>\n",
       "            <td>152411.41</td>\n",
       "            <td>1993-06-05</td>\n",
       "            <td>2-HIGH</td>\n",
       "            <td>Clerk#000000346</td>\n",
       "            <td>0</td>\n",
       "            <td> lose silent ideas.</td>\n",
       "        </tr>\n",
       "        <tr>\n",
       "            <td>34019</td>\n",
       "            <td>1</td>\n",
       "            <td>O</td>\n",
       "            <td>89230.03</td>\n",
       "            <td>1998-03-29</td>\n",
       "            <td>5-LOW</td>\n",
       "            <td>Clerk#000000815</td>\n",
       "            <td>0</td>\n",
       "            <td>ckages across the silent, unusual package</td>\n",
       "        </tr>\n",
       "        <tr>\n",
       "            <td>36422</td>\n",
       "            <td>1</td>\n",
       "            <td>O</td>\n",
       "            <td>270087.44</td>\n",
       "            <td>1997-03-04</td>\n",
       "            <td>3-MEDIUM</td>\n",
       "            <td>Clerk#000000532</td>\n",
       "            <td>0</td>\n",
       "            <td>s. slyly regular platelets doubt slyly after the thinly</td>\n",
       "        </tr>\n",
       "        <tr>\n",
       "            <td>43879</td>\n",
       "            <td>1</td>\n",
       "            <td>F</td>\n",
       "            <td>83095.85</td>\n",
       "            <td>1993-08-13</td>\n",
       "            <td>2-HIGH</td>\n",
       "            <td>Clerk#000000092</td>\n",
       "            <td>0</td>\n",
       "            <td>nding pinto beans. furiou</td>\n",
       "        </tr>\n",
       "        <tr>\n",
       "            <td>52263</td>\n",
       "            <td>1</td>\n",
       "            <td>F</td>\n",
       "            <td>51134.82</td>\n",
       "            <td>1994-05-08</td>\n",
       "            <td>4-NOT SPECIFIED</td>\n",
       "            <td>Clerk#000000080</td>\n",
       "            <td>0</td>\n",
       "            <td>uests dazzle blithely against the final, final requests. regular theodo</td>\n",
       "        </tr>\n",
       "        <tr>\n",
       "            <td>53283</td>\n",
       "            <td>1</td>\n",
       "            <td>O</td>\n",
       "            <td>165928.33</td>\n",
       "            <td>1995-10-29</td>\n",
       "            <td>2-HIGH</td>\n",
       "            <td>Clerk#000000802</td>\n",
       "            <td>0</td>\n",
       "            <td>s. furiously pending foxes are fluf</td>\n",
       "        </tr>\n",
       "        <tr>\n",
       "            <td>6980</td>\n",
       "            <td>2</td>\n",
       "            <td>F</td>\n",
       "            <td>170842.93</td>\n",
       "            <td>1993-02-19</td>\n",
       "            <td>4-NOT SPECIFIED</td>\n",
       "            <td>Clerk#000000518</td>\n",
       "            <td>0</td>\n",
       "            <td>fully final tithes haggle slyly. carefully unusual asymptote</td>\n",
       "        </tr>\n",
       "    </tbody>\n",
       "</table>\n",
       "<span style=\"font-style:italic;text-align:center;\">Truncated to <a href=\"https://jupysql.ploomber.io/en/latest/api/configuration.html#displaylimit\">displaylimit</a> of 10.</span>"
      ],
      "text/plain": [
       "+------------+-----------+---------------+--------------+-------------+-----------------+-----------------+----------------+-------------------------------------------------------------------------+\n",
       "| o_orderkey | o_custkey | o_orderstatus | o_totalprice | o_orderdate | o_orderpriority |     o_clerk     | o_shippriority |                                o_comment                                |\n",
       "+------------+-----------+---------------+--------------+-------------+-----------------+-----------------+----------------+-------------------------------------------------------------------------+\n",
       "|    9154    |     1     |       O       |  357345.46   |  1997-06-23 | 4-NOT SPECIFIED | Clerk#000000328 |       0        |             ld deposits. express, final accounts affix fluff            |\n",
       "|   14656    |     1     |       O       |   28599.83   |  1997-11-18 |      2-HIGH     | Clerk#000000270 |       0        |                       fluffily against the furious                      |\n",
       "|   24322    |     1     |       O       |  231040.44   |  1997-01-29 |     1-URGENT    | Clerk#000000100 |       0        |                 eans cajole about the furiously pending                 |\n",
       "|   31653    |     1     |       F       |  152411.41   |  1993-06-05 |      2-HIGH     | Clerk#000000346 |       0        |                            lose silent ideas.                           |\n",
       "|   34019    |     1     |       O       |   89230.03   |  1998-03-29 |      5-LOW      | Clerk#000000815 |       0        |                ckages across the silent, unusual package                |\n",
       "|   36422    |     1     |       O       |  270087.44   |  1997-03-04 |     3-MEDIUM    | Clerk#000000532 |       0        |         s. slyly regular platelets doubt slyly after the thinly         |\n",
       "|   43879    |     1     |       F       |   83095.85   |  1993-08-13 |      2-HIGH     | Clerk#000000092 |       0        |                        nding pinto beans. furiou                        |\n",
       "|   52263    |     1     |       F       |   51134.82   |  1994-05-08 | 4-NOT SPECIFIED | Clerk#000000080 |       0        | uests dazzle blithely against the final, final requests. regular theodo |\n",
       "|   53283    |     1     |       O       |  165928.33   |  1995-10-29 |      2-HIGH     | Clerk#000000802 |       0        |                   s. furiously pending foxes are fluf                   |\n",
       "|    6980    |     2     |       F       |  170842.93   |  1993-02-19 | 4-NOT SPECIFIED | Clerk#000000518 |       0        |       fully final tithes haggle slyly. carefully unusual asymptote      |\n",
       "+------------+-----------+---------------+--------------+-------------+-----------------+-----------------+----------------+-------------------------------------------------------------------------+\n",
       "Truncated to displaylimit of 10."
      ]
     },
     "execution_count": 133,
     "metadata": {},
     "output_type": "execute_result"
    }
   ],
   "source": [
    "%%sql\n",
    "-- Will show the first ten customer records with the lowest custkey\n",
    "-- rows are ordered in ASC order by default\n",
    "SELECT\n",
    "  *\n",
    "FROM\n",
    "  orders\n",
    "ORDER BY\n",
    "  o_custkey\n",
    "LIMIT\n",
    "  10;"
   ]
  },
  {
   "cell_type": "code",
   "execution_count": 134,
   "id": "f91197c2-0511-4432-a03c-4e478de00d99",
   "metadata": {},
   "outputs": [
    {
     "data": {
      "text/html": [
       "<span style=\"None\">Running query in &#x27;duckdb&#x27;</span>"
      ],
      "text/plain": [
       "Running query in 'duckdb'"
      ]
     },
     "metadata": {},
     "output_type": "display_data"
    },
    {
     "data": {
      "text/html": [
       "<table>\n",
       "    <thead>\n",
       "        <tr>\n",
       "            <th>o_orderkey</th>\n",
       "            <th>o_custkey</th>\n",
       "            <th>o_orderstatus</th>\n",
       "            <th>o_totalprice</th>\n",
       "            <th>o_orderdate</th>\n",
       "            <th>o_orderpriority</th>\n",
       "            <th>o_clerk</th>\n",
       "            <th>o_shippriority</th>\n",
       "            <th>o_comment</th>\n",
       "        </tr>\n",
       "    </thead>\n",
       "    <tbody>\n",
       "        <tr>\n",
       "            <td>1252</td>\n",
       "            <td>1499</td>\n",
       "            <td>O</td>\n",
       "            <td>135540.70</td>\n",
       "            <td>1997-08-04</td>\n",
       "            <td>5-LOW</td>\n",
       "            <td>Clerk#000000348</td>\n",
       "            <td>0</td>\n",
       "            <td> packages use blithely across the furiously express excuses. carefull</td>\n",
       "        </tr>\n",
       "        <tr>\n",
       "            <td>1472</td>\n",
       "            <td>1499</td>\n",
       "            <td>O</td>\n",
       "            <td>72730.13</td>\n",
       "            <td>1996-10-06</td>\n",
       "            <td>5-LOW</td>\n",
       "            <td>Clerk#000000303</td>\n",
       "            <td>0</td>\n",
       "            <td>riously requests. quickly even requests boost slyly. furiou</td>\n",
       "        </tr>\n",
       "        <tr>\n",
       "            <td>3523</td>\n",
       "            <td>1499</td>\n",
       "            <td>O</td>\n",
       "            <td>179947.37</td>\n",
       "            <td>1998-04-07</td>\n",
       "            <td>2-HIGH</td>\n",
       "            <td>Clerk#000000688</td>\n",
       "            <td>0</td>\n",
       "            <td>ckages. regular, express ideas</td>\n",
       "        </tr>\n",
       "        <tr>\n",
       "            <td>7301</td>\n",
       "            <td>1499</td>\n",
       "            <td>F</td>\n",
       "            <td>35717.11</td>\n",
       "            <td>1993-12-29</td>\n",
       "            <td>5-LOW</td>\n",
       "            <td>Clerk#000000143</td>\n",
       "            <td>0</td>\n",
       "            <td>heodolites haggle. blithely </td>\n",
       "        </tr>\n",
       "        <tr>\n",
       "            <td>8197</td>\n",
       "            <td>1499</td>\n",
       "            <td>O</td>\n",
       "            <td>158353.88</td>\n",
       "            <td>1998-01-07</td>\n",
       "            <td>2-HIGH</td>\n",
       "            <td>Clerk#000000473</td>\n",
       "            <td>0</td>\n",
       "            <td>into beans. furiously even deposits</td>\n",
       "        </tr>\n",
       "        <tr>\n",
       "            <td>15328</td>\n",
       "            <td>1499</td>\n",
       "            <td>O</td>\n",
       "            <td>72202.04</td>\n",
       "            <td>1997-01-06</td>\n",
       "            <td>1-URGENT</td>\n",
       "            <td>Clerk#000000750</td>\n",
       "            <td>0</td>\n",
       "            <td> sublate fluffily fluffily final accounts. carefully ironic pa</td>\n",
       "        </tr>\n",
       "        <tr>\n",
       "            <td>21410</td>\n",
       "            <td>1499</td>\n",
       "            <td>F</td>\n",
       "            <td>54168.29</td>\n",
       "            <td>1992-05-02</td>\n",
       "            <td>1-URGENT</td>\n",
       "            <td>Clerk#000000944</td>\n",
       "            <td>0</td>\n",
       "            <td>e ironically final packages. carefully final</td>\n",
       "        </tr>\n",
       "        <tr>\n",
       "            <td>26210</td>\n",
       "            <td>1499</td>\n",
       "            <td>F</td>\n",
       "            <td>203425.25</td>\n",
       "            <td>1993-02-26</td>\n",
       "            <td>4-NOT SPECIFIED</td>\n",
       "            <td>Clerk#000000344</td>\n",
       "            <td>0</td>\n",
       "            <td>usly ironic packages nag. s</td>\n",
       "        </tr>\n",
       "        <tr>\n",
       "            <td>28867</td>\n",
       "            <td>1499</td>\n",
       "            <td>O</td>\n",
       "            <td>187970.14</td>\n",
       "            <td>1995-07-23</td>\n",
       "            <td>3-MEDIUM</td>\n",
       "            <td>Clerk#000000322</td>\n",
       "            <td>0</td>\n",
       "            <td> special, ironic packages. bold, special deposits wake above the </td>\n",
       "        </tr>\n",
       "        <tr>\n",
       "            <td>35143</td>\n",
       "            <td>1499</td>\n",
       "            <td>O</td>\n",
       "            <td>29798.01</td>\n",
       "            <td>1995-10-06</td>\n",
       "            <td>5-LOW</td>\n",
       "            <td>Clerk#000000871</td>\n",
       "            <td>0</td>\n",
       "            <td>silent theodolites. slyly fin</td>\n",
       "        </tr>\n",
       "    </tbody>\n",
       "</table>\n",
       "<span style=\"font-style:italic;text-align:center;\">Truncated to <a href=\"https://jupysql.ploomber.io/en/latest/api/configuration.html#displaylimit\">displaylimit</a> of 10.</span>"
      ],
      "text/plain": [
       "+------------+-----------+---------------+--------------+-------------+-----------------+-----------------+----------------+-----------------------------------------------------------------------+\n",
       "| o_orderkey | o_custkey | o_orderstatus | o_totalprice | o_orderdate | o_orderpriority |     o_clerk     | o_shippriority |                               o_comment                               |\n",
       "+------------+-----------+---------------+--------------+-------------+-----------------+-----------------+----------------+-----------------------------------------------------------------------+\n",
       "|    1252    |    1499   |       O       |  135540.70   |  1997-08-04 |      5-LOW      | Clerk#000000348 |       0        |  packages use blithely across the furiously express excuses. carefull |\n",
       "|    1472    |    1499   |       O       |   72730.13   |  1996-10-06 |      5-LOW      | Clerk#000000303 |       0        |      riously requests. quickly even requests boost slyly. furiou      |\n",
       "|    3523    |    1499   |       O       |  179947.37   |  1998-04-07 |      2-HIGH     | Clerk#000000688 |       0        |                     ckages. regular, express ideas                    |\n",
       "|    7301    |    1499   |       F       |   35717.11   |  1993-12-29 |      5-LOW      | Clerk#000000143 |       0        |                      heodolites haggle. blithely                      |\n",
       "|    8197    |    1499   |       O       |  158353.88   |  1998-01-07 |      2-HIGH     | Clerk#000000473 |       0        |                  into beans. furiously even deposits                  |\n",
       "|   15328    |    1499   |       O       |   72202.04   |  1997-01-06 |     1-URGENT    | Clerk#000000750 |       0        |      sublate fluffily fluffily final accounts. carefully ironic pa    |\n",
       "|   21410    |    1499   |       F       |   54168.29   |  1992-05-02 |     1-URGENT    | Clerk#000000944 |       0        |              e ironically final packages. carefully final             |\n",
       "|   26210    |    1499   |       F       |  203425.25   |  1993-02-26 | 4-NOT SPECIFIED | Clerk#000000344 |       0        |                      usly ironic packages nag. s                      |\n",
       "|   28867    |    1499   |       O       |  187970.14   |  1995-07-23 |     3-MEDIUM    | Clerk#000000322 |       0        |    special, ironic packages. bold, special deposits wake above the    |\n",
       "|   35143    |    1499   |       O       |   29798.01   |  1995-10-06 |      5-LOW      | Clerk#000000871 |       0        |                     silent theodolites. slyly fin                     |\n",
       "+------------+-----------+---------------+--------------+-------------+-----------------+-----------------+----------------+-----------------------------------------------------------------------+\n",
       "Truncated to displaylimit of 10."
      ]
     },
     "execution_count": 134,
     "metadata": {},
     "output_type": "execute_result"
    }
   ],
   "source": [
    "%%sql\n",
    "-- Will show the first ten customer's records with the highest custkey\n",
    "SELECT\n",
    "  *\n",
    "FROM\n",
    "  orders\n",
    "ORDER BY\n",
    "  o_custkey DESC\n",
    "LIMIT\n",
    "  10;"
   ]
  },
  {
   "cell_type": "markdown",
   "id": "a484789b-b9d7-451c-9ee4-1be0b72a2bd9",
   "metadata": {},
   "source": [
    "\n",
    "# [JOINS] Combine data from multiple tables using JOINs (there are different types of JOINs)\n",
    "\n",
    "We can combine data from multiple tables using joins. When we write a join query, we have a format as shown below.\n",
    "\n",
    "```sql\n",
    "-- not based on real tables\n",
    "SELECT\n",
    "    a.*\n",
    "FROM\n",
    "    table_a a -- LEFT table a\n",
    "    JOIN table_b b -- RIGHT table b\n",
    "    ON a.id = b.id\n",
    "```\n",
    "\n",
    "The table specified first (table_a) is the left table, whereas the table established second is the right table. When we have multiple tables joined, we consider the joined dataset from the first two tables as the left table and the third table as the right table (The DB optimizes the joins for performance).\n",
    "\n",
    "```sql\n",
    "-- not based on real tables\n",
    "SELECT\n",
    "    a.*\n",
    "FROM\n",
    "    table_a a -- LEFT table a\n",
    "    JOIN table_b b -- RIGHT table b\n",
    "    ON a.id = b.id\n",
    "    JOIN table_c c -- LEFT table is the joined data from \n",
    "-- table_a & table_b, right table is table_c\n",
    "    ON a.c_id = c.id\n",
    "```\n",
    "\n",
    "There are five main types of joins, they are:\n",
    "\n",
    "## 1. Inner join (default): Get only rows in both tables\n",
    "\n"
   ]
  },
  {
   "cell_type": "code",
   "execution_count": 135,
   "id": "52c7727f-e538-4fe5-861f-8340910ab5c7",
   "metadata": {},
   "outputs": [
    {
     "data": {
      "text/html": [
       "<span style=\"None\">Running query in &#x27;duckdb&#x27;</span>"
      ],
      "text/plain": [
       "Running query in 'duckdb'"
      ]
     },
     "metadata": {},
     "output_type": "display_data"
    },
    {
     "data": {
      "text/html": [
       "<table>\n",
       "    <thead>\n",
       "        <tr>\n",
       "            <th>o_orderkey</th>\n",
       "            <th>l_orderkey</th>\n",
       "        </tr>\n",
       "    </thead>\n",
       "    <tbody>\n",
       "        <tr>\n",
       "            <td>7</td>\n",
       "            <td>7</td>\n",
       "        </tr>\n",
       "        <tr>\n",
       "            <td>32</td>\n",
       "            <td>32</td>\n",
       "        </tr>\n",
       "        <tr>\n",
       "            <td>33</td>\n",
       "            <td>33</td>\n",
       "        </tr>\n",
       "        <tr>\n",
       "            <td>69</td>\n",
       "            <td>69</td>\n",
       "        </tr>\n",
       "        <tr>\n",
       "            <td>71</td>\n",
       "            <td>71</td>\n",
       "        </tr>\n",
       "        <tr>\n",
       "            <td>132</td>\n",
       "            <td>132</td>\n",
       "        </tr>\n",
       "        <tr>\n",
       "            <td>133</td>\n",
       "            <td>133</td>\n",
       "        </tr>\n",
       "        <tr>\n",
       "            <td>198</td>\n",
       "            <td>198</td>\n",
       "        </tr>\n",
       "        <tr>\n",
       "            <td>259</td>\n",
       "            <td>259</td>\n",
       "        </tr>\n",
       "        <tr>\n",
       "            <td>260</td>\n",
       "            <td>260</td>\n",
       "        </tr>\n",
       "    </tbody>\n",
       "</table>\n",
       "<span style=\"font-style:italic;text-align:center;\">Truncated to <a href=\"https://jupysql.ploomber.io/en/latest/api/configuration.html#displaylimit\">displaylimit</a> of 10.</span>"
      ],
      "text/plain": [
       "+------------+------------+\n",
       "| o_orderkey | l_orderkey |\n",
       "+------------+------------+\n",
       "|     7      |     7      |\n",
       "|     32     |     32     |\n",
       "|     33     |     33     |\n",
       "|     69     |     69     |\n",
       "|     71     |     71     |\n",
       "|    132     |    132     |\n",
       "|    133     |    133     |\n",
       "|    198     |    198     |\n",
       "|    259     |    259     |\n",
       "|    260     |    260     |\n",
       "+------------+------------+\n",
       "Truncated to displaylimit of 10."
      ]
     },
     "execution_count": 135,
     "metadata": {},
     "output_type": "execute_result"
    }
   ],
   "source": [
    "%%sql\n",
    "SELECT\n",
    "  o.o_orderkey,\n",
    "  l.l_orderkey\n",
    "FROM\n",
    "  orders o\n",
    "  JOIN lineitem l ON o.o_orderkey = l.l_orderkey\n",
    "  AND o.o_orderdate BETWEEN l.l_shipdate - INTERVAL '5' DAY AND l.l_shipdate  + INTERVAL '5' DAY\n",
    "LIMIT\n",
    "  100;"
   ]
  },
  {
   "cell_type": "code",
   "execution_count": 136,
   "id": "69ec7c3c-a26c-49d0-9906-f62697427ce6",
   "metadata": {},
   "outputs": [
    {
     "data": {
      "text/html": [
       "<span style=\"None\">Running query in &#x27;duckdb&#x27;</span>"
      ],
      "text/plain": [
       "Running query in 'duckdb'"
      ]
     },
     "metadata": {},
     "output_type": "display_data"
    },
    {
     "data": {
      "text/html": [
       "<table>\n",
       "    <thead>\n",
       "        <tr>\n",
       "            <th>order_rows_count</th>\n",
       "            <th>lineitem_rows_count</th>\n",
       "        </tr>\n",
       "    </thead>\n",
       "    <tbody>\n",
       "        <tr>\n",
       "            <td>2477</td>\n",
       "            <td>2477</td>\n",
       "        </tr>\n",
       "    </tbody>\n",
       "</table>"
      ],
      "text/plain": [
       "+------------------+---------------------+\n",
       "| order_rows_count | lineitem_rows_count |\n",
       "+------------------+---------------------+\n",
       "|       2477       |         2477        |\n",
       "+------------------+---------------------+"
      ]
     },
     "execution_count": 136,
     "metadata": {},
     "output_type": "execute_result"
    }
   ],
   "source": [
    "%%sql\n",
    "SELECT\n",
    "  COUNT(o.o_orderkey) AS order_rows_count,\n",
    "  COUNT(l.l_orderkey) AS lineitem_rows_count\n",
    "FROM\n",
    "  orders o\n",
    "  JOIN lineitem l ON o.o_orderkey = l.l_orderkey\n",
    "  AND o.o_orderdate BETWEEN l.l_shipdate - INTERVAL '5' DAY AND l.l_shipdate  + INTERVAL '5' DAY;"
   ]
  },
  {
   "cell_type": "markdown",
   "id": "020a2a41-1988-4b6b-93ce-1dbe3a236117",
   "metadata": {},
   "source": [
    "**Note:** JOIN defaults to INNER JOIN.\n",
    "\n",
    "The output will have rows from orders and lineitem that found at least one matching row from the other table with the specified join condition (same o_orderkey and orderdate within ship date +/- 5 days). \n",
    "\n",
    "We can also see that 247650 rows from orders and lineitem tables matched.\n",
    "\n",
    "## 2. Left outer join (aka left join): Get all rows from the left table and only matching rows from the right table.\n",
    "\n"
   ]
  },
  {
   "cell_type": "code",
   "execution_count": 137,
   "id": "f10e9506-10a6-4ec1-8d49-3b833e017194",
   "metadata": {},
   "outputs": [
    {
     "data": {
      "text/html": [
       "<span style=\"None\">Running query in &#x27;duckdb&#x27;</span>"
      ],
      "text/plain": [
       "Running query in 'duckdb'"
      ]
     },
     "metadata": {},
     "output_type": "display_data"
    },
    {
     "data": {
      "text/html": [
       "<table>\n",
       "    <thead>\n",
       "        <tr>\n",
       "            <th>o_orderkey</th>\n",
       "            <th>l_orderkey</th>\n",
       "        </tr>\n",
       "    </thead>\n",
       "    <tbody>\n",
       "        <tr>\n",
       "            <td>7</td>\n",
       "            <td>7</td>\n",
       "        </tr>\n",
       "        <tr>\n",
       "            <td>32</td>\n",
       "            <td>32</td>\n",
       "        </tr>\n",
       "        <tr>\n",
       "            <td>33</td>\n",
       "            <td>33</td>\n",
       "        </tr>\n",
       "        <tr>\n",
       "            <td>69</td>\n",
       "            <td>69</td>\n",
       "        </tr>\n",
       "        <tr>\n",
       "            <td>71</td>\n",
       "            <td>71</td>\n",
       "        </tr>\n",
       "        <tr>\n",
       "            <td>132</td>\n",
       "            <td>132</td>\n",
       "        </tr>\n",
       "        <tr>\n",
       "            <td>133</td>\n",
       "            <td>133</td>\n",
       "        </tr>\n",
       "        <tr>\n",
       "            <td>198</td>\n",
       "            <td>198</td>\n",
       "        </tr>\n",
       "        <tr>\n",
       "            <td>259</td>\n",
       "            <td>259</td>\n",
       "        </tr>\n",
       "        <tr>\n",
       "            <td>260</td>\n",
       "            <td>260</td>\n",
       "        </tr>\n",
       "    </tbody>\n",
       "</table>\n",
       "<span style=\"font-style:italic;text-align:center;\">Truncated to <a href=\"https://jupysql.ploomber.io/en/latest/api/configuration.html#displaylimit\">displaylimit</a> of 10.</span>"
      ],
      "text/plain": [
       "+------------+------------+\n",
       "| o_orderkey | l_orderkey |\n",
       "+------------+------------+\n",
       "|     7      |     7      |\n",
       "|     32     |     32     |\n",
       "|     33     |     33     |\n",
       "|     69     |     69     |\n",
       "|     71     |     71     |\n",
       "|    132     |    132     |\n",
       "|    133     |    133     |\n",
       "|    198     |    198     |\n",
       "|    259     |    259     |\n",
       "|    260     |    260     |\n",
       "+------------+------------+\n",
       "Truncated to displaylimit of 10."
      ]
     },
     "execution_count": 137,
     "metadata": {},
     "output_type": "execute_result"
    }
   ],
   "source": [
    "%%sql\n",
    "SELECT\n",
    "  o.o_orderkey,\n",
    "  l.l_orderkey\n",
    "FROM\n",
    "  orders o\n",
    "  LEFT JOIN lineitem l ON o.o_orderkey = l.l_orderkey\n",
    "  AND o.o_orderdate BETWEEN l.l_shipdate - INTERVAL '5' DAY AND l.l_shipdate  + INTERVAL '5' DAY\n",
    "LIMIT\n",
    "  100;"
   ]
  },
  {
   "cell_type": "code",
   "execution_count": 138,
   "id": "a0fdbb07-6cef-4b82-902a-d5395d309db8",
   "metadata": {},
   "outputs": [
    {
     "data": {
      "text/html": [
       "<span style=\"None\">Running query in &#x27;duckdb&#x27;</span>"
      ],
      "text/plain": [
       "Running query in 'duckdb'"
      ]
     },
     "metadata": {},
     "output_type": "display_data"
    },
    {
     "data": {
      "text/html": [
       "<table>\n",
       "    <thead>\n",
       "        <tr>\n",
       "            <th>order_rows_count</th>\n",
       "            <th>lineitem_rows_count</th>\n",
       "        </tr>\n",
       "    </thead>\n",
       "    <tbody>\n",
       "        <tr>\n",
       "            <td>15197</td>\n",
       "            <td>2477</td>\n",
       "        </tr>\n",
       "    </tbody>\n",
       "</table>"
      ],
      "text/plain": [
       "+------------------+---------------------+\n",
       "| order_rows_count | lineitem_rows_count |\n",
       "+------------------+---------------------+\n",
       "|      15197       |         2477        |\n",
       "+------------------+---------------------+"
      ]
     },
     "execution_count": 138,
     "metadata": {},
     "output_type": "execute_result"
    }
   ],
   "source": [
    "%%sql\n",
    "SELECT\n",
    "  COUNT(o.o_orderkey) AS order_rows_count,\n",
    "  COUNT(l.l_orderkey) AS lineitem_rows_count\n",
    "FROM\n",
    "  orders o\n",
    "  LEFT JOIN lineitem l ON o.o_orderkey = l.l_orderkey\n",
    "  AND o.o_orderdate BETWEEN l.l_shipdate - INTERVAL '5' DAY AND l.l_shipdate  + INTERVAL '5' DAY;"
   ]
  },
  {
   "cell_type": "markdown",
   "id": "07cf6a9f-9e43-412e-a88b-fba9c6db3dcf",
   "metadata": {},
   "source": [
    "The output will have all the rows from orders and the rows from lineitem that were able to find at least one matching row from the orders table with the specified join condition (same o_orderkey and orderdate within ship date +/- 5 days). \n",
    "\n",
    "We can also see that the number of rows from the orders table is 1,519,332 & from the lineitem table is 247,650. The number of rows in orders is 1,500,000, but the join condition produces 1,519,332 since some orders match with multiple lineitems.\n",
    "\n",
    "## 3. Right outer join (aka right join): Get matching rows from the left and all rows from the right table.\n",
    "\n"
   ]
  },
  {
   "cell_type": "code",
   "execution_count": 139,
   "id": "26ecd171-9d1e-41e1-8c97-94bc2d3b34ee",
   "metadata": {},
   "outputs": [
    {
     "data": {
      "text/html": [
       "<span style=\"None\">Running query in &#x27;duckdb&#x27;</span>"
      ],
      "text/plain": [
       "Running query in 'duckdb'"
      ]
     },
     "metadata": {},
     "output_type": "display_data"
    },
    {
     "data": {
      "text/html": [
       "<table>\n",
       "    <thead>\n",
       "        <tr>\n",
       "            <th>o_orderkey</th>\n",
       "            <th>l_orderkey</th>\n",
       "        </tr>\n",
       "    </thead>\n",
       "    <tbody>\n",
       "        <tr>\n",
       "            <td>7</td>\n",
       "            <td>7</td>\n",
       "        </tr>\n",
       "        <tr>\n",
       "            <td>32</td>\n",
       "            <td>32</td>\n",
       "        </tr>\n",
       "        <tr>\n",
       "            <td>33</td>\n",
       "            <td>33</td>\n",
       "        </tr>\n",
       "        <tr>\n",
       "            <td>69</td>\n",
       "            <td>69</td>\n",
       "        </tr>\n",
       "        <tr>\n",
       "            <td>71</td>\n",
       "            <td>71</td>\n",
       "        </tr>\n",
       "        <tr>\n",
       "            <td>132</td>\n",
       "            <td>132</td>\n",
       "        </tr>\n",
       "        <tr>\n",
       "            <td>133</td>\n",
       "            <td>133</td>\n",
       "        </tr>\n",
       "        <tr>\n",
       "            <td>198</td>\n",
       "            <td>198</td>\n",
       "        </tr>\n",
       "        <tr>\n",
       "            <td>259</td>\n",
       "            <td>259</td>\n",
       "        </tr>\n",
       "        <tr>\n",
       "            <td>260</td>\n",
       "            <td>260</td>\n",
       "        </tr>\n",
       "    </tbody>\n",
       "</table>\n",
       "<span style=\"font-style:italic;text-align:center;\">Truncated to <a href=\"https://jupysql.ploomber.io/en/latest/api/configuration.html#displaylimit\">displaylimit</a> of 10.</span>"
      ],
      "text/plain": [
       "+------------+------------+\n",
       "| o_orderkey | l_orderkey |\n",
       "+------------+------------+\n",
       "|     7      |     7      |\n",
       "|     32     |     32     |\n",
       "|     33     |     33     |\n",
       "|     69     |     69     |\n",
       "|     71     |     71     |\n",
       "|    132     |    132     |\n",
       "|    133     |    133     |\n",
       "|    198     |    198     |\n",
       "|    259     |    259     |\n",
       "|    260     |    260     |\n",
       "+------------+------------+\n",
       "Truncated to displaylimit of 10."
      ]
     },
     "execution_count": 139,
     "metadata": {},
     "output_type": "execute_result"
    }
   ],
   "source": [
    "%%sql\n",
    "SELECT\n",
    "  o.o_orderkey,\n",
    "  l.l_orderkey\n",
    "FROM\n",
    "  orders o\n",
    "  RIGHT JOIN lineitem l ON o.o_orderkey = l.l_orderkey\n",
    "  AND o.o_orderdate BETWEEN l.l_shipdate - INTERVAL '5' DAY AND l.l_shipdate  + INTERVAL '5' DAY\n",
    "LIMIT\n",
    "  100;"
   ]
  },
  {
   "cell_type": "code",
   "execution_count": 140,
   "id": "9fb629c5-48cd-4227-ab98-63cb79db27c2",
   "metadata": {},
   "outputs": [
    {
     "data": {
      "text/html": [
       "<span style=\"None\">Running query in &#x27;duckdb&#x27;</span>"
      ],
      "text/plain": [
       "Running query in 'duckdb'"
      ]
     },
     "metadata": {},
     "output_type": "display_data"
    },
    {
     "data": {
      "text/html": [
       "<table>\n",
       "    <thead>\n",
       "        <tr>\n",
       "            <th>order_rows_count</th>\n",
       "            <th>lineitem_rows_count</th>\n",
       "        </tr>\n",
       "    </thead>\n",
       "    <tbody>\n",
       "        <tr>\n",
       "            <td>2477</td>\n",
       "            <td>60175</td>\n",
       "        </tr>\n",
       "    </tbody>\n",
       "</table>"
      ],
      "text/plain": [
       "+------------------+---------------------+\n",
       "| order_rows_count | lineitem_rows_count |\n",
       "+------------------+---------------------+\n",
       "|       2477       |        60175        |\n",
       "+------------------+---------------------+"
      ]
     },
     "execution_count": 140,
     "metadata": {},
     "output_type": "execute_result"
    }
   ],
   "source": [
    "%%sql\n",
    "SELECT\n",
    "  COUNT(o.o_orderkey) AS order_rows_count,\n",
    "  COUNT(l.l_orderkey) AS lineitem_rows_count\n",
    "FROM\n",
    "  orders o\n",
    "  RIGHT JOIN lineitem l ON o.o_orderkey = l.l_orderkey\n",
    "  AND o.o_orderdate BETWEEN l.l_shipdate - INTERVAL '5' DAY AND l.l_shipdate  + INTERVAL '5' DAY;"
   ]
  },
  {
   "cell_type": "markdown",
   "id": "f7753f8e-f120-4815-a170-793b63cd1a93",
   "metadata": {},
   "source": [
    "The output will have the rows from orders that found at least one matching row from the lineitem table with the specified join condition (same o_orderkey and orderdate within ship date +/- 5 days) and all the rows from the lineitem table.\n",
    "\n",
    "We can also see that the number of rows from the orders table is 247,650 & from the lineitem table is 6,001,215 .\n",
    "\n",
    "## 4. Full outer join: Get all rows from both the left and right tables.\n",
    "\n"
   ]
  },
  {
   "cell_type": "code",
   "execution_count": 141,
   "id": "09807ee3-179a-4d26-96f3-6f07ac0573c1",
   "metadata": {},
   "outputs": [
    {
     "data": {
      "text/html": [
       "<span style=\"None\">Running query in &#x27;duckdb&#x27;</span>"
      ],
      "text/plain": [
       "Running query in 'duckdb'"
      ]
     },
     "metadata": {},
     "output_type": "display_data"
    },
    {
     "data": {
      "text/html": [
       "<table>\n",
       "    <thead>\n",
       "        <tr>\n",
       "            <th>o_orderkey</th>\n",
       "            <th>l_orderkey</th>\n",
       "        </tr>\n",
       "    </thead>\n",
       "    <tbody>\n",
       "        <tr>\n",
       "            <td>7</td>\n",
       "            <td>7</td>\n",
       "        </tr>\n",
       "        <tr>\n",
       "            <td>32</td>\n",
       "            <td>32</td>\n",
       "        </tr>\n",
       "        <tr>\n",
       "            <td>33</td>\n",
       "            <td>33</td>\n",
       "        </tr>\n",
       "        <tr>\n",
       "            <td>69</td>\n",
       "            <td>69</td>\n",
       "        </tr>\n",
       "        <tr>\n",
       "            <td>71</td>\n",
       "            <td>71</td>\n",
       "        </tr>\n",
       "        <tr>\n",
       "            <td>132</td>\n",
       "            <td>132</td>\n",
       "        </tr>\n",
       "        <tr>\n",
       "            <td>133</td>\n",
       "            <td>133</td>\n",
       "        </tr>\n",
       "        <tr>\n",
       "            <td>198</td>\n",
       "            <td>198</td>\n",
       "        </tr>\n",
       "        <tr>\n",
       "            <td>259</td>\n",
       "            <td>259</td>\n",
       "        </tr>\n",
       "        <tr>\n",
       "            <td>260</td>\n",
       "            <td>260</td>\n",
       "        </tr>\n",
       "    </tbody>\n",
       "</table>\n",
       "<span style=\"font-style:italic;text-align:center;\">Truncated to <a href=\"https://jupysql.ploomber.io/en/latest/api/configuration.html#displaylimit\">displaylimit</a> of 10.</span>"
      ],
      "text/plain": [
       "+------------+------------+\n",
       "| o_orderkey | l_orderkey |\n",
       "+------------+------------+\n",
       "|     7      |     7      |\n",
       "|     32     |     32     |\n",
       "|     33     |     33     |\n",
       "|     69     |     69     |\n",
       "|     71     |     71     |\n",
       "|    132     |    132     |\n",
       "|    133     |    133     |\n",
       "|    198     |    198     |\n",
       "|    259     |    259     |\n",
       "|    260     |    260     |\n",
       "+------------+------------+\n",
       "Truncated to displaylimit of 10."
      ]
     },
     "execution_count": 141,
     "metadata": {},
     "output_type": "execute_result"
    }
   ],
   "source": [
    "%%sql\n",
    "SELECT\n",
    "  o.o_orderkey,\n",
    "  l.l_orderkey\n",
    "FROM\n",
    "  orders o\n",
    "  FULL OUTER JOIN lineitem l ON o.o_orderkey = l.l_orderkey\n",
    "  AND o.o_orderdate BETWEEN l.l_shipdate - INTERVAL '5' DAY AND l.l_shipdate  + INTERVAL '5' DAY\n",
    "LIMIT\n",
    "  100;"
   ]
  },
  {
   "cell_type": "code",
   "execution_count": 142,
   "id": "fcf8be52-093f-43d0-a110-5d78233b6e6e",
   "metadata": {},
   "outputs": [
    {
     "data": {
      "text/html": [
       "<span style=\"None\">Running query in &#x27;duckdb&#x27;</span>"
      ],
      "text/plain": [
       "Running query in 'duckdb'"
      ]
     },
     "metadata": {},
     "output_type": "display_data"
    },
    {
     "data": {
      "text/html": [
       "<table>\n",
       "    <thead>\n",
       "        <tr>\n",
       "            <th>order_rows_count</th>\n",
       "            <th>lineitem_rows_count</th>\n",
       "        </tr>\n",
       "    </thead>\n",
       "    <tbody>\n",
       "        <tr>\n",
       "            <td>15197</td>\n",
       "            <td>60175</td>\n",
       "        </tr>\n",
       "    </tbody>\n",
       "</table>"
      ],
      "text/plain": [
       "+------------------+---------------------+\n",
       "| order_rows_count | lineitem_rows_count |\n",
       "+------------------+---------------------+\n",
       "|      15197       |        60175        |\n",
       "+------------------+---------------------+"
      ]
     },
     "execution_count": 142,
     "metadata": {},
     "output_type": "execute_result"
    }
   ],
   "source": [
    "%%sql\n",
    "SELECT\n",
    "  COUNT(o.o_orderkey) AS order_rows_count,\n",
    "  COUNT(l.l_orderkey) AS lineitem_rows_count\n",
    "FROM\n",
    "  orders o\n",
    "  FULL OUTER JOIN lineitem l ON o.o_orderkey = l.l_orderkey\n",
    "  AND o.o_orderdate BETWEEN l.l_shipdate - INTERVAL '5' DAY AND l.l_shipdate  + INTERVAL '5' DAY;"
   ]
  },
  {
   "cell_type": "markdown",
   "id": "ac6d365b-7ed8-49e8-8b81-cf6f3a5009fe",
   "metadata": {},
   "source": [
    "The output will have all the rows from orders that found at least one matching row from the lineitem table with the specified join condition (same o_orderkey and orderdate within ship date +/- 5 days) and all the rows from the lineitem table.\n",
    "\n",
    "We can also see that the number of rows from the orders table is 1,519,332 & from the lineitem table is 6,001,215.\n",
    "\n",
    "## 5. Cross join: Get the cartesian product of all rows\n",
    "\n"
   ]
  },
  {
   "cell_type": "code",
   "execution_count": 143,
   "id": "8a3c8deb-81cd-42ca-b1c9-bbb13ee8d554",
   "metadata": {},
   "outputs": [
    {
     "data": {
      "text/html": [
       "<span style=\"None\">Running query in &#x27;duckdb&#x27;</span>"
      ],
      "text/plain": [
       "Running query in 'duckdb'"
      ]
     },
     "metadata": {},
     "output_type": "display_data"
    },
    {
     "data": {
      "text/html": [
       "<table>\n",
       "    <thead>\n",
       "        <tr>\n",
       "            <th>nation_c_name</th>\n",
       "            <th>region_c_name</th>\n",
       "        </tr>\n",
       "    </thead>\n",
       "    <tbody>\n",
       "        <tr>\n",
       "            <td>ALGERIA</td>\n",
       "            <td>AFRICA</td>\n",
       "        </tr>\n",
       "        <tr>\n",
       "            <td>ARGENTINA</td>\n",
       "            <td>AFRICA</td>\n",
       "        </tr>\n",
       "        <tr>\n",
       "            <td>BRAZIL</td>\n",
       "            <td>AFRICA</td>\n",
       "        </tr>\n",
       "        <tr>\n",
       "            <td>CANADA</td>\n",
       "            <td>AFRICA</td>\n",
       "        </tr>\n",
       "        <tr>\n",
       "            <td>EGYPT</td>\n",
       "            <td>AFRICA</td>\n",
       "        </tr>\n",
       "        <tr>\n",
       "            <td>ETHIOPIA</td>\n",
       "            <td>AFRICA</td>\n",
       "        </tr>\n",
       "        <tr>\n",
       "            <td>FRANCE</td>\n",
       "            <td>AFRICA</td>\n",
       "        </tr>\n",
       "        <tr>\n",
       "            <td>GERMANY</td>\n",
       "            <td>AFRICA</td>\n",
       "        </tr>\n",
       "        <tr>\n",
       "            <td>INDIA</td>\n",
       "            <td>AFRICA</td>\n",
       "        </tr>\n",
       "        <tr>\n",
       "            <td>INDONESIA</td>\n",
       "            <td>AFRICA</td>\n",
       "        </tr>\n",
       "    </tbody>\n",
       "</table>\n",
       "<span style=\"font-style:italic;text-align:center;\">Truncated to <a href=\"https://jupysql.ploomber.io/en/latest/api/configuration.html#displaylimit\">displaylimit</a> of 10.</span>"
      ],
      "text/plain": [
       "+---------------+---------------+\n",
       "| nation_c_name | region_c_name |\n",
       "+---------------+---------------+\n",
       "|    ALGERIA    |     AFRICA    |\n",
       "|   ARGENTINA   |     AFRICA    |\n",
       "|     BRAZIL    |     AFRICA    |\n",
       "|     CANADA    |     AFRICA    |\n",
       "|     EGYPT     |     AFRICA    |\n",
       "|    ETHIOPIA   |     AFRICA    |\n",
       "|     FRANCE    |     AFRICA    |\n",
       "|    GERMANY    |     AFRICA    |\n",
       "|     INDIA     |     AFRICA    |\n",
       "|   INDONESIA   |     AFRICA    |\n",
       "+---------------+---------------+\n",
       "Truncated to displaylimit of 10."
      ]
     },
     "execution_count": 143,
     "metadata": {},
     "output_type": "execute_result"
    }
   ],
   "source": [
    "%%sql\n",
    "SELECT\n",
    "  n.n_name AS nation_c_name,\n",
    "  r.r_name AS region_c_name\n",
    "FROM\n",
    "  nation n\n",
    "  CROSS JOIN region r;"
   ]
  },
  {
   "cell_type": "markdown",
   "id": "f0c8d2fd-ad41-4209-ba76-b01d8e51ff06",
   "metadata": {},
   "source": [
    "\n",
    "The output will have every row of the nation joined with every row of the region. There are 25 nations and five regions, leading to 125 rows in our result from the cross-join.\n",
    "\n",
    "![Joins](./assets/images/im_27_1.png)\n",
    "![Cross join](./assets/images/im_27_2.png)\n",
    "\n",
    "There are cases where we will need to join a table with itself, called a SELF-join.\n",
    "\n",
    "**Example**:\n",
    "\n",
    "1. For every customer order, get the order placed earlier in the same week (Sunday - Saturday, not the previous seven days). Only show customer orders that have at least one such order.\n",
    "\n"
   ]
  },
  {
   "cell_type": "code",
   "execution_count": 144,
   "id": "4ee37e36-77c1-4acb-873f-7d6fb6fd3c2a",
   "metadata": {},
   "outputs": [
    {
     "data": {
      "text/html": [
       "<span style=\"None\">Running query in &#x27;duckdb&#x27;</span>"
      ],
      "text/plain": [
       "Running query in 'duckdb'"
      ]
     },
     "metadata": {},
     "output_type": "display_data"
    },
    {
     "data": {
      "text/html": [
       "<table>\n",
       "    <thead>\n",
       "        <tr>\n",
       "            <th>o_custkey</th>\n",
       "        </tr>\n",
       "    </thead>\n",
       "    <tbody>\n",
       "        <tr>\n",
       "            <td>1228</td>\n",
       "        </tr>\n",
       "        <tr>\n",
       "            <td>23</td>\n",
       "        </tr>\n",
       "        <tr>\n",
       "            <td>776</td>\n",
       "        </tr>\n",
       "        <tr>\n",
       "            <td>949</td>\n",
       "        </tr>\n",
       "        <tr>\n",
       "            <td>121</td>\n",
       "        </tr>\n",
       "        <tr>\n",
       "            <td>1079</td>\n",
       "        </tr>\n",
       "        <tr>\n",
       "            <td>1087</td>\n",
       "        </tr>\n",
       "        <tr>\n",
       "            <td>715</td>\n",
       "        </tr>\n",
       "        <tr>\n",
       "            <td>943</td>\n",
       "        </tr>\n",
       "        <tr>\n",
       "            <td>946</td>\n",
       "        </tr>\n",
       "    </tbody>\n",
       "</table>\n",
       "<span style=\"font-style:italic;text-align:center;\">Truncated to <a href=\"https://jupysql.ploomber.io/en/latest/api/configuration.html#displaylimit\">displaylimit</a> of 10.</span>"
      ],
      "text/plain": [
       "+-----------+\n",
       "| o_custkey |\n",
       "+-----------+\n",
       "|    1228   |\n",
       "|     23    |\n",
       "|    776    |\n",
       "|    949    |\n",
       "|    121    |\n",
       "|    1079   |\n",
       "|    1087   |\n",
       "|    715    |\n",
       "|    943    |\n",
       "|    946    |\n",
       "+-----------+\n",
       "Truncated to displaylimit of 10."
      ]
     },
     "execution_count": 144,
     "metadata": {},
     "output_type": "execute_result"
    }
   ],
   "source": [
    "%%sql\n",
    "SELECT\n",
    "  o1.o_custkey\n",
    "FROM\n",
    "  orders o1\n",
    "  JOIN orders o2 ON o1.o_custkey = o2.o_custkey\n",
    "  AND YEAR (o1.o_orderdate) = YEAR (o2.o_orderdate)\n",
    "  AND week (o1.o_orderdate) = week (o2.o_orderdate)\n",
    "WHERE\n",
    "  o1.o_orderkey != o2.o_orderkey;"
   ]
  },
  {
   "cell_type": "markdown",
   "id": "8979b105-878b-4e52-8314-981266b86056",
   "metadata": {},
   "source": [
    "## [GROUP BY} Generate metrics for your dimension(s)"
   ]
  },
  {
   "cell_type": "markdown",
   "id": "e3271d14-526c-448f-9083-c29fd41b8847",
   "metadata": {},
   "source": [
    "\n",
    "Most analytical queries require calculating metrics that involve combining data from multiple rows. `GROUP BY` allows us to perform aggregate calculations on data from a set of rows grouped together based on values of specified column(s).\n",
    "\n",
    "**Example**:\n",
    "\n",
    "1. Create a report that shows the number of orders per orderpriority segment."
   ]
  },
  {
   "cell_type": "code",
   "execution_count": 145,
   "id": "b8ef3228-5a17-40bf-8877-c1d6a45f22e3",
   "metadata": {},
   "outputs": [
    {
     "data": {
      "text/html": [
       "<span style=\"None\">Running query in &#x27;duckdb&#x27;</span>"
      ],
      "text/plain": [
       "Running query in 'duckdb'"
      ]
     },
     "metadata": {},
     "output_type": "display_data"
    },
    {
     "data": {
      "text/html": [
       "<table>\n",
       "    <thead>\n",
       "        <tr>\n",
       "            <th>o_orderpriority</th>\n",
       "            <th>num_orders</th>\n",
       "        </tr>\n",
       "    </thead>\n",
       "    <tbody>\n",
       "        <tr>\n",
       "            <td>1-URGENT</td>\n",
       "            <td>3020</td>\n",
       "        </tr>\n",
       "        <tr>\n",
       "            <td>2-HIGH</td>\n",
       "            <td>3065</td>\n",
       "        </tr>\n",
       "        <tr>\n",
       "            <td>3-MEDIUM</td>\n",
       "            <td>2941</td>\n",
       "        </tr>\n",
       "        <tr>\n",
       "            <td>4-NOT SPECIFIED</td>\n",
       "            <td>3024</td>\n",
       "        </tr>\n",
       "        <tr>\n",
       "            <td>5-LOW</td>\n",
       "            <td>2950</td>\n",
       "        </tr>\n",
       "    </tbody>\n",
       "</table>"
      ],
      "text/plain": [
       "+-----------------+------------+\n",
       "| o_orderpriority | num_orders |\n",
       "+-----------------+------------+\n",
       "|     1-URGENT    |    3020    |\n",
       "|      2-HIGH     |    3065    |\n",
       "|     3-MEDIUM    |    2941    |\n",
       "| 4-NOT SPECIFIED |    3024    |\n",
       "|      5-LOW      |    2950    |\n",
       "+-----------------+------------+"
      ]
     },
     "execution_count": 145,
     "metadata": {},
     "output_type": "execute_result"
    }
   ],
   "source": [
    "%%sql\n",
    "SELECT\n",
    "  o_orderpriority,\n",
    "  COUNT(*) AS num_orders\n",
    "FROM\n",
    "  orders\n",
    "GROUP BY\n",
    "  o_orderpriority\n",
    "ORDER BY o_orderpriority;"
   ]
  },
  {
   "cell_type": "markdown",
   "id": "af308b08-219e-439d-ad38-03ca353f998e",
   "metadata": {},
   "source": [
    "\n",
    "In the above query, we group the data by `orderpriority`, and the calculation `count(*)` will be applied to the rows having a specific `orderpriority` value. The output will consist of one row per unique value of `orderpriority` and the `count(*)` calculation.\n",
    "\n",
    "![Group by](./assets/images/im_28.png)\n",
    "\n",
    "The calculations allowed are typically SUM/MIN/MAX/AVG/COUNT. However, some databases have more complex aggregate functions; check your DB documentation.\n"
   ]
  },
  {
   "cell_type": "markdown",
   "id": "e4338e68-d951-4814-abd1-7bfe996f86bd",
   "metadata": {},
   "source": [
    "\n",
    "# [SUB QUERY] Use the result of a query within a query using sub-queries\n",
    "\n",
    "When we want to use the result of a query as a table in another query, we use subqueries. **Example**:\n",
    "\n",
    "1. Create a report that shows the nation, how many items it supplied (by suppliers in that nation), and how many items it purchased (by customers in that nation). "
   ]
  },
  {
   "cell_type": "code",
   "execution_count": 146,
   "id": "b74cabb8-4d29-4be4-bd10-454aa22a1d67",
   "metadata": {},
   "outputs": [
    {
     "data": {
      "text/html": [
       "<span style=\"None\">Running query in &#x27;duckdb&#x27;</span>"
      ],
      "text/plain": [
       "Running query in 'duckdb'"
      ]
     },
     "metadata": {},
     "output_type": "display_data"
    },
    {
     "data": {
      "text/html": [
       "<table>\n",
       "    <thead>\n",
       "        <tr>\n",
       "            <th>nation_c_name</th>\n",
       "            <th>supplied_items_quantity</th>\n",
       "            <th>purchased_items_quantity</th>\n",
       "        </tr>\n",
       "    </thead>\n",
       "    <tbody>\n",
       "        <tr>\n",
       "            <td>ALGERIA</td>\n",
       "            <td>46352.00</td>\n",
       "            <td>70308.00</td>\n",
       "        </tr>\n",
       "        <tr>\n",
       "            <td>ARGENTINA</td>\n",
       "            <td>45608.00</td>\n",
       "            <td>54369.00</td>\n",
       "        </tr>\n",
       "        <tr>\n",
       "            <td>BRAZIL</td>\n",
       "            <td>32063.00</td>\n",
       "            <td>71220.00</td>\n",
       "        </tr>\n",
       "        <tr>\n",
       "            <td>CANADA</td>\n",
       "            <td>44901.00</td>\n",
       "            <td>79407.00</td>\n",
       "        </tr>\n",
       "        <tr>\n",
       "            <td>EGYPT</td>\n",
       "            <td>91424.00</td>\n",
       "            <td>76432.00</td>\n",
       "        </tr>\n",
       "        <tr>\n",
       "            <td>ETHIOPIA</td>\n",
       "            <td>43700.00</td>\n",
       "            <td>60866.00</td>\n",
       "        </tr>\n",
       "        <tr>\n",
       "            <td>FRANCE</td>\n",
       "            <td>32719.00</td>\n",
       "            <td>38875.00</td>\n",
       "        </tr>\n",
       "        <tr>\n",
       "            <td>GERMANY</td>\n",
       "            <td>78007.00</td>\n",
       "            <td>56108.00</td>\n",
       "        </tr>\n",
       "        <tr>\n",
       "            <td>INDIA</td>\n",
       "            <td>78674.00</td>\n",
       "            <td>54403.00</td>\n",
       "        </tr>\n",
       "        <tr>\n",
       "            <td>INDONESIA</td>\n",
       "            <td>75812.00</td>\n",
       "            <td>67067.00</td>\n",
       "        </tr>\n",
       "    </tbody>\n",
       "</table>\n",
       "<span style=\"font-style:italic;text-align:center;\">Truncated to <a href=\"https://jupysql.ploomber.io/en/latest/api/configuration.html#displaylimit\">displaylimit</a> of 10.</span>"
      ],
      "text/plain": [
       "+---------------+-------------------------+--------------------------+\n",
       "| nation_c_name | supplied_items_quantity | purchased_items_quantity |\n",
       "+---------------+-------------------------+--------------------------+\n",
       "|    ALGERIA    |         46352.00        |         70308.00         |\n",
       "|   ARGENTINA   |         45608.00        |         54369.00         |\n",
       "|     BRAZIL    |         32063.00        |         71220.00         |\n",
       "|     CANADA    |         44901.00        |         79407.00         |\n",
       "|     EGYPT     |         91424.00        |         76432.00         |\n",
       "|    ETHIOPIA   |         43700.00        |         60866.00         |\n",
       "|     FRANCE    |         32719.00        |         38875.00         |\n",
       "|    GERMANY    |         78007.00        |         56108.00         |\n",
       "|     INDIA     |         78674.00        |         54403.00         |\n",
       "|   INDONESIA   |         75812.00        |         67067.00         |\n",
       "+---------------+-------------------------+--------------------------+\n",
       "Truncated to displaylimit of 10."
      ]
     },
     "execution_count": 146,
     "metadata": {},
     "output_type": "execute_result"
    }
   ],
   "source": [
    "%%sql\n",
    "SELECT\n",
    "  n.n_name AS nation_c_name,\n",
    "  s.quantity AS supplied_items_quantity,\n",
    "  c.quantity AS purchased_items_quantity\n",
    "FROM\n",
    "  nation n\n",
    "  LEFT JOIN (\n",
    "    SELECT\n",
    "      n.n_nationkey,\n",
    "      SUM(l.l_quantity) AS quantity\n",
    "    FROM\n",
    "      lineitem l\n",
    "      JOIN supplier s ON l.l_suppkey = s.s_suppkey\n",
    "      JOIN nation n ON s.s_nationkey = n.n_nationkey\n",
    "    GROUP BY\n",
    "      n.n_nationkey\n",
    "  ) s ON n.n_nationkey = s.n_nationkey\n",
    "  LEFT JOIN (\n",
    "    SELECT\n",
    "      n.n_nationkey,\n",
    "      SUM(l.l_quantity) AS quantity\n",
    "    FROM\n",
    "      lineitem l\n",
    "      JOIN orders o ON l.l_orderkey = o.o_orderkey\n",
    "      JOIN customer c ON o.o_custkey = c.c_custkey\n",
    "      JOIN nation n ON c.c_nationkey = n.n_nationkey\n",
    "    GROUP BY\n",
    "      n.n_nationkey\n",
    "  ) c ON n.n_nationkey = c.n_nationkey;"
   ]
  },
  {
   "cell_type": "markdown",
   "id": "5074460a-dd63-429f-a5c4-baa750cacb62",
   "metadata": {},
   "source": [
    "\n",
    "In the above query, we can see that there are two sub-queries, one to calculate the quantity supplied by a nation and the other to calculate the quantity purchased by the customers of a nation.\n",
    "\n",
    "# [CASE WHEN] Replicate IF.ELSE logic with CASE statements\n",
    "\n",
    "We can do conditional logic in the `SELECT ... FROM` part of our query, as shown below.\n",
    "\n"
   ]
  },
  {
   "cell_type": "code",
   "execution_count": 147,
   "id": "9bb6f0f9-fad5-4ae9-a45f-bed2b56429da",
   "metadata": {},
   "outputs": [
    {
     "data": {
      "text/html": [
       "<span style=\"None\">Running query in &#x27;duckdb&#x27;</span>"
      ],
      "text/plain": [
       "Running query in 'duckdb'"
      ]
     },
     "metadata": {},
     "output_type": "display_data"
    },
    {
     "data": {
      "text/html": [
       "<table>\n",
       "    <thead>\n",
       "        <tr>\n",
       "            <th>o_orderkey</th>\n",
       "            <th>o_totalprice</th>\n",
       "            <th>order_price_bucket</th>\n",
       "        </tr>\n",
       "    </thead>\n",
       "    <tbody>\n",
       "        <tr>\n",
       "            <td>1</td>\n",
       "            <td>172799.49</td>\n",
       "            <td>high</td>\n",
       "        </tr>\n",
       "        <tr>\n",
       "            <td>2</td>\n",
       "            <td>38426.09</td>\n",
       "            <td>medium</td>\n",
       "        </tr>\n",
       "        <tr>\n",
       "            <td>3</td>\n",
       "            <td>205654.30</td>\n",
       "            <td>high</td>\n",
       "        </tr>\n",
       "        <tr>\n",
       "            <td>4</td>\n",
       "            <td>56000.91</td>\n",
       "            <td>medium</td>\n",
       "        </tr>\n",
       "        <tr>\n",
       "            <td>5</td>\n",
       "            <td>105367.67</td>\n",
       "            <td>high</td>\n",
       "        </tr>\n",
       "        <tr>\n",
       "            <td>6</td>\n",
       "            <td>45523.10</td>\n",
       "            <td>medium</td>\n",
       "        </tr>\n",
       "        <tr>\n",
       "            <td>7</td>\n",
       "            <td>271885.66</td>\n",
       "            <td>high</td>\n",
       "        </tr>\n",
       "        <tr>\n",
       "            <td>32</td>\n",
       "            <td>198665.57</td>\n",
       "            <td>high</td>\n",
       "        </tr>\n",
       "        <tr>\n",
       "            <td>33</td>\n",
       "            <td>146567.24</td>\n",
       "            <td>high</td>\n",
       "        </tr>\n",
       "        <tr>\n",
       "            <td>34</td>\n",
       "            <td>73315.48</td>\n",
       "            <td>medium</td>\n",
       "        </tr>\n",
       "    </tbody>\n",
       "</table>\n",
       "<span style=\"font-style:italic;text-align:center;\">Truncated to <a href=\"https://jupysql.ploomber.io/en/latest/api/configuration.html#displaylimit\">displaylimit</a> of 10.</span>"
      ],
      "text/plain": [
       "+------------+--------------+--------------------+\n",
       "| o_orderkey | o_totalprice | order_price_bucket |\n",
       "+------------+--------------+--------------------+\n",
       "|     1      |  172799.49   |        high        |\n",
       "|     2      |   38426.09   |       medium       |\n",
       "|     3      |  205654.30   |        high        |\n",
       "|     4      |   56000.91   |       medium       |\n",
       "|     5      |  105367.67   |        high        |\n",
       "|     6      |   45523.10   |       medium       |\n",
       "|     7      |  271885.66   |        high        |\n",
       "|     32     |  198665.57   |        high        |\n",
       "|     33     |  146567.24   |        high        |\n",
       "|     34     |   73315.48   |       medium       |\n",
       "+------------+--------------+--------------------+\n",
       "Truncated to displaylimit of 10."
      ]
     },
     "execution_count": 147,
     "metadata": {},
     "output_type": "execute_result"
    }
   ],
   "source": [
    "%%sql\n",
    "SELECT\n",
    "    o_orderkey,\n",
    "    o_totalprice,\n",
    "    CASE\n",
    "        WHEN o_totalprice > 100000 THEN 'high'\n",
    "        WHEN o_totalprice BETWEEN 25000\n",
    "        AND 100000 THEN 'medium'\n",
    "        ELSE 'low'\n",
    "    END AS order_price_bucket\n",
    "FROM\n",
    "    orders;"
   ]
  },
  {
   "cell_type": "markdown",
   "id": "af66bb45-07cc-4cd3-af3c-df846892f8c7",
   "metadata": {},
   "source": [
    "We can see how we display different values depending on the `totalprice` column. We can also use multiple criteria as our conditional criteria (e.g., totalprice > 100000 AND orderpriority = '2-HIGH').\n",
    "\n",
    "# [STANDARD FUNCTION] Use standard inbuilt DB functions for common String, Time, and Numeric data manipulation\n",
    "\n",
    "When processing data, more often than not, we will need to change values in columns; shown below are a few standard functions to be aware of:\n",
    "\n",
    "1. **String functions**\n",
    "   1. **LENGTH** is used to calculate the length of a string. E.g., `SELECT LENGTH('hi');` will output 2.\n",
    "   2. **CONCAT** combines multiple string columns into one. E.g., `SELECT CONCAT(o_orderstatus, '-', o_orderpriority) FROM ORDERS LIMIT 5;` will concatenate the o_orderstatus and o_orderpriority columns with a dash in between them.\n",
    "   3. **SPLIT** is used to split a value into an array based on a given delimiter. E.g., `SELECT STRING_SPLIT(o_orderpriority, '-') FROM ORDERS LIMIT 5;` will output a column with arrays formed by splitting o_orderpriority values on `-`.\n",
    "   4. **SUBSTRING** is used to get a sub-string from a value, given the start and end character indices. E.g., `SELECT o_orderpriority, SUBSTRING(o_orderpriority, 1, 5) FROM orders LIMIT 5;` will get the first five (1 - 5) characters of the o_orderpriority column.\n",
    "   5. **TRIM** is used to remove empty spaces to the left and right of the value. E.g., `SELECT TRIM(' hi ');` will output `hi` without any spaces around it. LTRIM and RTRIM are similar but only remove spaces before and after the string, respectively.\n",
    "2. **Date and Time functions**\n",
    "   1. **Adding and subtracting dates**: Is used to add and subtract periods; the format heavily depends on the DB. In DuckDB, `date_diff` accepts 3 parameters, the outputs unit (day, month, year), the datetime/date values a and b such that the output will be a - b. The `+ INTERVAL n UNIT(DAY/MONTH/YEAR)` adds the value (in specified units) to the timestamp value.\n",
    "      ```sql\n",
    "        -- Date and Time Functions\n",
    "        SELECT\n",
    "            date_diff('day', DATE '2022-10-01', DATE '2023-11-05') AS diff_in_days,\n",
    "            date_diff('month', DATE '2022-10-01', DATE '2023-11-05') AS diff_in_months,\n",
    "            date_diff('year', DATE '2022-10-01', DATE '2023-11-05') AS diff_in_years,\n",
    "            DATE '2022-10-01' + INTERVAL 400 DAY AS new_date;\n",
    "      ```\n",
    "    It will show the difference between the two dates in the specified period. We can also add/subtract an arbitrary period from a date/time column. E.g., `SELECT DATE '2022-11-05' + INTERVAL '10' DAY;` will show the output `2022-11-15` (try subtraction of dates).\n",
    "   2. **String <=> date/time conversions**: When we want to change the data type of a string to date/time, we can use the `DATE 'YYYY-MM-DD'` or `TIMESTAMP 'YYYY-MM-DD HH:mm:SS'` functions. But when the data is in a non-standard date/time format such as `MM/DD/YYYY`, we will need to specify the input structure; we do this using `strptime`, E.g., `SELECT strptime('11-05-2023', '%m-%d-%Y');`.  \n",
    "   \n",
    "   We can convert a timestamp/date into a string with the required format using `strftime`. E.g., `SELECT strftime(o_orderdate, '%Y-%m-01') AS first_month_date FROM orders LIMIT 5;` will map every o_orderdate to the first of their month.\n",
    "\n",
    "   See [this page](https://duckdb.org/docs/sql/functions/date) on how to set the proper date time format.\n",
    "   3. **Time frame functions (YEAR/MONTH/DAY)**:  When we want to extract specific periods from a date/time column, we can use these functions. E.g., `SELECT year(DATE '2023-11-05');` will return 2023. Similarly, we have month, day, hour, min, etc.\n",
    "3. **Numeric**\n",
    "   1. **ROUND** is used to specify the number of digits allowed after the decimal point. E.g. `SELECT ROUND(100.102345, 2);`\n",
    "   2. **ABS** is used to get the absolute value of a given number. E.g. `SELECT ABS(-100), ABS(100);` \n",
    "   3. **Mathematical operations** these are +,-,*,/.\n",
    "   4. **Ceil/Floor** is used to get the next higher and most recent lower integers, given a decimal digit. E.g. `SELECT CEIL(100.1), FLOOR(100.1);`"
   ]
  }
 ],
 "metadata": {
  "kernelspec": {
   "display_name": "Python 3 (ipykernel)",
   "language": "python",
   "name": "python3"
  },
  "language_info": {
   "codemirror_mode": {
    "name": "ipython",
    "version": 3
   },
   "file_extension": ".py",
   "mimetype": "text/x-python",
   "name": "python",
   "nbconvert_exporter": "python",
   "pygments_lexer": "ipython3",
   "version": "3.12.4"
  }
 },
 "nbformat": 4,
 "nbformat_minor": 5
}
