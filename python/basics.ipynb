{
 "cells": [
  {
   "cell_type": "markdown",
   "id": "75ae4b2b-404b-43d5-a227-468ce4d9b335",
   "metadata": {},
   "source": [
    "# Variable: A storage location identified by its name, containing some value."
   ]
  },
  {
   "cell_type": "code",
   "execution_count": null,
   "id": "633ab329-2d4d-427f-b87c-f60ab08fa1cb",
   "metadata": {},
   "outputs": [],
   "source": [
    "# Value of 10 is assigned to variable a and 20 to variable b\n",
    "a = 10\n",
    "b = 20"
   ]
  },
  {
   "cell_type": "markdown",
   "id": "9f122f26-e406-47e7-87e5-84dc44274e81",
   "metadata": {},
   "source": [
    "We can do any operation (arithmetic for numbers, string transformation for text) on variables."
   ]
  },
  {
   "cell_type": "code",
   "execution_count": null,
   "id": "8232788c-091d-422b-ba64-5361892b90db",
   "metadata": {},
   "outputs": [],
   "source": [
    "c = a + b\n",
    "print(c)  # Will print 30"
   ]
  },
  {
   "cell_type": "code",
   "execution_count": null,
   "id": "03e7d2a8-b944-4ffa-972e-544c6b038cc9",
   "metadata": {},
   "outputs": [],
   "source": [
    "s = '  Some string '\n",
    "# We can perform an operation on this string, for example, let's remove the empty spaces in front of and behind the string\n",
    "\n",
    "# How do you remove the empty spaces in front of and behind the string s?\n",
    "print(s.strip())"
   ]
  },
  {
   "cell_type": "markdown",
   "id": "e12d236b-ab76-4fd8-b365-ff20c01b27cd",
   "metadata": {},
   "source": [
    "# Data Structures are ways of representing data\n",
    "\n",
    "Every data structure has its own pros and cons."
   ]
  },
  {
   "cell_type": "markdown",
   "id": "cadde3a4-b23a-410e-8741-a720af87911f",
   "metadata": {},
   "source": [
    "## List: A collection of elements that can be accessed by knowing the location (aka index) of the element"
   ]
  },
  {
   "cell_type": "code",
   "execution_count": null,
   "id": "a9517792-ba76-4847-9fb4-467c01bb0ed1",
   "metadata": {},
   "outputs": [],
   "source": [
    "l = [1, 2, 3, 4, 'k']\n",
    "\n",
    "# How do you access the elements in index 0 and 3?\n",
    "print(l[0])  # Will print 1\n",
    "print(l[3])  # Will print 4"
   ]
  },
  {
   "cell_type": "markdown",
   "id": "f52a58c6-1132-4411-a627-fb3e0027edcf",
   "metadata": {},
   "source": [
    "lists retain the order of elements in it. "
   ]
  },
  {
   "cell_type": "markdown",
   "id": "2af9d999-553a-45d0-a16b-f18e7344c90d",
   "metadata": {},
   "source": [
    "## Dictionary: A collection of key-value pairs, where each key is mapped to a value using a hash function. Provides fast data retrieval based on keys."
   ]
  },
  {
   "cell_type": "code",
   "execution_count": null,
   "id": "7b8abcaa-3b6b-412c-91cd-7d3a39803e4b",
   "metadata": {},
   "outputs": [],
   "source": [
    "d = {'a': 1, 'b': 2}\n",
    "print(d.get('a'))  # Will print 1\n",
    "print(d.get('b'))  # Will print 2"
   ]
  },
  {
   "cell_type": "markdown",
   "id": "3a112e72-5527-4438-95d2-a5db6a142c5d",
   "metadata": {},
   "source": [
    "NOTE: The dictionary cannot have duplicate keys\n"
   ]
  },
  {
   "cell_type": "markdown",
   "id": "f4414626-14c5-4dc4-899f-ba64ddbef86f",
   "metadata": {},
   "source": [
    "## Set: A collection of unique elements that do not allow duplicates"
   ]
  },
  {
   "cell_type": "code",
   "execution_count": null,
   "id": "2553b7ad-d1bf-4a70-82e9-0bf2e649e077",
   "metadata": {},
   "outputs": [],
   "source": [
    "my_set = set()\n",
    "my_set.add(10)\n",
    "my_set.add(10)\n",
    "my_set.add(10)\n",
    "print(my_set)"
   ]
  },
  {
   "cell_type": "code",
   "execution_count": null,
   "id": "6e4bb3d0-5e94-440b-bc2d-157058092842",
   "metadata": {},
   "outputs": [],
   "source": [
    "my_set.add(11)\n",
    "my_set.add(12)\n",
    "my_set.remove(10) # remove element in set with remove\n",
    "print(my_set)"
   ]
  },
  {
   "cell_type": "markdown",
   "id": "bdae4bb0-49cb-4063-9297-54fdfe5fb55b",
   "metadata": {},
   "source": [
    "# [Loop] Operate on elements in a datastructure one element at a time"
   ]
  },
  {
   "cell_type": "markdown",
   "id": "b0e5eb3a-e518-4fe1-b102-eb3bfff6aa3e",
   "metadata": {},
   "source": [
    "## Repeat a set of line of code n number of times\n",
    "\n",
    "For example, print the word 'Hello world repetition_number' 5 times"
   ]
  },
  {
   "cell_type": "code",
   "execution_count": null,
   "id": "8a28627a-0e43-405f-afc1-d04192baa35f",
   "metadata": {},
   "outputs": [],
   "source": [
    "for i in range(5):\n",
    "    print(f'Hello World {i}')"
   ]
  },
  {
   "cell_type": "markdown",
   "id": "00e36acf-b58c-445f-949d-7f4ea31271c5",
   "metadata": {},
   "source": [
    "Note that the range goes from 0 to n - 1(4 in our case)"
   ]
  },
  {
   "cell_type": "markdown",
   "id": "a789674d-cbbf-4e77-b717-f29c6b19b9d8",
   "metadata": {},
   "source": [
    "## Loop through elements in list as shown below"
   ]
  },
  {
   "cell_type": "code",
   "execution_count": null,
   "id": "e5bbbe4d-04d3-4299-b8b3-f2b1514482c6",
   "metadata": {},
   "outputs": [],
   "source": [
    "l = ['a', 'b', 'c', 'd']\n",
    "\n",
    "for elt in l:\n",
    "    print(elt)"
   ]
  },
  {
   "cell_type": "code",
   "execution_count": null,
   "id": "ac4c3cd4-c64c-4e48-9000-2d261f3b7b5b",
   "metadata": {},
   "outputs": [],
   "source": [
    "# use enumerate to get the index of an element in the list along with the element value\n",
    "for idx, elt in enumerate(l):\n",
    "    print(f'The {idx}th element is {elt}')"
   ]
  },
  {
   "cell_type": "markdown",
   "id": "0a356b68-4dd9-4fd4-98c1-745c077b75e8",
   "metadata": {},
   "source": [
    "## Loop through keys and values in a dictionary using items()"
   ]
  },
  {
   "cell_type": "code",
   "execution_count": null,
   "id": "174c0102-3251-4db2-ad16-7d049671f093",
   "metadata": {},
   "outputs": [],
   "source": [
    "d = {'a': 'value_of_a', 'b': 'value_of_b'}\n",
    "\n",
    "for k, v in d.items():\n",
    "    print(f'The key is {k} and value is {v}')"
   ]
  },
  {
   "cell_type": "markdown",
   "id": "72e3c20b-40f2-4d50-a1e0-2da88b840a44",
   "metadata": {},
   "source": [
    "# [IF] Only executed code when certain condition(s) are met\n",
    "\n",
    "In Python, the if statement is used to execute a block of code only if a specified condition is true. It allows your program to make decisions and run certain pieces of code based on the outcome of expressions.\n",
    "\n",
    "```python\n",
    "if condition:\n",
    "# code to execute if the condition is true\n",
    "```"
   ]
  },
  {
   "cell_type": "code",
   "execution_count": null,
   "id": "61c2075e-bd94-4c78-b182-66c34a2cd2fb",
   "metadata": {},
   "outputs": [],
   "source": [
    "x = 10\n",
    "\n",
    "if x > 5:\n",
    "    print(\"x is greater than 5\")\n"
   ]
  },
  {
   "cell_type": "markdown",
   "id": "2d189a66-d9eb-43c2-842d-d273953f04df",
   "metadata": {},
   "source": [
    "In this example, the condition x > 5 is true, so the program prints \"x is greater than 5\". If the condition were false, the block of code would be skipped."
   ]
  },
  {
   "cell_type": "markdown",
   "id": "36083ada-38e5-4073-99c8-1e7640ce0531",
   "metadata": {},
   "source": [
    "The **if...else statement** in Python allows you to define an alternative block of code to execute when the if condition is false. This is useful when you want to provide different behaviors based on different conditions.\n",
    "```python\n",
    "if condition:\n",
    "    # code to execute if the condition is true\n",
    "else:\n",
    "    # code to execute if the condition is false\n",
    "```"
   ]
  },
  {
   "cell_type": "code",
   "execution_count": null,
   "id": "1d012878-1c49-45b3-bc83-0e6507d797f1",
   "metadata": {},
   "outputs": [],
   "source": [
    "x = 3\n",
    "\n",
    "if x > 5:\n",
    "    print(\"x is greater than 5\")\n",
    "else:\n",
    "    print(\"x is 5 or less\")\n"
   ]
  },
  {
   "cell_type": "markdown",
   "id": "98da5203-7a68-4626-b471-cb406031e49e",
   "metadata": {},
   "source": [
    "In this example, since the condition x > 5 is false (because x is 3), the code inside the else block will be executed, printing \"x is 5 or less\"."
   ]
  },
  {
   "cell_type": "markdown",
   "id": "f04c6b7f-135d-4bc5-8f7e-e9641941c82d",
   "metadata": {},
   "source": [
    "**Using elif for Multiple Conditions:**\n",
    "\n",
    "If you want to test multiple conditions, you can use elif (short for \"else if\") to check additional conditions if the previous ones are false."
   ]
  },
  {
   "cell_type": "code",
   "execution_count": null,
   "id": "de1d900f-59eb-4372-9b0d-282c0a306869",
   "metadata": {},
   "outputs": [],
   "source": [
    "x = 5\n",
    "\n",
    "if x > 10:\n",
    "    print(\"x is greater than 10\")\n",
    "elif x == 5:\n",
    "    print(\"x is exactly 5\")\n",
    "else:\n",
    "    print(\"x is less than 5\")\n"
   ]
  },
  {
   "cell_type": "markdown",
   "id": "931f6f75-45e7-4595-bf5e-77f304602338",
   "metadata": {},
   "source": [
    "Here, the program first checks if x > 10, which is false, then it checks if x == 5, which is true, so it prints \"x is exactly 5\"."
   ]
  },
  {
   "cell_type": "markdown",
   "id": "0e5e58cb-d6a5-400d-8f90-1cf91b959bed",
   "metadata": {},
   "source": [
    "# Functions: A block of code that can be re-used as needed. \n",
    "A function allows for us to have logic defined in one place, making it easy to maintain and use."
   ]
  },
  {
   "cell_type": "code",
   "execution_count": null,
   "id": "9def52e6-59e9-4120-a2bc-07b78a366770",
   "metadata": {},
   "outputs": [],
   "source": [
    "def gt_three(input_list):\n",
    "    res = []\n",
    "    for elt in input_list:\n",
    "        if elt > 3:\n",
    "            res.append(elt)\n",
    "    return res"
   ]
  },
  {
   "cell_type": "code",
   "execution_count": null,
   "id": "c0dd3a3f-54b9-4df6-af82-41d124af5aff",
   "metadata": {},
   "outputs": [],
   "source": [
    "list_1 = [1, 2, 3, 4, 5, 6]\n",
    "# How do you use the gt_three function to filter elements greater than 3 from list_1?\n",
    "print(gt_three(list_1))  # Will print [4, 5, 6]"
   ]
  },
  {
   "cell_type": "markdown",
   "id": "910324bf-697c-4b09-b4d9-2ffd24ecabaa",
   "metadata": {},
   "source": [
    "# Classes and Objects\n",
    "Think of a class as a blueprint and objects as things created based on that blueprint. You can define classes in Python as shown below"
   ]
  },
  {
   "cell_type": "code",
   "execution_count": null,
   "id": "d3cedba2-13f8-4ecc-a728-2abb38dedc2f",
   "metadata": {},
   "outputs": [],
   "source": [
    "class DataExtractor:\n",
    "\n",
    "    def __init__(self, connect_to_system):\n",
    "        self.connect_to_system = connect_to_system\n",
    "\n",
    "    def get_connection(self):\n",
    "        print(f'Estabishing connection to {self.connect_to_system}')\n",
    "\n",
    "    def close_connection(self):\n",
    "        print(f'Closing connection to {self.connect_to_system}')\n"
   ]
  },
  {
   "cell_type": "code",
   "execution_count": null,
   "id": "2a1b53e3-c235-4cad-95af-866e830b9e02",
   "metadata": {},
   "outputs": [],
   "source": [
    "api_connector = DataExtractor('company_api')\n",
    "print(api_connector.connect_to_system)"
   ]
  },
  {
   "cell_type": "code",
   "execution_count": null,
   "id": "e7a46ba6-7c70-4563-b779-a1fcf4000701",
   "metadata": {},
   "outputs": [],
   "source": [
    "api_connector.get_connection()"
   ]
  },
  {
   "cell_type": "code",
   "execution_count": null,
   "id": "76779b84-2ec3-48cc-b7bb-d9258ccb8195",
   "metadata": {},
   "outputs": [],
   "source": [
    "api_connector.close_connection()"
   ]
  },
  {
   "cell_type": "code",
   "execution_count": null,
   "id": "bab2f2b9-1e32-447e-b702-e5d7a8335063",
   "metadata": {},
   "outputs": [],
   "source": [
    "json_connector = DataExtractor('json_api')\n",
    "print(json_connector.connect_to_system)\n",
    "json_connector.get_connection()\n",
    "json_connector.close_connection()"
   ]
  },
  {
   "cell_type": "markdown",
   "id": "446c42c8-3342-4dcd-a0ca-a838082871d1",
   "metadata": {},
   "source": [
    "Note that the class variables (`connect_to_system`) are unique per object."
   ]
  },
  {
   "cell_type": "markdown",
   "id": "4d1edcf6-3372-48ca-90d2-e3d759dcd0a3",
   "metadata": {},
   "source": [
    "# Python comes with standard libraries for common operations \n",
    "\n",
    "For example the datetime library to work with time (although there are better libraries). See [this for a full list](https://docs.python.org/3/library/index.html). "
   ]
  },
  {
   "cell_type": "code",
   "execution_count": null,
   "id": "e1567711-ea7b-4d7c-b3f5-9921817bb18b",
   "metadata": {},
   "outputs": [],
   "source": [
    "from datetime import datetime\n",
    "# Print the current date in the format 'YYYY MM DD'?\n",
    "print(datetime.now().strftime('%Y %m %d'))  # We can use multiple such methods"
   ]
  },
  {
   "cell_type": "markdown",
   "id": "aba3ca10-3cf5-4075-a161-eb900f470e7f",
   "metadata": {},
   "source": [
    "# Exception handling\n",
    "\n",
    "When an error occurs, we need our code to gracefully handle it without just stopping. Here is how we can handle errors when the program is running\n",
    "\n",
    "```python\n",
    "try:\n",
    "    # Code that might raise an exception\n",
    "except Exception as e: \n",
    "    # Code that runs if the exception occurs\n",
    "else:\n",
    "    # Code that runs if no exception occurs\n",
    "finally:\n",
    "    # Code that always runs, regardless of exceptions\n",
    "```"
   ]
  },
  {
   "cell_type": "code",
   "execution_count": null,
   "id": "6c657f4d-6a50-4beb-9e72-f8411cf2e543",
   "metadata": {},
   "outputs": [],
   "source": [
    "\n",
    "l = [1, 2, 3, 4, 5]\n",
    "\n",
    "# How do you handle an IndexError when accessing an invalid index in a list?\n",
    "index = 10\n",
    "try:\n",
    "    # Attempt to access an element at an invalid index\n",
    "    element = l[index]\n",
    "    print(f\"Element at index {index} is {element}\")\n",
    "except IndexError:\n",
    "    print(f\"Error: Index {index} is out of range for the list.\")\n",
    "else:\n",
    "    print(\"The else code block is run because there were no exceptions\")\n",
    "finally:\n",
    "    print(\"Execution completed.\")"
   ]
  },
  {
   "cell_type": "code",
   "execution_count": null,
   "id": "82295d23-f70b-4cb5-86f5-7fea1e494ba8",
   "metadata": {},
   "outputs": [],
   "source": [
    "index = 3\n",
    "try:\n",
    "    # Attempt to access an element at an invalid index\n",
    "    element = l[index]\n",
    "    print(f\"Element at index {index} is {element}\")\n",
    "except IndexError:\n",
    "    print(f\"Error: Index {index} is out of range for the list.\")\n",
    "else:\n",
    "    print(\"The else code block is run because there were no exceptions\")\n",
    "finally:\n",
    "    print(\"Execution completed.\")"
   ]
  }
 ],
 "metadata": {
  "kernelspec": {
   "display_name": "Python 3 (ipykernel)",
   "language": "python",
   "name": "python3"
  },
  "language_info": {
   "codemirror_mode": {
    "name": "ipython",
    "version": 3
   },
   "file_extension": ".py",
   "mimetype": "text/x-python",
   "name": "python",
   "nbconvert_exporter": "python",
   "pygments_lexer": "ipython3",
   "version": "3.12.4"
  }
 },
 "nbformat": 4,
 "nbformat_minor": 5
}
